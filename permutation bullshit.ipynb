{
 "metadata": {
  "name": "",
  "signature": "sha256:0dd25caeb1e5334df8622ab93205927727708cf9788b2016427d0c40b5cd210d"
 },
 "nbformat": 3,
 "nbformat_minor": 0,
 "worksheets": [
  {
   "cells": [
    {
     "cell_type": "code",
     "collapsed": false,
     "input": [
      "import itertools\n",
      "import math\n",
      "import string\n",
      "from pprint import pprint\n",
      "\n",
      "# pick your testing numbers here, total cards being divisible by number of people, obv, you jackasses. \n",
      "c = 12  # cards\n",
      "p = 4   # people\n",
      "h = c/p # hand size (cards per hand)\n",
      "\n",
      "s = string.ascii_uppercase[:c]"
     ],
     "language": "python",
     "metadata": {},
     "outputs": [],
     "prompt_number": 86
    },
    {
     "cell_type": "code",
     "collapsed": false,
     "input": [
      "# this cell is functionally useless. it was just helping me think. \n",
      "\n",
      "raw_permutes = itertools.permutations(s)\n",
      "#print len(list(raw_permutes))\n",
      "print math.factorial(c)\n",
      "for i in range(7): print raw_permutes.next()\n",
      "print 'etc...'"
     ],
     "language": "python",
     "metadata": {},
     "outputs": [
      {
       "output_type": "stream",
       "stream": "stdout",
       "text": [
        "479001600\n",
        "('A', 'B', 'C', 'D', 'E', 'F', 'G', 'H', 'I', 'J', 'K', 'L')\n",
        "('A', 'B', 'C', 'D', 'E', 'F', 'G', 'H', 'I', 'J', 'L', 'K')\n",
        "('A', 'B', 'C', 'D', 'E', 'F', 'G', 'H', 'I', 'K', 'J', 'L')\n",
        "('A', 'B', 'C', 'D', 'E', 'F', 'G', 'H', 'I', 'K', 'L', 'J')\n",
        "('A', 'B', 'C', 'D', 'E', 'F', 'G', 'H', 'I', 'L', 'J', 'K')\n",
        "('A', 'B', 'C', 'D', 'E', 'F', 'G', 'H', 'I', 'L', 'K', 'J')\n",
        "('A', 'B', 'C', 'D', 'E', 'F', 'G', 'H', 'J', 'I', 'K', 'L')\n",
        "etc...\n"
       ]
      }
     ],
     "prompt_number": 87
    },
    {
     "cell_type": "code",
     "collapsed": false,
     "input": [
      "# this creates all of the hands of size h you can make with c cards\n",
      "all_hands = list(itertools.combinations(s,p)) \n",
      "nh = len(all_hands) \n",
      "print nh\n",
      "print math.factorial(c) / ( math.factorial(c-p) * math.factorial(p) )\n",
      "pprint(all_hands[:7])\n",
      "print 'etc...'"
     ],
     "language": "python",
     "metadata": {},
     "outputs": [
      {
       "output_type": "stream",
       "stream": "stdout",
       "text": [
        "495\n",
        "495\n",
        "[('A', 'B', 'C', 'D'),\n",
        " ('A', 'B', 'C', 'E'),\n",
        " ('A', 'B', 'C', 'F'),\n",
        " ('A', 'B', 'C', 'G'),\n",
        " ('A', 'B', 'C', 'H'),\n",
        " ('A', 'B', 'C', 'I'),\n",
        " ('A', 'B', 'C', 'J')]\n",
        "etc...\n"
       ]
      }
     ],
     "prompt_number": 88
    },
    {
     "cell_type": "code",
     "collapsed": false,
     "input": [
      "# stick with me for a second. \n",
      "# these are all the combinations of the above hands that p people could have. \n",
      "# most of them are impossible, because there is only one of each card.\n",
      "# so..... \n",
      "possible_tables = list(itertools.combinations(all_hands,h))\n",
      "print len(possible_tables)\n",
      "print math.factorial(nh) / ( math.factorial(nh-h) * math.factorial(h) )\n",
      "pprint(possible_tables[:10])"
     ],
     "language": "python",
     "metadata": {},
     "outputs": [
      {
       "output_type": "stream",
       "stream": "stdout",
       "text": [
        "20092215\n",
        "20092215\n",
        "[(('A', 'B', 'C', 'D'), ('A', 'B', 'C', 'E'), ('A', 'B', 'C', 'F')),\n",
        " (('A', 'B', 'C', 'D'), ('A', 'B', 'C', 'E'), ('A', 'B', 'C', 'G')),\n",
        " (('A', 'B', 'C', 'D'), ('A', 'B', 'C', 'E'), ('A', 'B', 'C', 'H')),\n",
        " (('A', 'B', 'C', 'D'), ('A', 'B', 'C', 'E'), ('A', 'B', 'C', 'I')),\n",
        " (('A', 'B', 'C', 'D'), ('A', 'B', 'C', 'E'), ('A', 'B', 'C', 'J')),\n",
        " (('A', 'B', 'C', 'D'), ('A', 'B', 'C', 'E'), ('A', 'B', 'C', 'K')),\n",
        " (('A', 'B', 'C', 'D'), ('A', 'B', 'C', 'E'), ('A', 'B', 'C', 'L')),\n",
        " (('A', 'B', 'C', 'D'), ('A', 'B', 'C', 'E'), ('A', 'B', 'D', 'E')),\n",
        " (('A', 'B', 'C', 'D'), ('A', 'B', 'C', 'E'), ('A', 'B', 'D', 'F')),\n",
        " (('A', 'B', 'C', 'D'), ('A', 'B', 'C', 'E'), ('A', 'B', 'D', 'G'))]\n"
       ]
      }
     ],
     "prompt_number": 89
    },
    {
     "cell_type": "code",
     "collapsed": false,
     "input": [
      "# so this eliminates the sets of hands from above that have any repeated cards. \n",
      "real_tables = [t for t in possible_tables if len(set([a for b in t for a in b]))==len(s)]\n",
      "\n",
      "# TL;DR - empirically derived answer is the number pooped out here.\n",
      "print len(real_tables)\n",
      "pprint(real_tables[:7])"
     ],
     "language": "python",
     "metadata": {},
     "outputs": [
      {
       "output_type": "stream",
       "stream": "stdout",
       "text": [
        "5775\n",
        "[(('A', 'B', 'C', 'D'), ('E', 'F', 'G', 'H'), ('I', 'J', 'K', 'L')),\n",
        " (('A', 'B', 'C', 'D'), ('E', 'F', 'G', 'I'), ('H', 'J', 'K', 'L')),\n",
        " (('A', 'B', 'C', 'D'), ('E', 'F', 'G', 'J'), ('H', 'I', 'K', 'L')),\n",
        " (('A', 'B', 'C', 'D'), ('E', 'F', 'G', 'K'), ('H', 'I', 'J', 'L')),\n",
        " (('A', 'B', 'C', 'D'), ('E', 'F', 'G', 'L'), ('H', 'I', 'J', 'K')),\n",
        " (('A', 'B', 'C', 'D'), ('E', 'F', 'H', 'I'), ('G', 'J', 'K', 'L')),\n",
        " (('A', 'B', 'C', 'D'), ('E', 'F', 'H', 'J'), ('G', 'I', 'K', 'L'))]\n"
       ]
      }
     ],
     "prompt_number": 93
    },
    {
     "cell_type": "code",
     "collapsed": false,
     "input": [
      "# compare that numerical answer to your theoretical construction of choice here. \n",
      "# change the values of c and p above and choose \"run all\" from the cell menu\n",
      "print \"this is what vlad and laura said. they are the weiners!\"\n",
      "print math.factorial(c) / ( math.factorial(h) * math.pow(math.factorial(p),h) )\n",
      "print ''\n",
      "\n",
      "\n",
      "print \"mike's & laurie's c!/p!\"\n",
      "print math.factorial(c) / math.factorial(p)\n",
      "\n"
     ],
     "language": "python",
     "metadata": {},
     "outputs": [
      {
       "output_type": "stream",
       "stream": "stdout",
       "text": [
        "this is what vlad and laura said. they are the weiners!\n",
        "5775.0\n",
        "\n",
        "Mike & Laurie's c!/p!\n",
        "19958400\n"
       ]
      }
     ],
     "prompt_number": 91
    },
    {
     "cell_type": "markdown",
     "metadata": {},
     "source": [
      "##..."
     ]
    }
   ],
   "metadata": {}
  }
 ]
}