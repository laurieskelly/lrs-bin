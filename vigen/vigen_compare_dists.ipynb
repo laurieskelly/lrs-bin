{
 "cells": [
  {
   "cell_type": "code",
   "execution_count": 65,
   "metadata": {
    "collapsed": false
   },
   "outputs": [],
   "source": [
    "%matplotlib inline\n",
    "import pickle\n",
    "import glob\n",
    "import scipy\n",
    "from matplotlib import pyplot as plt\n",
    "import seaborn as sns"
   ]
  },
  {
   "cell_type": "code",
   "execution_count": 98,
   "metadata": {
    "collapsed": false
   },
   "outputs": [
    {
     "name": "stdout",
     "output_type": "stream",
     "text": [
      "16234 1493 2229049 0.00728292648569\n"
     ]
    }
   ],
   "source": [
    "# filename = glob.glob('../vigenstash/*.pkl')[-1]\n",
    "filename = '../vigenstash/pickle_vigen_latest.pkl'\n",
    "\n",
    "with open(filename,'r') as inpickle:\n",
    "    results = pickle.load(inpickle)\n",
    "    \n",
    "things,pairs,duds = results.values()\n",
    "print len(pairs), len(set(things)), len(set(things))**2, len(pairs)*1.0/len(set(things))**2"
   ]
  },
  {
   "cell_type": "code",
   "execution_count": 99,
   "metadata": {
    "collapsed": false
   },
   "outputs": [
    {
     "data": {
      "image/png": "[encoded data removed]",
      "text/plain": [
       "<matplotlib.figure.Figure at 0x10f78b890>"
      ]
     },
     "metadata": {},
     "output_type": "display_data"
    }
   ],
   "source": [
    "# simulation\n",
    "simulated_rs = []\n",
    "for _ in range(len(pairs)):\n",
    "    n = random.randint(10,18)\n",
    "    set1 = []\n",
    "    set2 = []\n",
    "    for _ in range(n):\n",
    "        set1.append(random.random())\n",
    "        set2.append(random.random())\n",
    "    simulated_rs.append(scipy.corrcoef(set1,set2)[0][1])\n",
    "plt.hist(simulated_rs, bins=24, color='orange',alpha=0.8);\n",
    "plt.hold(True)\n",
    "plt.hist(pairs.values(),bins=30,color='teal',alpha=0.8);"
   ]
  },
  {
   "cell_type": "code",
   "execution_count": null,
   "metadata": {
    "collapsed": true
   },
   "outputs": [],
   "source": []
  }
 ],
 "metadata": {
  "kernelspec": {
   "display_name": "Python 2",
   "language": "python",
   "name": "python2"
  },
  "language_info": {
   "codemirror_mode": {
    "name": "ipython",
    "version": 2
   },
   "file_extension": ".py",
   "mimetype": "text/x-python",
   "name": "python",
   "nbconvert_exporter": "python",
   "pygments_lexer": "ipython2",
   "version": "2.7.10"
  }
 },
 "nbformat": 4,
 "nbformat_minor": 0
}
