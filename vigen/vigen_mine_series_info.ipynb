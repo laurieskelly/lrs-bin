{
 "cells": [
  {
   "cell_type": "code",
   "execution_count": 2,
   "metadata": {
    "collapsed": false
   },
   "outputs": [],
   "source": [
    "%matplotlib inline\n",
    "\n",
    "import glob\n",
    "import random\n",
    "import pprint\n",
    "import pickle\n",
    "from  collections import defaultdict\n",
    "\n",
    "import scipy\n",
    "import numpy as np\n",
    "from matplotlib import pyplot as plt\n",
    "from bs4 import BeautifulSoup\n",
    "import seaborn as sns"
   ]
  },
  {
   "cell_type": "code",
   "execution_count": 195,
   "metadata": {
    "collapsed": false
   },
   "outputs": [
    {
     "name": "stdout",
     "output_type": "stream",
     "text": [
      "previously parsed: 24614\n",
      "current collection size: 25581\n",
      "previous # of series harvested: 1833\n",
      "new # of series harvested: 1885\n",
      "pickling ... \n",
      "\n",
      "generating simulated data...\n",
      "\n",
      "# published corr coefs in pickle: 25190\n",
      "# series in pickle: 1903\n",
      "# possible corrs: 3621409\n",
      "# proportion of possible published: 0.006956\n"
     ]
    },
    {
     "data": {
      "image/png": "[encoded data removed]",
      "text/plain": [
       "<matplotlib.figure.Figure at 0x1128dafd0>"
      ]
     },
     "metadata": {},
     "output_type": "display_data"
    }
   ],
   "source": [
    "#library = {}\n",
    "#simulated_coefs = []\n",
    "parsed_vigenfiles = vigenfiles[1:]\n",
    "\n",
    "print 'previously parsed: %d' % len(parsed_vigenfiles)\n",
    "\n",
    "vigenfiles = glob.glob('../vigenstash/*.html')\n",
    "print 'current collection size: %d' % len(vigenfiles)\n",
    "\n",
    "print 'previous # of series harvested: %d' % len(library)\n",
    "for i,page in enumerate(vigenfiles[1:]):\n",
    "    if page in parsed_vigenfiles:\n",
    "        continue\n",
    "    if not i%1000: print 'parsing %s' % page\n",
    "    \n",
    "    new_serieses = parse_vigenpage(page)\n",
    "    if not new_serieses:\n",
    "        continue\n",
    "    \n",
    "    for key,series in new_serieses.items():\n",
    "        if key not in library.keys():\n",
    "            library[key] = series\n",
    "\n",
    "print 'new # of series harvested: %d' % len(library)    \n",
    "\n",
    "print 'pickling ... \\n'\n",
    "with open('../vigen_serieses.pkl','w') as outpickle:\n",
    "    pickle.dump({'parsed_vigenfiles':parsed_vigenfiles,'library':library},outpickle)\n",
    "\n",
    "\n",
    "print 'generating simulated data...\\n'    \n",
    "    \n",
    "possible_coefs, baddies = get_all_coefs(library)\n",
    "simulated_coefs = get_simulated_coefs(len(coefs),existing=simulated_coefs)\n",
    "\n",
    "published_coefs = get_published_coefs()\n",
    "\n",
    "plt.figure(figsize=(10,8))\n",
    "plt.hist(simulated_coefs, bins=30, color='blue', alpha=0.6, normed=1);\n",
    "plt.hold(True)\n",
    "plt.hist(possible_coefs.values(), bins=30, color='orange', alpha=0.8, normed=1);\n",
    "plt.hist(published_coefs.values(), bins=30, color='teal', alpha=0.6, normed=1);"
   ]
  },
  {
   "cell_type": "code",
   "execution_count": 168,
   "metadata": {
    "collapsed": false
   },
   "outputs": [],
   "source": [
    "def plot_all_coefs(library):\n",
    "    coefs, baddies = get_all_coefs(library)\n",
    "    \n",
    "    plt.hist(coefs, bins=30);\n",
    "    \n",
    "def get_simulated_coefs(N, existing=[]):\n",
    "    simulated_coefs = existing\n",
    "    remainder = N - len(existing)\n",
    "    for _ in range(remainder):\n",
    "        n = random.randint(10,18)\n",
    "        dat = [[random.random() for i in range(n)] for j in range(2)]\n",
    "        simulated_coefs.append(scipy.corrcoef(dat)[0][1])\n",
    "    return simulated_coefs\n",
    "    \n",
    "def get_all_coefs(library):\n",
    "    snitch = _create_snitch(library)\n",
    "    coefs = {}\n",
    "    baddies = [] \n",
    "    \n",
    "    for ylen,keys in snitch.iteritems():\n",
    "        \n",
    "        if len(snitch[ylen]) < 2:\n",
    "            continue\n",
    "        cfs, baddies = _get_coef_matrix(keys, library, baddies)\n",
    "\n",
    "        coefs = _add_cfs_uniques(coefs,cfs,keys)\n",
    "    \n",
    "    return coefs, baddies\n",
    "\n",
    "\n",
    "def get_published_coefs():\n",
    "    filename = '../vigenstash/pickle_vigen_latest.pkl'\n",
    "\n",
    "    with open(filename,'r') as inpickle:\n",
    "        results = pickle.load(inpickle)\n",
    "\n",
    "    things,pairs,duds = results.values()\n",
    "    \n",
    "    print '# published corr coefs in pickle: %d' % len(pairs) \n",
    "    print '# series in pickle: %d' % len(set(things)) \n",
    "    print '# possible corrs: %d' % len(set(things))**2 \n",
    "    print '# proportion of possible published: %f' % (len(pairs)*1.0/len(set(things))**2)\n",
    "    \n",
    "    return pairs\n",
    "\n",
    "\n",
    "\n",
    "def _create_snitch(library):\n",
    "    snitch = defaultdict(list)\n",
    "    for key,series in library.iteritems():\n",
    "        snitch[len(series['y'])].append(key)\n",
    "    return snitch\n",
    "\n",
    "\n",
    "def _get_coef_matrix(keys, library, baddies):\n",
    "    \n",
    "        mat = []\n",
    "\n",
    "        for key in keys:\n",
    "            row = library[key]['y']\n",
    "            if has_unicodes(row):\n",
    "                row = type_values(row)\n",
    "                if has_unicodes(row): \n",
    "                    baddies.append(key)\n",
    "                    continue\n",
    "                library[key]['y'] = row\n",
    "                \n",
    "            mat.append(row)\n",
    "        cfs = np.corrcoef(mat)\n",
    "        \n",
    "        return cfs, baddies\n",
    "    \n",
    "        \n",
    "def _add_cfs_uniques(coefs,cfs,keys):        \n",
    "    \n",
    "        for i,row in enumerate(cfs):\n",
    "            j = len(row[:i])\n",
    "            if not j: \n",
    "                continue\n",
    "            x = [keys[i]]*j\n",
    "            y = [keys[jj] for jj in range(j)]\n",
    "            k = zip(x,y)\n",
    "            coefs.update(dict(zip(k,row[:i])))\n",
    "\n",
    "        return coefs\n"
   ]
  },
  {
   "cell_type": "code",
   "execution_count": 190,
   "metadata": {
    "collapsed": false
   },
   "outputs": [],
   "source": [
    "def report_library_quality(library):\n",
    "    total = len(library)\n",
    "    ok_vals = [entry['ok'] for entry in library.itervalues()]\n",
    "    ok = sum(ok_vals)\n",
    "    print ok_vals[:10]\n",
    "    print 'library total entries: %d' % total\n",
    "    print 'entries marked ok: %d' % ok\n",
    "    print 'percent: %f' % (ok*1.0/total)\n",
    "    \n",
    "\n",
    "def parse_vigentable(tablesoup,page):\n",
    "    x = []\n",
    "    series = []\n",
    "    lib = {}\n",
    "    ok = True\n",
    "    \n",
    "    rows = tablesoup.find_all('tr')    \n",
    "    for row in rows: \n",
    "        cells = [cell.text for cell in row.find_all('td')]\n",
    "\n",
    "        if not cells[0]:\n",
    "            x = type_values(cells)\n",
    "\n",
    "        elif len(cells) < 2:\n",
    "            continue\n",
    "\n",
    "        else:\n",
    "            title = cells[0]\n",
    "            hashtitle = hash(title)\n",
    "            values = type_values(cells[1:])\n",
    "            #print values\n",
    "            series.append((hashtitle,title,values))\n",
    "            \n",
    "    if not x:\n",
    "        for i,elem in enumerate(series):\n",
    "            split_vals = check_compound(elem[2])\n",
    "\n",
    "            if split_vals:\n",
    "                x,y = split_vals\n",
    "                x = type_values(check_years(x))\n",
    "                y = type_values(y)\n",
    "\n",
    "                pop = series[i]\n",
    "                series[i] = (pop[0],pop[1],y)\n",
    "            \n",
    "    if has_unicodes(x):\n",
    "        x = type_vaues(x)\n",
    "        \n",
    "    for thash,name,y in series:\n",
    "        \n",
    "        if has_unicodes(y):\n",
    "            y = check_for_blanks(y)\n",
    "            y = type_values(y)\n",
    "            \n",
    "        headers = ['name','x','y','page','ok']\n",
    "        entry = dict(zip(headers,[name,x,y,page,ok]))\n",
    "        lib[thash] = entry\n",
    "\n",
    "    return lib\n",
    "\n",
    "\n",
    "def check_for_blanks(y):\n",
    "    if u' ' in y:\n",
    "        y[y.index(u' ')] = u' 0'\n",
    "    return y\n",
    "\n",
    "def has_unicodes(series):\n",
    "    return bool(sum([isinstance(c,unicode) for c in series]))"
   ]
  },
  {
   "cell_type": "code",
   "execution_count": 154,
   "metadata": {
    "collapsed": false
   },
   "outputs": [],
   "source": [
    "def parse_vigenpage(page):\n",
    "    soup = soupme(page)\n",
    "    if not soup:\n",
    "        return False\n",
    "        \n",
    "    try:\n",
    "        table = soup.find_all('table')[-1]\n",
    "    except IndexError:\n",
    "        print page\n",
    "        return False\n",
    "    \n",
    "    return parse_vigentable(table,page)\n",
    "\n",
    "\n",
    "def soupme(page):\n",
    "    with open(page,'r') as infile:\n",
    "        html = infile.read()\n",
    "        if len(html) < 20:\n",
    "            return False\n",
    "        else:\n",
    "            return BeautifulSoup(html,'html5lib')\n",
    "\n",
    "        \n",
    "def type_values(row):\n",
    "\n",
    "    row = [c for c in row if c]\n",
    "    try:\n",
    "        row = [int(val) for val in row]\n",
    "        return row\n",
    "    except ValueError:\n",
    "        pass\n",
    "    \n",
    "    try:\n",
    "        row = [float(val) for val in row]\n",
    "        return row\n",
    "    except ValueError:\n",
    "        pass\n",
    "        \n",
    "    row = check_formatted(row) \n",
    "        \n",
    "    return row\n",
    "\n",
    "\n",
    "def check_compound(row):\n",
    "    if len(row) == 1:\n",
    "        try: \n",
    "            row = [cell.split(':') for cell in row[0].split(';')]\n",
    "            x,y = zip(*row)\n",
    "        except IndexError:\n",
    "            return False\n",
    "\n",
    "    return (x,y)\n",
    "\n",
    "\n",
    "def check_formatted(row):\n",
    "    row = [cell.replace(',','') for cell in row]\n",
    "    return row\n",
    "    \n",
    "    \n",
    "def check_years(row):\n",
    "    row = [c.strip() for c in row if c]\n",
    "    if sum([c.startswith(\"'\") for c in row]) == len(row):\n",
    "        return yearconvert(row)\n",
    "    else: \n",
    "        return row\n",
    "  \n",
    "\n",
    "def yearconvert(row):\n",
    "    out = []\n",
    "    for yearstr in row:\n",
    "        yearint = int(yearstr[1:])\n",
    "        if yearint < 20:\n",
    "            out.append(yearint + 2000)\n",
    "        else:\n",
    "            out.append(yearint + 1900)\n",
    "    return out"
   ]
  },
  {
   "cell_type": "code",
   "execution_count": null,
   "metadata": {
    "collapsed": true
   },
   "outputs": [],
   "source": []
  },
  {
   "cell_type": "code",
   "execution_count": null,
   "metadata": {
    "collapsed": true
   },
   "outputs": [],
   "source": []
  },
  {
   "cell_type": "code",
   "execution_count": null,
   "metadata": {
    "collapsed": true
   },
   "outputs": [],
   "source": []
  },
  {
   "cell_type": "code",
   "execution_count": 185,
   "metadata": {
    "collapsed": false
   },
   "outputs": [
    {
     "name": "stdout",
     "output_type": "stream",
     "text": [
      "{'y': [1, 1, 2, 3, 0, 2, 2, 1, 2, 3, 1, 1, 3, 3, 2, 1, 2, 2, 2, 2, 2, 3, 1, 1, 2, 3, 4, 1, 4], 'x': [1981, 1982, 1983, 1984, 1985, 1986, 1987, 1988, 1989, 1990, 1991, 1992, 1993, 1994, 1995, 1996, 1997, 1998, 1999, 2000, 2001, 2002, 2003, 2004, 2005, 2006, 2007, 2008, 2009], 'ok': True, 'name': u'Number of films Nicolas Cage appeared inFilms (IMDB)', 'page': '../vigenstash/vigen_page_10001.html'} \n",
      "\n",
      "{'y': [7, 6, 6, 7, 5, 5, 7, 7, 7, 5, 4, 4, 7, 6, 6, 0, 6, 6, 7, 4, 4, 5, 7, 7, 6, 4, 4, 5, 4, 5, 6], 'x': [1979, 1980, 1981, 1982, 1983, 1984, 1985, 1986, 1987, 1988, 1989, 1990, 1991, 1992, 1993, 1994, 1995, 1996, 1997, 1998, 1999, 2000, 2001, 2002, 2003, 2004, 2005, 2006, 2007, 2008, 2009], 'ok': True, 'name': u'Games in World SeriesGames (Wikipedia)', 'page': '../vigenstash/vigen_page_10412.html'} \n",
      "\n"
     ]
    }
   ],
   "source": [
    "for b in baddies: \n",
    "    page =  library[b]['page']\n",
    "    lib = parse_vigenpage(page)\n",
    "    library[b] = lib[b]\n",
    "    print library[b], '\\n'"
   ]
  },
  {
   "cell_type": "code",
   "execution_count": 181,
   "metadata": {
    "collapsed": false
   },
   "outputs": [
    {
     "data": {
      "text/plain": [
       "[]"
      ]
     },
     "execution_count": 181,
     "metadata": {},
     "output_type": "execute_result"
    }
   ],
   "source": [
    "s = _create_snitch(library)\n",
    "\n",
    "s[0]\n",
    "# for key in s[0]:\n",
    "#     print library[key]['page']\n",
    "    \n",
    "#c,b = _get_coef_matrix(ss,library,[])"
   ]
  },
  {
   "cell_type": "code",
   "execution_count": null,
   "metadata": {
    "collapsed": false
   },
   "outputs": [],
   "source": [
    "for ylen,keys in sorted(snitch.items()):\n",
    "    print ylen, len(keys)"
   ]
  },
  {
   "cell_type": "code",
   "execution_count": null,
   "metadata": {
    "collapsed": false
   },
   "outputs": [],
   "source": [
    "library[snitch[21][0]]"
   ]
  },
  {
   "cell_type": "code",
   "execution_count": null,
   "metadata": {
    "collapsed": false
   },
   "outputs": [],
   "source": [
    "randomvigen = random.choice(vigenfiles)\n",
    "\n",
    "with open(randomvigen,'r') as infile:\n",
    "    soup = BeautifulSoup(infile.read(),'html5lib')\n",
    "\n",
    "# print soup.find_all('table')[-1].prettify()\n",
    "\n",
    "datatable = soup.find_all('table')[-1]"
   ]
  },
  {
   "cell_type": "code",
   "execution_count": null,
   "metadata": {
    "collapsed": false
   },
   "outputs": [],
   "source": [
    "snitch = defaultdict(list)\n",
    "\n",
    "for key,series in library.iteritems():\n",
    "    snitch[len(series['y'])].append(key)\n",
    "    \n",
    "for ylen,count in sorted(snitch.items()):\n",
    "    print ylen, len(count)\n"
   ]
  },
  {
   "cell_type": "code",
   "execution_count": null,
   "metadata": {
    "collapsed": true
   },
   "outputs": [],
   "source": [
    "for r in snitch[ylen]: \n",
    "    if type(library[r]['y'][0]) not in [int,float]:\n",
    "            print r \n",
    "            print type(library[r]['y'][0])\n",
    "            print library[r]['y'][0]\n",
    "            print '-'\n",
    "            print library[r]\n",
    "            print\n",
    "            print"
   ]
  }
 ],
 "metadata": {
  "kernelspec": {
   "display_name": "Python 2",
   "language": "python",
   "name": "python2"
  },
  "language_info": {
   "codemirror_mode": {
    "name": "ipython",
    "version": 2
   },
   "file_extension": ".py",
   "mimetype": "text/x-python",
   "name": "python",
   "nbconvert_exporter": "python",
   "pygments_lexer": "ipython2",
   "version": "2.7.10"
  }
 },
 "nbformat": 4,
 "nbformat_minor": 0
}
