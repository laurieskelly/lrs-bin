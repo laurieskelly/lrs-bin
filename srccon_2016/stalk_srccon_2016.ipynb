{
 "cells": [
  {
   "cell_type": "code",
   "execution_count": 8,
   "metadata": {
    "collapsed": false
   },
   "outputs": [],
   "source": [
    "import requests\n",
    "from bs4 import BeautifulSoup"
   ]
  },
  {
   "cell_type": "markdown",
   "metadata": {},
   "source": [
    "!pip install beautifulsoup4"
   ]
  },
  {
   "cell_type": "markdown",
   "metadata": {},
   "source": [
    "!pip install requests"
   ]
  },
  {
   "cell_type": "code",
   "execution_count": 5,
   "metadata": {
    "collapsed": true
   },
   "outputs": [],
   "source": [
    "r = requests.get(\"http://srccon.org/sessions/\")"
   ]
  },
  {
   "cell_type": "code",
   "execution_count": 10,
   "metadata": {
    "collapsed": false
   },
   "outputs": [],
   "source": [
    "soup = BeautifulSoup(r.content)"
   ]
  },
  {
   "cell_type": "code",
   "execution_count": 12,
   "metadata": {
    "collapsed": false
   },
   "outputs": [],
   "source": [
    "twitters = [ a for a in soup.find_all('a') if 'twitter' in a['href'] ]"
   ]
  },
  {
   "cell_type": "code",
   "execution_count": 78,
   "metadata": {
    "collapsed": false
   },
   "outputs": [],
   "source": [
    "!touch ../../lrs-bin/srccon_2016/names_in_order.list\n",
    "with open('../../lrs-bin/srccon_2016/names_in_order.list','w') as namesfile:\n",
    "    for tw in twitters:\n",
    "        namesfile.write('%s\\n' % tw.text.encode('utf-8'))"
   ]
  },
  {
   "cell_type": "code",
   "execution_count": 15,
   "metadata": {
    "collapsed": true
   },
   "outputs": [
    {
     "data": {
      "text/plain": [
       "[<a href=\"https://twitter.com/katiepark\">Katie Park</a>,\n",
       " <a href=\"https://twitter.com/@aboutaaron\">Aaron Williams</a>,\n",
       " <a href=\"https://twitter.com/joannaskao\">Joanna S. Kao</a>,\n",
       " <a href=\"https://twitter.com/JoelEastwood\">Joel Eastwood</a>,\n",
       " <a href=\"https://twitter.com/@emmacarew\">Emma Carew Grovum</a>,\n",
       " <a href=\"https://twitter.com/brianloveswords\">Brian J Brennan</a>,\n",
       " <a href=\"https://twitter.com/brianloveswords/status/717749353914490881\">Very Scientific\\u2122 poll</a>,\n",
       " <a href=\"https://twitter.com/smoughts\">Sarah Moughty</a>,\n",
       " <a href=\"https://twitter.com/@pamjohnston\">Pamela Johnston</a>,\n",
       " <a href=\"https://twitter.com/thomaswilburn\">Thomas Wilburn</a>,\n",
       " <a href=\"https://twitter.com/kateschimel\">Katharine Schimel</a>,\n",
       " <a href=\"https://twitter.com/jordanwb\">Jordan Wirfs-Brock</a>,\n",
       " <a href=\"https://twitter.com/geoffhing\">Geoff Hing</a>,\n",
       " <a href=\"https://twitter.com/stefanwehrmeyer\">Stefan Wehrmeyer</a>,\n",
       " <a href=\"https://twitter.com/mikejcorey\">Michael Corey</a>,\n",
       " <a href=\"https://twitter.com/neenareports\">Neena Satija</a>,\n",
       " <a href=\"https://twitter.com/taraadiseshan\">Tara Adiseshan</a>,\n",
       " <a href=\"https://twitter.com/@hyper_linda\">Linda Sandvik</a>,\n",
       " <a href=\"https://twitter.com/zohf, hellogeorgia\">Josh Laincz</a>,\n",
       " <a href=\"https://twitter.com/hellogeorgia\">Georgia Cowley</a>,\n",
       " <a href=\"https://twitter.com/gboysun\">Gina Boysun</a>,\n",
       " <a href=\"https://twitter.com/myersjustinc\">Justin Myers</a>,\n",
       " <a href=\"https://twitter.com/jasonalcorn\">Jason Alcorn</a>,\n",
       " <a href=\"https://twitter.com/tangentialism\">David Yee</a>,\n",
       " <a href=\"https://twitter.com/robinkwong\">Robin Kwong</a>,\n",
       " <a href=\"https://twitter.com/tinysubversions\">Darius Kazemi</a>,\n",
       " <a href=\"https://twitter.com/@jfriedhoff\">Jane Friedhoff</a>,\n",
       " <a href=\"https://twitter.com/julia67\">Julia Smith</a>,\n",
       " <a href=\"https://twitter.com/kelsa_\">Kelsey Scherer</a>,\n",
       " <a href=\"https://twitter.com/laurenrabaino\">Lauren Rabaino</a>,\n",
       " <a href=\"https://twitter.com/_neilbedi\">Neil Bedi</a>,\n",
       " <a href=\"https://twitter.com/ArianaNGiorgi\">Ariana Giorgi</a>,\n",
       " <a href=\"https://twitter.com/christinezhang\">Christine Zhang</a>,\n",
       " <a href=\"https://twitter.com/bo_p\">Bo Peng</a>,\n",
       " <a href=\"https://twitter.com/reefdog\">Justin Reese</a>,\n",
       " <a href=\"https://twitter.com/arjunasoriano\">Arjuna Soriano</a>,\n",
       " <a href=\"https://twitter.com/pietropassarell\">Pietro Passarelli</a>,\n",
       " <a href=\"https://twitter.com/anmccartney\">Allison McCartney</a>,\n",
       " <a href=\"https://twitter.com/dollyli\">Dolly Li</a>,\n",
       " <a href=\"https://twitter.com/gaba\">Gabriela Rodriguez Beron</a>,\n",
       " <a href=\"https://twitter.com/daviderwin\">David Erwin</a>,\n",
       " <a href=\"https://twitter.com/wolfewylie\">William Wolfe-Wylie</a>,\n",
       " <a href=\"https://twitter.com/kissane\">Erin Kissane</a>,\n",
       " <a href=\"https://twitter.com/lifewinning\">Ingrid Burrington</a>,\n",
       " <a href=\"https://twitter.com/sashak\">Sasha Koren</a>,\n",
       " <a href=\"https://twitter.com/_alastair\">Alastair Coote</a>,\n",
       " <a href=\"https://twitter.com/crushgear\">Steph Yiu</a>,\n",
       " <a href=\"https://twitter.com/jeremybowers\">Jeremy Bowers</a>,\n",
       " <a href=\"https://twitter.com/dansinker\">Dan Sinker</a>,\n",
       " <a href=\"https://twitter.com/scottpham\">Scott Pham</a>,\n",
       " <a href=\"https://twitter.com/danielpwwood\">Daniel Wood</a>,\n",
       " <a href=\"https://twitter.com/zzolo\">Alan Palazzolo</a>,\n",
       " <a href=\"https://twitter.com/clarii_d\">Clarisa Diaz</a>,\n",
       " <a href=\"https://twitter.com/leimdorfer\">Andrew Leimdorfer</a>,\n",
       " <a href=\"https://twitter.com/anieldaniel\">Annie Daniel</a>,\n",
       " <a href=\"https://twitter.com/Chronotope\">Aram Zucker-Scharff</a>,\n",
       " <a href=\"https://twitter.com/mattdennewitz\">Matt Dennewitz</a>,\n",
       " <a href=\"https://twitter.com/donohoe\">Michael Donohoe</a>,\n",
       " <a href=\"https://twitter.com/gurmanbhatia\">Gurman Bhatia</a>,\n",
       " <a href=\"https://twitter.com/knowtheory\">Ted Han</a>,\n",
       " <a href=\"https://twitter.com/@mtigas\">Mike Tigas</a>,\n",
       " <a href=\"https://twitter.com/sandhya__k\">Sandhya Kambhampati</a>,\n",
       " <a href=\"https://twitter.com/lamthuyvo\">Lam Vo</a>,\n",
       " <a href=\"https://twitter.com/kaeti\">Kaeti Hinck</a>,\n",
       " <a href=\"https://twitter.com/eschow\">Emily Chow</a>,\n",
       " <a href=\"https://twitter.com/juruwolfe\">Julia Wolfe</a>,\n",
       " <a href=\"https://twitter.com/ivarvong\">Ivar Vong</a>,\n",
       " <a href=\"https://twitter.com/JoeGermuska\">Joe Germuska</a>,\n",
       " <a href=\"https://twitter.com/@jjelosua\">Juan Elosua</a>,\n",
       " <a href=\"https://twitter.com/mfiandor\">Miguel Fiandor</a>,\n",
       " <a href=\"https://twitter.com/pam_yam\">Pamela Assogba</a>,\n",
       " <a href=\"https://twitter.com/kavyasukumar\">Kavya Sukumar</a>,\n",
       " <a href=\"https://twitter.com/impronunciable\">Dan Zajdband</a>,\n",
       " <a href=\"https://twitter.com/amyjo_brown\">AmyJo Brown</a>,\n",
       " <a href=\"https://twitter.com/@jlthibault\">Jennifer Thibault</a>,\n",
       " <a href=\"https://twitter.com/@Evie_xing\">Evie Liu</a>,\n",
       " <a href=\"https://twitter.com/stevesuo\">Steve Suo</a>,\n",
       " <a href=\"https://twitter.com/ccanipe\">Chris Canipe</a>,\n",
       " <a href=\"https://twitter.com/@JonRMcClure\">Jon McClure</a>,\n",
       " <a href=\"https://twitter.com/Millie\">Millie Tran</a>,\n",
       " <a href=\"https://twitter.com/@s_m_i\">Stacy-Marie Ishmael</a>,\n",
       " <a href=\"https://twitter.com/hellbox\">Martin McClellan</a>,\n",
       " <a href=\"https://twitter.com/tiffehr\">Tiff Fehr</a>,\n",
       " <a href=\"https://twitter.com/YAN0\">David Yanofsky</a>,\n",
       " <a href=\"https://twitter.com/sarahjsquire\">Sarah Squire</a>,\n",
       " <a href=\"https://twitter.com/rdmurphy\">Ryan Murphy</a>,\n",
       " <a href=\"https://twitter.com/gidsg\">Gideon Goldberg</a>]"
      ]
     },
     "execution_count": 15,
     "metadata": {},
     "output_type": "execute_result"
    }
   ],
   "source": [
    "#twitters = twitters[:-1]\n",
    "twitters"
   ]
  },
  {
   "cell_type": "code",
   "execution_count": 71,
   "metadata": {
    "collapsed": false
   },
   "outputs": [],
   "source": [
    "tweeps = []\n",
    "picture_getter = open('avatars.list','w') "
   ]
  },
  {
   "cell_type": "code",
   "execution_count": 118,
   "metadata": {
    "collapsed": true
   },
   "outputs": [
    {
     "name": "stdout",
     "output_type": "stream",
     "text": [
      "Katie Park\n",
      "Aaron Williams\n",
      "Joanna S. Kao\n",
      "Joel Eastwood\n",
      "Emma Carew Grovum\n",
      "Brian J Brennan\n",
      "Very Scientific™ poll\n",
      "Sarah Moughty\n",
      "Pamela Johnston\n",
      "Thomas Wilburn\n",
      "Katharine Schimel\n",
      "Jordan Wirfs-Brock\n",
      "Geoff Hing\n",
      "Stefan Wehrmeyer\n",
      "Michael Corey\n",
      "Neena Satija\n",
      "Tara Adiseshan\n",
      "Linda Sandvik\n",
      "Josh Laincz\n",
      "Georgia Cowley\n",
      "Gina Boysun\n",
      "Justin Myers\n",
      "Jason Alcorn\n",
      "David Yee\n",
      "Robin Kwong\n",
      "Darius Kazemi\n",
      "Jane Friedhoff\n",
      "Julia Smith\n",
      "Kelsey Scherer\n",
      "Lauren Rabaino\n",
      "Neil Bedi\n",
      "Ariana Giorgi\n",
      "Christine Zhang\n",
      "Bo Peng\n",
      "Justin Reese\n",
      "Arjuna Soriano\n",
      "Pietro Passarelli\n",
      "Allison McCartney\n",
      "Dolly Li\n",
      "Gabriela Rodriguez Beron\n",
      "David Erwin\n",
      "William Wolfe-Wylie\n",
      "Erin Kissane\n",
      "Ingrid Burrington\n",
      "Sasha Koren\n",
      "Alastair Coote\n",
      "Steph Yiu\n",
      "Jeremy Bowers\n",
      "Dan Sinker\n",
      "Scott Pham\n",
      "Daniel Wood\n",
      "Alan Palazzolo\n",
      "Clarisa Diaz\n",
      "Andrew Leimdorfer\n",
      "Annie Daniel\n",
      "Aram Zucker-Scharff\n",
      "Matt Dennewitz\n",
      "Michael Donohoe\n",
      "Gurman Bhatia\n",
      "Ted Han\n",
      "Mike Tigas\n",
      "Sandhya Kambhampati\n",
      "Lam Vo\n",
      "Kaeti Hinck\n",
      "Emily Chow\n",
      "Julia Wolfe\n",
      "Ivar Vong\n",
      "Joe Germuska\n",
      "Juan Elosua\n",
      "Miguel Fiandor\n",
      "Pamela Assogba\n",
      "Kavya Sukumar\n",
      "Dan Zajdband\n",
      "AmyJo Brown\n",
      "Jennifer Thibault\n",
      "Evie Liu\n",
      "Steve Suo\n",
      "Chris Canipe\n",
      "Jon McClure\n",
      "Millie Tran\n",
      "Stacy-Marie Ishmael\n",
      "Martin McClellan\n",
      "Tiff Fehr\n",
      "David Yanofsky\n",
      "Sarah Squire\n",
      "Ryan Murphy\n",
      "Gideon Goldberg\n"
     ]
    }
   ],
   "source": [
    "for twit in twitters:\n",
    "    name = twit.text\n",
    "    print name\n",
    "    \n",
    "    alt_handle = None\n",
    "    if ', ' in twit['href']:\n",
    "        twit['href'],alt_handle = twit['href'].split(', ')\n",
    "        alt_handle = '@%s' % alt_handle\n",
    "    \n",
    "    handle = '@' + twit['href'].split('/')[-1].replace('@','')\n",
    "    \n",
    "    twitsoup = BeautifulSoup(requests.get(twit['href']).content)\n",
    "    \n",
    "    picture_url = twitsoup.find('img',class_='ProfileAvatar-image')['src']\n",
    "    picture_getter.write('%s\\n' % picture_url)\n",
    "    \n",
    "    infos = twitsoup.find('div',class_='ProfileHeaderCard')\n",
    "    \n",
    "    stuff = [c for c in infos.children if not isinstance(c,unicode)]\n",
    "    name, twhandle, bio, location, url = stuff[:5]\n",
    "    \n",
    "    if name.find('a'):\n",
    "        name = name.find('a').text\n",
    "    else: name = None\n",
    "    \n",
    "    if twhandle.find('a'):\n",
    "        twhandle = twhandle.find('a').text\n",
    "    else: twhandle = None\n",
    "        \n",
    "    if bio.text:\n",
    "        bio = bio.text\n",
    "    else: bio = None\n",
    "\n",
    "    if location.text:\n",
    "        location = location.text.strip()\n",
    "    else: location = None\n",
    "    \n",
    "    if url.find('a'):\n",
    "        url = url.find('a')['title']\n",
    "    else: url = None\n",
    "    \n",
    "    tweeps.append({\n",
    "            'name': name,\n",
    "            'twitter_handle': twhandle,\n",
    "            'alt_handle': alt_handle,\n",
    "            'photo_url': picture_url,\n",
    "            'name': name,\n",
    "            'handle_from_bio': twhandle,\n",
    "            'bio': bio,\n",
    "            'location': location,\n",
    "            'url': url\n",
    "        })"
   ]
  },
  {
   "cell_type": "code",
   "execution_count": 134,
   "metadata": {
    "collapsed": false
   },
   "outputs": [],
   "source": [
    "import json\n",
    "with open('../../lrs-bin/srccon_2016/srccon_stalk.dirt','w') as dirtfile:\n",
    "    json.dump(tweeps2, dirtfile)\n"
   ]
  },
  {
   "cell_type": "code",
   "execution_count": 88,
   "metadata": {
    "collapsed": true
   },
   "outputs": [],
   "source": [
    "import string"
   ]
  },
  {
   "cell_type": "code",
   "execution_count": 127,
   "metadata": {
    "collapsed": false
   },
   "outputs": [
    {
     "name": "stdout",
     "output_type": "stream",
     "text": [
      "87\n"
     ]
    }
   ],
   "source": [
    "tweeps2 = []\n",
    "go = False\n",
    "\n",
    "for t in tweeps:\n",
    "    if t['twitter_handle'] != u'@joannaskao':\n",
    "        go = True\n",
    "    if not go:\n",
    "        continue\n",
    "    else:\n",
    "        tweeps2.append(t)\n",
    "\n",
    "print len(tweeps2)\n"
   ]
  },
  {
   "cell_type": "code",
   "execution_count": 131,
   "metadata": {
    "collapsed": false
   },
   "outputs": [],
   "source": [
    "tweeps2[5]['name'] = 'Brian J. Brennan'"
   ]
  },
  {
   "cell_type": "code",
   "execution_count": 133,
   "metadata": {
    "collapsed": true
   },
   "outputs": [
    {
     "name": "stdout",
     "output_type": "stream",
     "text": [
      "Katie Park                      //  katie_park.jpg\n",
      "☔️ Aaron Williams  ☔️           //  aaron_williams.jpg\n",
      "Joanna S. Kao                   //  joanna_kao.jpg\n",
      "Joel Eastwood                   //  joel_eastwood.jpg\n",
      "Emma Carew Grovum               //  emma_carew_grovum.jpg\n",
      "Brian J. Brennan                //  brian_brennan.jpg\n",
      "spacer.r04                      //  spacerr04.jpg\n",
      "Sarah Moughty                   //  sarah_moughty.png\n",
      "pamjohnston                     //  pamjohnston.jpg\n",
      "Thomas Wilburn                  //  thomas_wilburn.jpg\n",
      "Kate Schimel                    //  kate_schimel.jpg\n",
      "Jordan Wirfs-Brock              //  jordan_wirfsbrock.jpeg\n",
      "Geoff Hing                      //  geoff_hing.jpg\n",
      "Stefan Wehrmeyer                //  stefan_wehrmeyer.jpeg\n",
      "Michael Corey                   //  michael_corey.jpg\n",
      "Neena Satija                    //  neena_satija.jpg\n",
      "Tara Adiseshan                  //  tara_adiseshan.jpg\n",
      "Immigrant                       //  immigrant.jpg\n",
      "Josh Laincz                     //  josh_laincz.jpg\n",
      "Georgia Cowley                  //  georgia_cowley.jpg\n",
      "gboysun                         //  gboysun.jpg\n",
      "Justin Myers                    //  justin_myers.png\n",
      "Jason Alcorn                    //  jason_alcorn.jpg\n",
      "David Yee                       //  david_yee.jpeg\n",
      "Robin Kwong                     //  robin_kwong.jpeg\n",
      "Darius Kazemi                   //  darius_kazemi.jpg\n",
      "jane frie(n)dhoff               //  jane_friendhoff.jpg\n",
      "Julia Smith                     //  julia_smith.jpg\n",
      "Kelsey Scherer                  //  kelsey_scherer.jpg\n",
      "Lauren Rabaino                  //  lauren_rabaino.jpg\n",
      "Neil Bedi                       //  neil_bedi.jpeg\n",
      "Ariana Giorgi                   //  ariana_giorgi.jpg\n",
      "Christine Zhang                 //  christine_zhang.jpg\n",
      "Bo Peng                         //  bo_peng.jpeg\n",
      "Justin Reese                    //  justin_reese.jpg\n",
      "Arjuna Soriano                  //  arjuna_soriano.jpg\n",
      "Pietro                          //  pietro.png\n",
      "Allison McCartney               //  allison_mccartney.jpeg\n",
      "Dolly                           //  dolly.jpeg\n",
      "gaba                            //  gaba.jpg\n",
      "jde                             //  jde.jpeg\n",
      "William Wolfe-Wylie             //  william_wolfewylie.jpg\n",
      "Erin Kissane                    //  erin_kissane.jpg\n",
      "Ingrid Burrington               //  ingrid_burrington.jpg\n",
      "Sasha Koren                     //  sasha_koren.jpeg\n",
      "Alastair Coote                  //  alastair_coote.jpg\n",
      "Steph Yiu                       //  steph_yiu.jpg\n",
      "Jeremy Bowers                   //  jeremy_bowers.jpg\n",
      "dan sinker                      //  dan_sinker.jpeg\n",
      "scottpham                       //  scottpham.jpg\n",
      "Daniel Wood                     //  daniel_wood.jpg\n",
      "Alan Palazzolo                  //  alan_palazzolo.jpg\n",
      "Clarisa Diaz                    //  clarisa_diaz.jpeg\n",
      "Andrew Leimdorfer               //  andrew_leimdorfer.jpeg\n",
      "Annie Daniel                    //  annie_daniel.jpg\n",
      "Aram Zucker-Scharff             //  aram_zuckerscharff.jpeg\n",
      "Matt                            //  matt.jpg\n",
      "ᶘ ᵒ㉨ᵒᶅ                          //  donohoe.jpg\n",
      "Gurman Bhatia                   //  gurman_bhatia.jpg\n",
      "Ted Han                         //  ted_han.jpg\n",
      "Mike Tigas                      //  mike_tigas.jpg\n",
      "Sandhya Kambhampati             //  sandhya_kambhampati.jpg\n",
      "Lam Thuy Vo                     //  lam_thuy_vo.jpg\n",
      "Kaeti Hinck                     //  kaeti_hinck.jpg\n",
      "Emily Chow                      //  emily_chow.jpg\n",
      "Julia Wolfe                     //  julia_wolfe.jpg\n",
      "Ivar Vong                       //  ivar_vong.jpeg\n",
      "Joe Germuska                    //  joe_germuska.png\n",
      "Juan Elosua                     //  juan_elosua.jpeg\n",
      "Miguel Fiandor                  //  miguel_fiandor.jpg\n",
      "Pamela Assogba                  //  pamela_assogba.jpg\n",
      "Kavya Sukumar                   //  kavya_sukumar.jpg\n",
      "Dan Zajdband                    //  dan_zajdband.jpg\n",
      "AmyJo Brown                     //  amyjo_brown.jpg\n",
      "Jennifer Thibault               //  jennifer_thibault.jpg\n",
      "Evie Liu                        //  evie_liu.jpeg\n",
      "stevesuo                        //  stevesuo.jpg\n",
      "Chris Canipe                    //  chris_canipe.jpg\n",
      "Jon McClure                     //  jon_mcclure.jpeg\n",
      "Millie Tran                     //  millie_tran.jpg\n",
      "stacy-marie ishmael             //  stacymarie_ishmael.jpg\n",
      "Martin McClellan                //  martin_mcclellan.jpg\n",
      "Tiff Fehr                       //  tiff_fehr.png\n",
      "David Yanofsky                  //  david_yanofsky.jpg\n",
      "Sarah Squire                    //  sarah_squire.jpg\n",
      "Ryan Murphy                     //  ryan_murphy.jpg\n",
      "Gideon Goldberg                 //  gideon_goldberg.jpg\n"
     ]
    }
   ],
   "source": [
    "for tw in tweeps2:\n",
    "    n = tw['name']\n",
    "    ext = tw['photo_url'].replace('.1','').split('.')[-1]\n",
    "    ok = string.ascii_lowercase + string.digits\n",
    "    sn = '_'.join([''.join([g for g in a.lower() if g in ok]) for a in n.split(' ') if [c for c in a if c in ok]])\n",
    "    if not sn:\n",
    "        sn = ''.join(s for s in tw['twitter_handle'] if s in ok)\n",
    "    savename = sn + '.' + ext\n",
    "    tw['savename'] = savename\n",
    "    print \"%-30s  //  %s\" % (n.strip(), savename)"
   ]
  },
  {
   "cell_type": "code",
   "execution_count": 137,
   "metadata": {
    "collapsed": false
   },
   "outputs": [
    {
     "name": "stdout",
     "output_type": "stream",
     "text": [
      "54\n"
     ]
    }
   ],
   "source": [
    "sessions = soup.find_all('div',class_='session-proposal')\n",
    "print len(sessions)"
   ]
  },
  {
   "cell_type": "code",
   "execution_count": 146,
   "metadata": {
    "collapsed": false
   },
   "outputs": [
    {
     "data": {
      "text/plain": [
       "u'proposal-318592'"
      ]
     },
     "execution_count": 146,
     "metadata": {},
     "output_type": "execute_result"
    }
   ],
   "source": [
    "sessions[0].find('a')"
   ]
  },
  {
   "cell_type": "code",
   "execution_count": 149,
   "metadata": {
    "collapsed": false
   },
   "outputs": [
    {
     "data": {
      "text/plain": [
       "{'alt_handle': None,\n",
       " 'bio': u'Code + graphics at @nprviz, previously @postgraphics. Tampa-raised. Guitar/vox @hemlinesband + @badmovesdc.',\n",
       " 'handle_from_bio': u'@katiepark',\n",
       " 'location': u'DC',\n",
       " 'name': u'Katie Park',\n",
       " 'photo_url': u'https://pbs.twimg.com/profile_images/719524834582142976/hPFwMtAF_400x400.jpg',\n",
       " 'savename': u'katie_park.jpg',\n",
       " 'twitter_handle': u'@katiepark',\n",
       " 'url': None}"
      ]
     },
     "execution_count": 149,
     "metadata": {},
     "output_type": "execute_result"
    }
   ],
   "source": [
    "tweeps2[0]"
   ]
  },
  {
   "cell_type": "code",
   "execution_count": 150,
   "metadata": {
    "collapsed": false
   },
   "outputs": [],
   "source": [
    "sess = []\n",
    "for s in sessions:\n",
    "\n",
    "    a = s.find('a')\n",
    "    shref = a['href']\n",
    "    stitle = a.text\n",
    "    shandles = [l['href'].split('/')[-1].replace('@','') for l in s.find_all('a') if 'twitter' in l['href']]\n",
    "    sdescrip = s.find('p',class_='session-description').text\n",
    "    \n",
    "    sess.append({\n",
    "            'href':shref,\n",
    "            'title':stitle,\n",
    "            'presenters':shandles,\n",
    "            'description':sdescrip,\n",
    "        })"
   ]
  },
  {
   "cell_type": "code",
   "execution_count": 151,
   "metadata": {
    "collapsed": false
   },
   "outputs": [
    {
     "data": {
      "text/plain": [
       "{'description': u'In the past few years, we\\u2019ve seen emerging recognition of graphics and data journalism, most recently in the Pulitzers awarded to data-centric projects. Our community is reflecting on recent years of our work and has established design patterns and philosophies. But we mostly talk about how we do our journalism \\u2013 now let\\u2019s talk about the people doing it. How have the expectations of a journalist\\u2019s career trajectory changed with emerging roles and disciplines? Have we made our corner of the industry open to aspiring news nerds who might not have access to the tools and resources that gave many of us a lift into this field? And what if you don\\u2019t see your job as your calling? Our goal is provide a catharsis about our work and develop solutions that look out for the people doing this work. We\\u2019ll ask hard questions of ourselves to foster a discussion about the sustainability of what we do.\\n',\n",
       " 'href': u'#proposal-318592',\n",
       " 'presenters': [u'katiepark', u'aboutaaron'],\n",
       " 'title': u'A data analysis of ourselves \\xb6'}"
      ]
     },
     "execution_count": 151,
     "metadata": {},
     "output_type": "execute_result"
    }
   ],
   "source": [
    "sess[0]\n"
   ]
  },
  {
   "cell_type": "code",
   "execution_count": 152,
   "metadata": {
    "collapsed": true
   },
   "outputs": [],
   "source": [
    "for presenter in tweeps2:\n",
    "    name = presenter['twitter_handle'].replace('@','')\n",
    "    presenter_sessions = [s for s in sess if name in s['presenters']]\n",
    "    presenter['sessions'] = presenter_sessions"
   ]
  },
  {
   "cell_type": "code",
   "execution_count": 153,
   "metadata": {
    "collapsed": true
   },
   "outputs": [],
   "source": [
    "presenters = tweeps2[:]\n"
   ]
  },
  {
   "cell_type": "code",
   "execution_count": 154,
   "metadata": {
    "collapsed": false
   },
   "outputs": [
    {
     "data": {
      "text/plain": [
       "{'alt_handle': None,\n",
       " 'bio': u'Code + graphics at @nprviz, previously @postgraphics. Tampa-raised. Guitar/vox @hemlinesband + @badmovesdc.',\n",
       " 'handle_from_bio': u'@katiepark',\n",
       " 'location': u'DC',\n",
       " 'name': u'Katie Park',\n",
       " 'photo_url': u'https://pbs.twimg.com/profile_images/719524834582142976/hPFwMtAF_400x400.jpg',\n",
       " 'savename': u'katie_park.jpg',\n",
       " 'sessions': [{'description': u'In the past few years, we\\u2019ve seen emerging recognition of graphics and data journalism, most recently in the Pulitzers awarded to data-centric projects. Our community is reflecting on recent years of our work and has established design patterns and philosophies. But we mostly talk about how we do our journalism \\u2013 now let\\u2019s talk about the people doing it. How have the expectations of a journalist\\u2019s career trajectory changed with emerging roles and disciplines? Have we made our corner of the industry open to aspiring news nerds who might not have access to the tools and resources that gave many of us a lift into this field? And what if you don\\u2019t see your job as your calling? Our goal is provide a catharsis about our work and develop solutions that look out for the people doing this work. We\\u2019ll ask hard questions of ourselves to foster a discussion about the sustainability of what we do.\\n',\n",
       "   'href': u'#proposal-318592',\n",
       "   'presenters': [u'katiepark', u'aboutaaron'],\n",
       "   'title': u'A data analysis of ourselves \\xb6'}],\n",
       " 'twitter_handle': u'@katiepark',\n",
       " 'url': None}"
      ]
     },
     "execution_count": 154,
     "metadata": {},
     "output_type": "execute_result"
    }
   ],
   "source": [
    "presenters[0]"
   ]
  },
  {
   "cell_type": "code",
   "execution_count": 157,
   "metadata": {
    "collapsed": true
   },
   "outputs": [],
   "source": [
    "md1_name = '### %s\\n\\n'\n",
    "md2_photo = \"[![](headshots%s)](https://twitter.com%s)\\n\\n\"\n",
    "md3_handle = \"[%s](https://twitter.com%s), %s\\n\\n\"\n",
    "md4_website = \"website: [%s](%s) \\n\\n\"\n",
    "md5_bio = \"%s \\n\\n --- \\n\\n\"\n",
    "md1_sessions = '#### session(s): %s\\n\\n'\n",
    "src = 'http://srccon.org/sessions/'\n",
    "\n",
    "def mark_me_down(tw):\n",
    "    out = md1_name % tw['name']\n",
    "    out += md1_sessions % ', '.join(['['+ s['title'] + '](' + src + s['href'] + ')' for s in tw['sessions']])\n",
    "    out += md2_photo % (('/'+tw['savename']), ('/'+tw['twitter_handle'].replace('@','')))\n",
    "    out += md3_handle % (tw['twitter_handle'], ('/'+tw['twitter_handle'].replace('@','')),tw['location'])\n",
    "    out += md4_website % (tw['url'], tw['url'])\n",
    "    out += md5_bio % tw['bio'] \n",
    "    return out"
   ]
  },
  {
   "cell_type": "code",
   "execution_count": 158,
   "metadata": {
    "collapsed": false
   },
   "outputs": [],
   "source": [
    "mdout = '# SRCCON 2016 presenters \\n\\n---\\n\\n'\n",
    "for t in tweeps2:\n",
    "    mdout += mark_me_down(t)"
   ]
  },
  {
   "cell_type": "code",
   "execution_count": 160,
   "metadata": {
    "collapsed": false
   },
   "outputs": [],
   "source": [
    "with open('../../lrs-bin/srccon_2016/srccon_session_presenters.md','w') as outjunk:\n",
    "    outjunk.write(mdout.encode('utf-8'))"
   ]
  }
 ],
 "metadata": {
  "kernelspec": {
   "display_name": "Python 2",
   "language": "python",
   "name": "python2"
  },
  "language_info": {
   "codemirror_mode": {
    "name": "ipython",
    "version": 2
   },
   "file_extension": ".py",
   "mimetype": "text/x-python",
   "name": "python",
   "nbconvert_exporter": "python",
   "pygments_lexer": "ipython2",
   "version": "2.7.10"
  }
 },
 "nbformat": 4,
 "nbformat_minor": 0
}
