{
 "cells": [
  {
   "cell_type": "code",
   "execution_count": 8,
   "metadata": {
    "collapsed": false
   },
   "outputs": [],
   "source": [
    "import requests\n",
    "from bs4 import BeautifulSoup"
   ]
  },
  {
   "cell_type": "markdown",
   "metadata": {},
   "source": [
    "!pip install beautifulsoup4"
   ]
  },
  {
   "cell_type": "markdown",
   "metadata": {},
   "source": [
    "!pip install requests"
   ]
  },
  {
   "cell_type": "code",
   "execution_count": 5,
   "metadata": {
    "collapsed": true
   },
   "outputs": [],
   "source": [
    "r = requests.get(\"http://srccon.org/sessions/\")"
   ]
  },
  {
   "cell_type": "code",
   "execution_count": 10,
   "metadata": {
    "collapsed": false
   },
   "outputs": [],
   "source": [
    "soup = BeautifulSoup(r.content)"
   ]
  },
  {
   "cell_type": "code",
   "execution_count": 12,
   "metadata": {
    "collapsed": false
   },
   "outputs": [],
   "source": [
    "twitters = [ a for a in soup.find_all('a') if 'twitter' in a['href'] ]"
   ]
  },
  {
   "cell_type": "code",
   "execution_count": 15,
   "metadata": {
    "collapsed": false
   },
   "outputs": [
    {
     "data": {
      "text/plain": [
       "[<a href=\"https://twitter.com/katiepark\">Katie Park</a>,\n",
       " <a href=\"https://twitter.com/@aboutaaron\">Aaron Williams</a>,\n",
       " <a href=\"https://twitter.com/joannaskao\">Joanna S. Kao</a>,\n",
       " <a href=\"https://twitter.com/JoelEastwood\">Joel Eastwood</a>,\n",
       " <a href=\"https://twitter.com/@emmacarew\">Emma Carew Grovum</a>,\n",
       " <a href=\"https://twitter.com/brianloveswords\">Brian J Brennan</a>,\n",
       " <a href=\"https://twitter.com/brianloveswords/status/717749353914490881\">Very Scientific\\u2122 poll</a>,\n",
       " <a href=\"https://twitter.com/smoughts\">Sarah Moughty</a>,\n",
       " <a href=\"https://twitter.com/@pamjohnston\">Pamela Johnston</a>,\n",
       " <a href=\"https://twitter.com/thomaswilburn\">Thomas Wilburn</a>,\n",
       " <a href=\"https://twitter.com/kateschimel\">Katharine Schimel</a>,\n",
       " <a href=\"https://twitter.com/jordanwb\">Jordan Wirfs-Brock</a>,\n",
       " <a href=\"https://twitter.com/geoffhing\">Geoff Hing</a>,\n",
       " <a href=\"https://twitter.com/stefanwehrmeyer\">Stefan Wehrmeyer</a>,\n",
       " <a href=\"https://twitter.com/mikejcorey\">Michael Corey</a>,\n",
       " <a href=\"https://twitter.com/neenareports\">Neena Satija</a>,\n",
       " <a href=\"https://twitter.com/taraadiseshan\">Tara Adiseshan</a>,\n",
       " <a href=\"https://twitter.com/@hyper_linda\">Linda Sandvik</a>,\n",
       " <a href=\"https://twitter.com/zohf, hellogeorgia\">Josh Laincz</a>,\n",
       " <a href=\"https://twitter.com/hellogeorgia\">Georgia Cowley</a>,\n",
       " <a href=\"https://twitter.com/gboysun\">Gina Boysun</a>,\n",
       " <a href=\"https://twitter.com/myersjustinc\">Justin Myers</a>,\n",
       " <a href=\"https://twitter.com/jasonalcorn\">Jason Alcorn</a>,\n",
       " <a href=\"https://twitter.com/tangentialism\">David Yee</a>,\n",
       " <a href=\"https://twitter.com/robinkwong\">Robin Kwong</a>,\n",
       " <a href=\"https://twitter.com/tinysubversions\">Darius Kazemi</a>,\n",
       " <a href=\"https://twitter.com/@jfriedhoff\">Jane Friedhoff</a>,\n",
       " <a href=\"https://twitter.com/julia67\">Julia Smith</a>,\n",
       " <a href=\"https://twitter.com/kelsa_\">Kelsey Scherer</a>,\n",
       " <a href=\"https://twitter.com/laurenrabaino\">Lauren Rabaino</a>,\n",
       " <a href=\"https://twitter.com/_neilbedi\">Neil Bedi</a>,\n",
       " <a href=\"https://twitter.com/ArianaNGiorgi\">Ariana Giorgi</a>,\n",
       " <a href=\"https://twitter.com/christinezhang\">Christine Zhang</a>,\n",
       " <a href=\"https://twitter.com/bo_p\">Bo Peng</a>,\n",
       " <a href=\"https://twitter.com/reefdog\">Justin Reese</a>,\n",
       " <a href=\"https://twitter.com/arjunasoriano\">Arjuna Soriano</a>,\n",
       " <a href=\"https://twitter.com/pietropassarell\">Pietro Passarelli</a>,\n",
       " <a href=\"https://twitter.com/anmccartney\">Allison McCartney</a>,\n",
       " <a href=\"https://twitter.com/dollyli\">Dolly Li</a>,\n",
       " <a href=\"https://twitter.com/gaba\">Gabriela Rodriguez Beron</a>,\n",
       " <a href=\"https://twitter.com/daviderwin\">David Erwin</a>,\n",
       " <a href=\"https://twitter.com/wolfewylie\">William Wolfe-Wylie</a>,\n",
       " <a href=\"https://twitter.com/kissane\">Erin Kissane</a>,\n",
       " <a href=\"https://twitter.com/lifewinning\">Ingrid Burrington</a>,\n",
       " <a href=\"https://twitter.com/sashak\">Sasha Koren</a>,\n",
       " <a href=\"https://twitter.com/_alastair\">Alastair Coote</a>,\n",
       " <a href=\"https://twitter.com/crushgear\">Steph Yiu</a>,\n",
       " <a href=\"https://twitter.com/jeremybowers\">Jeremy Bowers</a>,\n",
       " <a href=\"https://twitter.com/dansinker\">Dan Sinker</a>,\n",
       " <a href=\"https://twitter.com/scottpham\">Scott Pham</a>,\n",
       " <a href=\"https://twitter.com/danielpwwood\">Daniel Wood</a>,\n",
       " <a href=\"https://twitter.com/zzolo\">Alan Palazzolo</a>,\n",
       " <a href=\"https://twitter.com/clarii_d\">Clarisa Diaz</a>,\n",
       " <a href=\"https://twitter.com/leimdorfer\">Andrew Leimdorfer</a>,\n",
       " <a href=\"https://twitter.com/anieldaniel\">Annie Daniel</a>,\n",
       " <a href=\"https://twitter.com/Chronotope\">Aram Zucker-Scharff</a>,\n",
       " <a href=\"https://twitter.com/mattdennewitz\">Matt Dennewitz</a>,\n",
       " <a href=\"https://twitter.com/donohoe\">Michael Donohoe</a>,\n",
       " <a href=\"https://twitter.com/gurmanbhatia\">Gurman Bhatia</a>,\n",
       " <a href=\"https://twitter.com/knowtheory\">Ted Han</a>,\n",
       " <a href=\"https://twitter.com/@mtigas\">Mike Tigas</a>,\n",
       " <a href=\"https://twitter.com/sandhya__k\">Sandhya Kambhampati</a>,\n",
       " <a href=\"https://twitter.com/lamthuyvo\">Lam Vo</a>,\n",
       " <a href=\"https://twitter.com/kaeti\">Kaeti Hinck</a>,\n",
       " <a href=\"https://twitter.com/eschow\">Emily Chow</a>,\n",
       " <a href=\"https://twitter.com/juruwolfe\">Julia Wolfe</a>,\n",
       " <a href=\"https://twitter.com/ivarvong\">Ivar Vong</a>,\n",
       " <a href=\"https://twitter.com/JoeGermuska\">Joe Germuska</a>,\n",
       " <a href=\"https://twitter.com/@jjelosua\">Juan Elosua</a>,\n",
       " <a href=\"https://twitter.com/mfiandor\">Miguel Fiandor</a>,\n",
       " <a href=\"https://twitter.com/pam_yam\">Pamela Assogba</a>,\n",
       " <a href=\"https://twitter.com/kavyasukumar\">Kavya Sukumar</a>,\n",
       " <a href=\"https://twitter.com/impronunciable\">Dan Zajdband</a>,\n",
       " <a href=\"https://twitter.com/amyjo_brown\">AmyJo Brown</a>,\n",
       " <a href=\"https://twitter.com/@jlthibault\">Jennifer Thibault</a>,\n",
       " <a href=\"https://twitter.com/@Evie_xing\">Evie Liu</a>,\n",
       " <a href=\"https://twitter.com/stevesuo\">Steve Suo</a>,\n",
       " <a href=\"https://twitter.com/ccanipe\">Chris Canipe</a>,\n",
       " <a href=\"https://twitter.com/@JonRMcClure\">Jon McClure</a>,\n",
       " <a href=\"https://twitter.com/Millie\">Millie Tran</a>,\n",
       " <a href=\"https://twitter.com/@s_m_i\">Stacy-Marie Ishmael</a>,\n",
       " <a href=\"https://twitter.com/hellbox\">Martin McClellan</a>,\n",
       " <a href=\"https://twitter.com/tiffehr\">Tiff Fehr</a>,\n",
       " <a href=\"https://twitter.com/YAN0\">David Yanofsky</a>,\n",
       " <a href=\"https://twitter.com/sarahjsquire\">Sarah Squire</a>,\n",
       " <a href=\"https://twitter.com/rdmurphy\">Ryan Murphy</a>,\n",
       " <a href=\"https://twitter.com/gidsg\">Gideon Goldberg</a>]"
      ]
     },
     "execution_count": 15,
     "metadata": {},
     "output_type": "execute_result"
    }
   ],
   "source": [
    "#twitters = twitters[:-1]\n",
    "twitters"
   ]
  },
  {
   "cell_type": "code",
   "execution_count": 71,
   "metadata": {
    "collapsed": false
   },
   "outputs": [],
   "source": [
    "tweeps = []\n",
    "picture_getter = open('avatars.list','w') "
   ]
  },
  {
   "cell_type": "code",
   "execution_count": 72,
   "metadata": {
    "collapsed": false
   },
   "outputs": [
    {
     "name": "stdout",
     "output_type": "stream",
     "text": [
      "Katie Park\n",
      "Aaron Williams\n",
      "Joanna S. Kao\n",
      "Joel Eastwood\n",
      "Emma Carew Grovum\n",
      "Brian J Brennan\n",
      "Very Scientific™ poll\n",
      "Sarah Moughty\n",
      "Pamela Johnston\n",
      "Thomas Wilburn\n",
      "Katharine Schimel\n",
      "Jordan Wirfs-Brock\n",
      "Geoff Hing\n",
      "Stefan Wehrmeyer\n",
      "Michael Corey\n",
      "Neena Satija\n",
      "Tara Adiseshan\n",
      "Linda Sandvik\n",
      "Josh Laincz\n",
      "Georgia Cowley\n",
      "Gina Boysun\n",
      "Justin Myers\n",
      "Jason Alcorn\n",
      "David Yee\n",
      "Robin Kwong\n",
      "Darius Kazemi\n",
      "Jane Friedhoff\n",
      "Julia Smith\n",
      "Kelsey Scherer\n",
      "Lauren Rabaino\n",
      "Neil Bedi\n",
      "Ariana Giorgi\n",
      "Christine Zhang\n",
      "Bo Peng\n",
      "Justin Reese\n",
      "Arjuna Soriano\n",
      "Pietro Passarelli\n",
      "Allison McCartney\n",
      "Dolly Li\n",
      "Gabriela Rodriguez Beron\n",
      "David Erwin\n",
      "William Wolfe-Wylie\n",
      "Erin Kissane\n",
      "Ingrid Burrington\n",
      "Sasha Koren\n",
      "Alastair Coote\n",
      "Steph Yiu\n",
      "Jeremy Bowers\n",
      "Dan Sinker\n",
      "Scott Pham\n",
      "Daniel Wood\n",
      "Alan Palazzolo\n",
      "Clarisa Diaz\n",
      "Andrew Leimdorfer\n",
      "Annie Daniel\n",
      "Aram Zucker-Scharff\n",
      "Matt Dennewitz\n",
      "Michael Donohoe\n",
      "Gurman Bhatia\n",
      "Ted Han\n",
      "Mike Tigas\n",
      "Sandhya Kambhampati\n",
      "Lam Vo\n",
      "Kaeti Hinck\n",
      "Emily Chow\n",
      "Julia Wolfe\n",
      "Ivar Vong\n",
      "Joe Germuska\n",
      "Juan Elosua\n",
      "Miguel Fiandor\n",
      "Pamela Assogba\n",
      "Kavya Sukumar\n",
      "Dan Zajdband\n",
      "AmyJo Brown\n",
      "Jennifer Thibault\n",
      "Evie Liu\n",
      "Steve Suo\n",
      "Chris Canipe\n",
      "Jon McClure\n",
      "Millie Tran\n",
      "Stacy-Marie Ishmael\n",
      "Martin McClellan\n",
      "Tiff Fehr\n",
      "David Yanofsky\n",
      "Sarah Squire\n",
      "Ryan Murphy\n",
      "Gideon Goldberg\n"
     ]
    }
   ],
   "source": [
    "for twit in twitters:\n",
    "    name = twit.text\n",
    "    print name\n",
    "    \n",
    "    alt_handle = None\n",
    "    if ', ' in twit['href']:\n",
    "        twit['href'],alt_handle = twit['href'].split(', ')\n",
    "        alt_handle = '@%s' % alt_handle\n",
    "    \n",
    "    handle = '@' + twit['href'].split('/')[-1].replace('@','')\n",
    "    \n",
    "    twitsoup = BeautifulSoup(requests.get(twit['href']).content)\n",
    "    \n",
    "    picture_url = twitsoup.find('img',class_='ProfileAvatar-image')['src']\n",
    "    picture_getter.write('%s\\n' % picture_url)\n",
    "    \n",
    "    infos = twitsoup.find('div',class_='ProfileHeaderCard')\n",
    "    \n",
    "    stuff = [c for c in infos.children if not isinstance(c,unicode)]\n",
    "    name, twhandle, bio, location, url = stuff[:5]\n",
    "    \n",
    "    if name.find('a'):\n",
    "        name = name.find('a').text\n",
    "    else: name = None\n",
    "    \n",
    "    if twhandle.find('a'):\n",
    "        twhandle = twhandle.find('a').text\n",
    "    else: twhandle = None\n",
    "        \n",
    "    if bio.text:\n",
    "        bio = bio.text\n",
    "    else: bio = None\n",
    "\n",
    "    if location.text:\n",
    "        location = location.text.strip()\n",
    "    else: location = None\n",
    "    \n",
    "    if url.find('a'):\n",
    "        url = url.find('a')['title']\n",
    "    else: url = None\n",
    "    \n",
    "    tweeps.append({\n",
    "            'name': name,\n",
    "            'twitter_handle': twitter_handle,\n",
    "            'alt_handle': alt_handle,\n",
    "            'photo_url': picture_url,\n",
    "            'name': name,\n",
    "            'handle_from_bio': twhandle,\n",
    "            'bio': bio,\n",
    "            'location': location,\n",
    "            'url': url\n",
    "        })"
   ]
  },
  {
   "cell_type": "code",
   "execution_count": 73,
   "metadata": {
    "collapsed": false
   },
   "outputs": [],
   "source": [
    "import json\n",
    "with open('srccon_stalk.dirt','w') as dirtfile:\n",
    "    json.dump(tweeps, dirtfile)\n"
   ]
  }
 ],
 "metadata": {
  "kernelspec": {
   "display_name": "Python 2",
   "language": "python",
   "name": "python2"
  },
  "language_info": {
   "codemirror_mode": {
    "name": "ipython",
    "version": 2
   },
   "file_extension": ".py",
   "mimetype": "text/x-python",
   "name": "python",
   "nbconvert_exporter": "python",
   "pygments_lexer": "ipython2",
   "version": "2.7.10"
  }
 },
 "nbformat": 4,
 "nbformat_minor": 0
}
