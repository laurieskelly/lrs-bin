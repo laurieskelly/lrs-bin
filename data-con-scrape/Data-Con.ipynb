{
 "metadata": {
  "name": "",
  "signature": "sha256:9c2bc6de99e90c3aa06bcdb4e42669924f04a5475418898e0d41162893d9d156"
 },
 "nbformat": 3,
 "nbformat_minor": 0,
 "worksheets": [
  {
   "cells": [
    {
     "cell_type": "markdown",
     "metadata": {},
     "source": [
      "##What we'll be using in this workshop\n",
      "* Python 2.7\n",
      "\n",
      "###Things you might have to install if you want to work along\n",
      "* [ipython notebook](http://ipython.org/ipython-doc/dev/notebook/)\n",
      "  - `pip install ipython[notebook]`\n",
      "* [requests](http://docs.python-requests.org/en/latest/)\n",
      "  - `pip install requests`\n",
      "* [BeautifulSoup](http://www.crummy.com/software/BeautifulSoup/bs4/doc/)\n",
      "  - `pip install bs4`\n",
      "* [PIL (python image library)](http://effbot.org/imagingbook/pil-index.htm#module-reference)\n",
      "  - `pip install pillow`\n",
      "* [selenium](http://selenium-python.readthedocs.org/)\n",
      "  - *(see module below for installation instructions)*\n",
      "* [dateutil](https://labix.org/python-dateutil#head-a23e8ae0a661d77b89dfb3476f85b26f0b30349c)\n",
      "  - `pip install python-dateutil`\n",
      "\n",
      "\n",
      "###Packages we'll use from the standard library \n",
      "* [pickle](https://docs.python.org/2/library/pickle.html)\n",
      "* [StringIO](https://docs.python.org/2/library/stringio.html)"
     ]
    },
    {
     "cell_type": "markdown",
     "metadata": {},
     "source": [
      "### Selenium installation\n",
      "\n",
      "* for scraping with selenium webdriver, we will need to install it first:  \n",
      "```\n",
      "pip install selenium\n",
      "```\n",
      "\n",
      "* If you don't have Google Chrome, install it: https://www.google.com/chrome/browser/  \n",
      "\n",
      "\n",
      "* download the selenium \"driver\" for chrome, from [here](https://code.google.com/p/selenium/wiki/ChromeDriver)\n",
      "\n",
      "  - The chrome driver is a single file: Put it somewhere accessible (your home directory or the directory where you are running this file are good options). \n",
      "\n",
      "  - When you're initiating the driver in python, you will specify the path to this chromedriver file you downloaded.\n",
      "\n",
      "```\n",
      "from selenium import webdriver\n",
      "driver = webdriver.Chrome('./chromedriver')\n",
      "```\n",
      "(Change the path `'./chromedriver'` to the directory where you put your chromedriver file)\n",
      "\n",
      "*Note*: In case your computer complains about the driver even though it really is in the path you specified, I've found this [stackoverflow answer](http://stackoverflow.com/questions/8255929/running-webdriver-chrome-with-selenium) helpful for troubleshooting. "
     ]
    },
    {
     "cell_type": "markdown",
     "metadata": {},
     "source": [
      "#Scrape Project 1:\n",
      "###data-con face sheet"
     ]
    },
    {
     "cell_type": "code",
     "collapsed": false,
     "input": [
      "import requests\n",
      "# the requests package in python is awesome. check it out if you are used to using urllib2\n",
      "\n",
      "# in this step creates a request object and makes the request\n",
      "r = requests.get('http://data-con.org/schedule/')\n"
     ],
     "language": "python",
     "metadata": {},
     "outputs": []
    },
    {
     "cell_type": "code",
     "collapsed": false,
     "input": [
      "# our variable r now holds a response object\n",
      "print 'r is an instance of',type(r)\n",
      "# but if we want to see the request we sent to get the response, it is kept as an attribute of the response object.\n",
      "print 'r.request = %s'%repr(r.request)\n",
      "\n",
      "print '\\nURL of the request:'\n",
      "print 'r.request.url = %s'%r.request.url\n",
      "print '\\n Headers:'\n",
      "\n",
      "from pprint import pprint\n",
      "pprint(dict(r.request.headers))\n"
     ],
     "language": "python",
     "metadata": {},
     "outputs": [
      {
       "output_type": "stream",
       "stream": "stdout",
       "text": [
        "r is an instance of <class 'requests.models.Response'>\n",
        "r.request = <PreparedRequest [GET]>\n",
        "\n",
        "URL of the request:\n",
        "r.request.url = http://data-con.org/schedule/\n",
        "\n",
        " Headers:\n",
        "{'Accept': '*/*',\n",
        " 'Accept-Encoding': 'gzip, deflate, compress',\n",
        " 'User-Agent': 'python-requests/1.2.3 CPython/2.7.2 Darwin/12.5.0'}\n"
       ]
      }
     ],
     "prompt_number": 23
    },
    {
     "cell_type": "code",
     "collapsed": false,
     "input": [
      "# back to scraping. the response object r holds the html of the page we want to scrape in r.content\n",
      "print r.content"
     ],
     "language": "python",
     "metadata": {},
     "outputs": [
      {
       "output_type": "stream",
       "stream": "stdout",
       "text": [
        "<!DOCTYPE html>\r\n",
        "<!--[if IE 7]>\r\n",
        "<html class=\"ie ie7\" lang=\"en-US\">\r\n",
        "<![endif]-->\r\n",
        "<!--[if IE 8]>\r\n",
        "<html class=\"ie ie8\" lang=\"en-US\">\r\n",
        "<![endif]-->\r\n",
        "<!--[if !(IE 7) | !(IE 8) ]><!-->\r\n",
        "<html lang=\"en-US\">\r\n",
        "<!--<![endif]-->\r\n",
        "<head>\r\n",
        "<meta charset=\"UTF-8\" />\r\n",
        "<meta name=\"viewport\" content=\"width=device-width, initial-scale=1, maximum-scale=1\">\r\n",
        "<title>\r\n",
        "Schedule | Boston Data-Con 2014</title>\r\n",
        "<link rel=\"profile\" href=\"http://gmpg.org/xfn/11\" />\r\n",
        "<link rel=\"pingback\" href=\"http://data-con.org/xmlrpc.php\" />\r\n",
        "<!--[if lt IE 9]>\r\n",
        "\t<script src=\"http://data-con.org/wp-content/themes/interface/js/html5.js\"></script>\r\n",
        "\t<![endif]-->\r\n",
        "<link rel=\"alternate\" type=\"application/rss+xml\" title=\"Boston Data-Con 2014 &raquo; Feed\" href=\"http://data-con.org/feed/\" />\n",
        "<link rel=\"alternate\" type=\"application/rss+xml\" title=\"Boston Data-Con 2014 &raquo; Comments Feed\" href=\"http://data-con.org/comments/feed/\" />\n",
        "<link rel='stylesheet' id='jquery-ui-css'  href='http://data-con.org/wp-content/plugins/contact-form-builder/css/jquery-ui-1.10.3.custom.css?ver=3.9.2' type='text/css' media='all' />\n",
        "<link rel='stylesheet' id='contact_form_maker_frontend-css'  href='http://data-con.org/wp-content/plugins/contact-form-builder/css/contact_form_maker_frontend.css?ver=3.9.2' type='text/css' media='all' />\n",
        "<link rel='stylesheet' id='interface_style-css'  href='http://data-con.org/wp-content/themes/interface/style.css?ver=3.9.2' type='text/css' media='all' />\n",
        "<link rel='stylesheet' id='interface-responsive-css'  href='http://data-con.org/wp-content/themes/interface/css/responsive.css?ver=3.9.2' type='text/css' media='all' />\n",
        "<link rel='stylesheet' id='google_fonts-css'  href='http://fonts.googleapis.com/css?family=PT+Sans%3A400%2C700italic%2C700%2C400italic&#038;ver=3.9.2' type='text/css' media='all' />\n",
        "<link rel='stylesheet' id='tablepress-default-css'  href='http://data-con.org/wp-content/tablepress-combined.min.css?ver=295' type='text/css' media='all' />\n",
        "<script type='text/javascript' src='http://data-con.org/wp-includes/js/jquery/jquery.js?ver=1.11.0'></script>\n",
        "<script type='text/javascript' src='http://data-con.org/wp-includes/js/jquery/jquery-migrate.min.js?ver=1.2.1'></script>\n",
        "<script type='text/javascript' src='https://maps.google.com/maps/api/js?sensor=false&#038;ver=3.9.2'></script>\n",
        "<script type='text/javascript' src='http://data-con.org/wp-content/plugins/contact-form-builder/js/if_gmap_front_end.js?ver=3.9.2'></script>\n",
        "<script type='text/javascript' src='http://data-con.org/wp-content/plugins/contact-form-builder/js/cfm_main_front_end.js?ver=1.0.0'></script>\n",
        "<script type='text/javascript' src='http://data-con.org/wp-content/themes/interface/js/backtotop.js?ver=3.9.2'></script>\n",
        "<script type='text/javascript' src='http://data-con.org/wp-content/themes/interface/js/scripts.js?ver=3.9.2'></script>\n",
        "<link rel=\"EditURI\" type=\"application/rsd+xml\" title=\"RSD\" href=\"http://data-con.org/xmlrpc.php?rsd\" />\n",
        "<link rel=\"wlwmanifest\" type=\"application/wlwmanifest+xml\" href=\"http://data-con.org/wp-includes/wlwmanifest.xml\" /> \n",
        "<link rel='prev' title='Invitation to Present' href='http://data-con.org/invitation-to-present/' />\n",
        "<link rel='next' title='iPython Tutorial &#8211; Imran Malek' href='http://data-con.org/ipython/' />\n",
        "<meta name=\"generator\" content=\"WordPress 3.9.2\" />\n",
        "<link rel='canonical' href='http://data-con.org/schedule/' />\n",
        "<link rel='shortlink' href='http://data-con.org/?p=253' />\n",
        "</head>\r\n",
        "\r\n",
        "<body class=\"page page-id-253 page-template-default full-width-template narrow-layout\">\r\n",
        "<div class=\"wrapper\">\r\n",
        "<header id=\"branding\" >\r\n",
        "  <div class=\"social-profiles clearfix\">\r\n",
        "\t\t\t\t\t<ul>\r\n",
        "\t\t\t\t</ul>\r\n",
        "\t\t\t\t</div><!-- .social-profiles --><a href=\"http://data-con.org/\"><img src=\"http://data-con.org/wp-content/uploads/2014/08/bdc-logo-0827.png\" class=\"header-image\" width=\"1500\" height=\"333\" alt=\"Boston Data-Con 2014\"> </a>\r\n",
        "<div class=\"hgroup-wrap\">\r\n",
        "  <div class=\"container clearfix\">\r\n",
        "    <section id=\"site-logo\" class=\"clearfix\">\r\n",
        "            <h1 id=\"site-title\"> <a href=\"http://data-con.org/\" title=\"Boston Data-Con 2014\" rel=\"home\">\r\n",
        "        Boston Data-Con 2014        </a> </h1>\r\n",
        "      <h2 id=\"site-description\">\r\n",
        "              </h2>\r\n",
        "          </section>\r\n",
        "    <!-- #site-logo -->\r\n",
        "    <button class=\"menu-toggle\">Responsive Menu</button>\r\n",
        "    <section class=\"hgroup-right\">\r\n",
        "      <nav id=\"access\" class=\"clearfix\"><ul class=\"nav-menu\"><li id=\"menu-item-82\" class=\"menu-item menu-item-type-post_type menu-item-object-page menu-item-82\"><a href=\"http://data-con.org/register/\">Register</a></li>\n",
        "<li id=\"menu-item-815\" class=\"menu-item menu-item-type-post_type menu-item-object-page current-menu-item page_item page-item-253 current_page_item menu-item-815\"><a href=\"http://data-con.org/schedule/\">Schedule</a></li>\n",
        "<li id=\"menu-item-127\" class=\"menu-item menu-item-type-post_type menu-item-object-page menu-item-127\"><a href=\"http://data-con.org/directions/\">Directions</a></li>\n",
        "<li id=\"menu-item-122\" class=\"menu-item menu-item-type-post_type menu-item-object-page menu-item-122\"><a href=\"http://data-con.org/microsoft-nerd/\">Floorplan</a></li>\n",
        "<li id=\"menu-item-134\" class=\"menu-item menu-item-type-post_type menu-item-object-page menu-item-134\"><a href=\"http://data-con.org/contact/\">Contact</a></li>\n",
        "</ul></nav><!-- #access -->      <div class=\"search-toggle\"></div>\r\n",
        "      <!-- .search-toggle -->\r\n",
        "      <div id=\"search-box\" class=\"hide\">\r\n",
        "        \r\n",
        "<form action=\"http://data-con.org/\" method=\"get\" class=\"searchform clearfix\">\r\n",
        "  <label class=\"assistive-text\">\r\n",
        "    Search  </label>\r\n",
        "  <input type=\"search\" placeholder=\"Search\" class=\"s field\" name=\"s\">\r\n",
        "  <input type=\"submit\" value=\"Search\" class=\"search-submit\">\r\n",
        "</form>\r\n",
        "<!-- .search-form -->\r\n",
        "        <span class=\"arrow\"></span> </div>\r\n",
        "      <!-- #search-box --> \r\n",
        "    </section>\r\n",
        "    <!-- .hgroup-right --> \r\n",
        "  </div>\r\n",
        "  <!-- .container --> \r\n",
        "</div>\r\n",
        "<!-- .hgroup-wrap -->\r\n",
        "\r\n",
        "<div class=\"page-title-wrap\">\r\n",
        "  <div class=\"container clearfix\">\r\n",
        "        <h1 class=\"page-title\">Schedule</h1>\r\n",
        "    <!-- .page-title --> \r\n",
        "  </div>\r\n",
        "</div>\r\n",
        "</header>\r\n",
        "<div id=\"main\">\r\n",
        "<div class=\"container clearfix\">\r\n",
        "<div id=\"content\"><section id=\"post-253\" class=\"post-253 page type-page status-publish hentry\">\r\n",
        "  <article>\r\n",
        "                <div class=\"entry-content clearfix\">\r\n",
        "      <h3 style=\"text-align: center;\"><strong>OVERVIEW OF SESSIONS</strong></h3>\n",
        "<h4>The schedule is primarily organized by programming languages and themes.\u00a0 Traditionally, we&#8217;ve had separate R, Python, or Hadoop events; however this year we are having them all at one event.\u00a0 Some topics, such as Data Engineering or Data Visualization, span several languages, and as such we believe it will be beneficial for folks of different programming language background to see what is possible on different platforms.\u00a0\u00a0 Albeit, all that said, R is more on Saturday, and Python on Sunday as we realize folks often are interested in one or the other.</h4>\n",
        "<p>&nbsp;</p>\n",
        "<h4>\n",
        "<table id=\"tablepress-5\" class=\"tablepress tablepress-id-5\">\n",
        "<tbody>\n",
        "<tr class=\"row-1\">\n",
        "\t<td class=\"column-1\"><strong><center>Theme</center></strong></td><td class=\"column-2\"><strong><center>R</center></strong></td><td class=\"column-3\"><strong><center>Python</center></strong></td><td class=\"column-4\"><strong><center>Big Data</center></strong></td>\n",
        "</tr>\n",
        "<tr class=\"row-2\">\n",
        "\t<td class=\"column-1\">Beginner Workshops</td><td class=\"column-2\">Beginner Workshop</td><td class=\"column-3\">Beginner Workshop</td><td class=\"column-4\"></td>\n",
        "</tr>\n",
        "<tr class=\"row-3\">\n",
        "\t<td class=\"column-1\">Machine Learning &amp; Big Data</td><td class=\"column-2\">Machine Learning and R</td><td class=\"column-3\">ML, Python and Big Data</td><td class=\"column-4\">Hadoop, MS Azure</td>\n",
        "</tr>\n",
        "<tr class=\"row-4\">\n",
        "\t<td class=\"column-1\">Data Science &amp; Engineering</td><td class=\"column-2\">Data Science &amp; Engineering</td><td class=\"column-3\">Data Science &amp; Engineering</td><td class=\"column-4\">More Hadoop, Hive, EMC, AWS</td>\n",
        "</tr>\n",
        "<tr class=\"row-5\">\n",
        "\t<td class=\"column-1\">DataViz and Interactive Web</td><td class=\"column-2\">Interactive DataViz &amp; R</td><td class=\"column-3\">Interactive DataViz &amp; Python</td><td class=\"column-4\"></td>\n",
        "</tr>\n",
        "<tr class=\"row-6\">\n",
        "\t<td class=\"column-1\">Text Analytics</td><td class=\"column-2\">Twitter, APIs, and Text Mining</td><td class=\"column-3\"></td><td class=\"column-4\">Apache SOLR,  <br />\n",
        "Locality Sensitive Hashing</td>\n",
        "</tr>\n",
        "</tbody>\n",
        "</table>\n",
        "<!-- #tablepress-5 from cache --></h4>\n",
        "<p>&nbsp;</p>\n",
        "<h3 style=\"text-align: center;\"><strong>OVERVIEW OF REGISTRATION</strong></h3>\n",
        "<h4>Here is a condensed schedule that mirrors the registration for the event; i.e. Fri PM (6-9), Sat AM (9-12), Sat PM (1-4), Sun AM (9-12), and Sun PM (1-4).  Sessions, such as <span style=\"background-color: #cccccc;\"><span style=\"color: black;\">DataViz or Text Analytics</span></span>, have talks covering different software and approaches. Since the registration is by day/time you can attend talks in either session.</h4>\n",
        "<p>\n",
        "<table id=\"tablepress-35\" class=\"tablepress tablepress-id-35\">\n",
        "<thead>\n",
        "<tr class=\"row-1\">\n",
        "\t<th class=\"column-1\"><div>&nbsp;</div></th><th class=\"column-2\"><div>&nbsp;</div></th><th class=\"column-3\"><div>&nbsp;</div></th><th class=\"column-4\"><div>&nbsp;</div></th><th class=\"column-5\"><div>&nbsp;</div></th><th class=\"column-6\"><div>&nbsp;</div></th>\n",
        "</tr>\n",
        "</thead>\n",
        "<tbody>\n",
        "<tr class=\"row-2\">\n",
        "\t<td class=\"column-1\"><strong><center>FRI</center></strong></td><td class=\"column-2\"><strong>PM</strong></td><td class=\"column-3\"></td><td class=\"column-4\">R Beginner Workshop</td><td class=\"column-5\"></td><td class=\"column-6\"></td>\n",
        "</tr>\n",
        "<tr class=\"row-3\">\n",
        "\t<td class=\"column-1\"><strong><center>SAT</center></strong></td><td class=\"column-2\"><strong>AM</strong></td><td class=\"column-3\"></td><td class=\"column-4\">Data Science &amp; Engineering</td><td class=\"column-5\"></td><td class=\"column-6\">Text Analytics and Big Data</td>\n",
        "</tr>\n",
        "<tr class=\"row-4\">\n",
        "\t<td class=\"column-1\"><strong><center>SAT</center></strong></td><td class=\"column-2\"><strong>PM</strong></td><td class=\"column-3\"></td><td class=\"column-4\">Data Visualization</td><td class=\"column-5\"></td><td class=\"column-6\">Data Science &amp; Engineering</td>\n",
        "</tr>\n",
        "<tr class=\"row-5\">\n",
        "\t<td class=\"column-1\"><strong><center>SUN</center></strong></td><td class=\"column-2\"><strong>AM</strong></td><td class=\"column-3\"></td><td class=\"column-4\">Beginner Python</td><td class=\"column-5\"></td><td class=\"column-6\">Big Data, R, and Parallel Computing</td>\n",
        "</tr>\n",
        "<tr class=\"row-6\">\n",
        "\t<td class=\"column-1\"><strong><center>SUN</center></strong></td><td class=\"column-2\"><strong>PM</strong></td><td class=\"column-3\"></td><td class=\"column-4\">PyData + New Python Libraries!</td><td class=\"column-5\"></td><td class=\"column-6\">Python, Machine Learning, &amp; Big Data</td>\n",
        "</tr>\n",
        "<tr class=\"row-7\">\n",
        "\t<td class=\"column-1\"><strong><center>SUN</center></strong></td><td class=\"column-2\"><strong>PM2</strong></td><td class=\"column-3\"></td><td class=\"column-4\">R Beginner Workshop</td><td class=\"column-5\"></td><td class=\"column-6\">More PyData </td>\n",
        "</tr>\n",
        "</tbody>\n",
        "</table>\n",
        "<!-- #tablepress-35 from cache --></p>\n",
        "<p>&nbsp;</p>\n",
        "<h3 style=\"text-align: center;\"><strong>EXPANDED SCHEDULE</strong></h3>\n",
        "<h4>Below is an expanded schedule with the sessions AND talks. \u00a0 Most talks have links to a speaker bio page that includes a talk description. Please note that there are talks with software packages beyond R and Python, such as <span style=\"background-color: #63c6ae;\"><span style=\"color: black;\"> MatLab, SQL, D3, and others</span></span>.   Also, a couple talks are more on <span style=\"background-color: #ff6666;\"><span style=\"color: black;\"> Design Principles </span></span>\u00a0 than on coding. These focus on thinking through different design options whether for a data science project or data visualization.</h4>\n",
        "<p>\n",
        "<table id=\"tablepress-4\" class=\"tablepress tablepress-id-4\">\n",
        "<thead>\n",
        "<tr class=\"row-1\">\n",
        "\t<th class=\"column-1\"><div>&nbsp;</div></th><th class=\"column-2\"><div>When</div></th><th class=\"column-3\"><div>&nbsp;</div></th><th class=\"column-4\"><div>&nbsp;</div></th><th class=\"column-5\"><div><center>1st Floor</center></div></th><th class=\"column-6\"><div>&nbsp;</div></th><th class=\"column-7\"><div><center>10th / 11th Floor</center></div></th>\n",
        "</tr>\n",
        "</thead>\n",
        "<tbody>\n",
        "<tr class=\"row-2\">\n",
        "\t<td class=\"column-1\"></td><td class=\"column-2\"><strong>FRIDAY</strong></td><td class=\"column-3\"></td><td class=\"column-4\"></td><td class=\"column-5\">R Beginner Workshop</td><td class=\"column-6\"></td><td class=\"column-7\"></td>\n",
        "</tr>\n",
        "<tr class=\"row-3\">\n",
        "\t<td class=\"column-1\"></td><td class=\"column-2\">6:00 - 8:45</td><td class=\"column-3\"></td><td class=\"column-4\"></td><td class=\"column-5\"><a href=\"http://data-con.org/r-bootcamp/\" target=\"_blank\">R Beginner Bootcamp - Joe Kambourakis and John Verostek</a></td><td class=\"column-6\"></td><td class=\"column-7\"></td>\n",
        "</tr>\n",
        "<tr class=\"row-4\">\n",
        "\t<td class=\"column-1\">.</td><td class=\"column-2\"> <br />\n",
        " <br />\n",
        " <br />\n",
        "</td><td class=\"column-3\"></td><td class=\"column-4\"></td><td class=\"column-5\"></td><td class=\"column-6\"></td><td class=\"column-7\"></td>\n",
        "</tr>\n",
        "<tr class=\"row-5\">\n",
        "\t<td class=\"column-1\"></td><td class=\"column-2\"><strong>SATURDAY</strong></td><td class=\"column-3\"></td><td class=\"column-4\"></td><td class=\"column-5\">Data Science &amp; Engineering</td><td class=\"column-6\"></td><td class=\"column-7\">Twitter, Text Analytics and Big Data</td>\n",
        "</tr>\n",
        "<tr class=\"row-6\">\n",
        "\t<td class=\"column-1\"></td><td class=\"column-2\"> 9:00 - 10:20</td><td class=\"column-3\"></td><td class=\"column-4\"></td><td class=\"column-5\"><a href=\"http://data-con.org/david-weisman/\" target=\"_blank\">Introduction to the Data Science Method  - David Weisman</a></td><td class=\"column-6\"></td><td class=\"column-7\"><a href=\"http://data-con.org/tanya-cashorali/\" target=\"_blank\">Using Twitter to Analyze Switching Across Cellphone Carriers  - Tanya Cashorali</a> <br />\n",
        "<br />\n",
        "<a href=\"http://data-con.org/herb-susmann/\" target=\"_blank\">Topic Modelling Using R - Herb Susmann</a></td>\n",
        "</tr>\n",
        "<tr class=\"row-7\">\n",
        "\t<td class=\"column-1\"></td><td class=\"column-2\">10:20 - 10:30</td><td class=\"column-3\"></td><td class=\"column-4\"></td><td class=\"column-5\">Break</td><td class=\"column-6\"></td><td class=\"column-7\">Break</td>\n",
        "</tr>\n",
        "<tr class=\"row-8\">\n",
        "\t<td class=\"column-1\"></td><td class=\"column-2\">10:30 - 11:00<br />\n",
        "<br />\n",
        "<br />\n",
        "11:00 -12:00</td><td class=\"column-3\"></td><td class=\"column-4\"></td><td class=\"column-5\"><a href=\"http://data-con.org/dag-holmboe/\" target=\"_blank\">Combining R Libraries into Automated Workflows - Dag Holmboe</a><br />\n",
        "<br />\n",
        "<a href=\"http://data-con.org/julia-pilowsky/\" target=\"_blank\">General Linearized Mixed Models (GLMMs) in R  - Julia Pilowsky<br />\n",
        "</a></td><td class=\"column-6\"></td><td class=\"column-7\"><a href=\"http://data-con.org/david-troiano/\" target=\"_blank\">Optimizing Multilingual Search Using Solr- David Troiano </a> <br />\n",
        "<br />\n",
        "<a href=\"http://data-con.org/j-singh-and-teresa-brooks/\" target=\"_blank\">Mining of Massive Datasets Using Locality Sensitive Hashing (LSH) - J Singh and Teresa Brooks</a></td>\n",
        "</tr>\n",
        "<tr class=\"row-9\">\n",
        "\t<td class=\"column-1\"></td><td class=\"column-2\"> <br />\n",
        "12:00 - 1:00<br />\n",
        "  <br />\n",
        "<br />\n",
        " </td><td class=\"column-3\"></td><td class=\"column-4\"></td><td class=\"column-5\"> <br />\n",
        "Lunch<br />\n",
        "  <br />\n",
        "</td><td class=\"column-6\"></td><td class=\"column-7\"> <br />\n",
        "Lunch  <br />\n",
        "  <br />\n",
        "</td>\n",
        "</tr>\n",
        "<tr class=\"row-10\">\n",
        "\t<td class=\"column-1\"></td><td class=\"column-2\"><strong>SATURDAY</strong></td><td class=\"column-3\"></td><td class=\"column-4\"></td><td class=\"column-5\">Data Visualization</td><td class=\"column-6\"></td><td class=\"column-7\">Data Science &amp; Engineering</td>\n",
        "</tr>\n",
        "<tr class=\"row-11\">\n",
        "\t<td class=\"column-1\"></td><td class=\"column-2\">1:00 - 1:50</td><td class=\"column-3\"></td><td class=\"column-4\"></td><td class=\"column-5\"><a href=\"http://data-con.org/angela-bassa/\" target=\"_blank\">DataViz Design Principles  - Angela Bassa</a></td><td class=\"column-6\"></td><td class=\"column-7\"><a href=\"http://data-con.org/jean-loup-loyer/\" target=\"_blank\">Massive Feature Selection Using Supercomputing in R - Jean-Loup Loyer</a></td>\n",
        "</tr>\n",
        "<tr class=\"row-12\">\n",
        "\t<td class=\"column-1\"></td><td class=\"column-2\">1:50 - 2:40</td><td class=\"column-3\"></td><td class=\"column-4\"></td><td class=\"column-5\"><a href=\"http://data-con.org/ian-stokes-rees/\" target=\"_blank\">Python DataViz Tour - Ian Stokes-Rees</a></td><td class=\"column-6\"></td><td class=\"column-7\"><a href=\"http://data-con.org/rajarshi-guha/ \" target=\"_blank\">Robots, Small Molecules &amp; R - Ingredients for Exploring and Predicting Biological Effects - Rajarshi Guha</a></td>\n",
        "</tr>\n",
        "<tr class=\"row-13\">\n",
        "\t<td class=\"column-1\"></td><td class=\"column-2\">2:40 - 3:00</td><td class=\"column-3\"></td><td class=\"column-4\"></td><td class=\"column-5\">Break</td><td class=\"column-6\"></td><td class=\"column-7\">Break</td>\n",
        "</tr>\n",
        "<tr class=\"row-14\">\n",
        "\t<td class=\"column-1\"></td><td class=\"column-2\">3:00 - 3:50</td><td class=\"column-3\"></td><td class=\"column-4\"></td><td class=\"column-5\"><a href=\"http://data-con.org/abhinav-sarapure/ \" target=\"_blank\">Interactive DataViz with R:  ggvis, rCharts, Shiny - Abhinav Sarapure</a> </td><td class=\"column-6\"></td><td class=\"column-7\"><a href=\" http://data-con.org/sri-krishnamurthy/\" target=\"_blank\">High Dimensionality in Large Datasets - Sri Krishnamurthy</a></td>\n",
        "</tr>\n",
        "<tr class=\"row-15\">\n",
        "\t<td class=\"column-1\"></td><td class=\"column-2\">3:50 - 4:40</td><td class=\"column-3\"></td><td class=\"column-4\"></td><td class=\"column-5\"><a href=\"http://data-con.org/mike-barry-and-brian-card/\" target=\"_blank\">A Case Study Visualizing Boston's Subway System Using D3 and other Open Source tools  - Mike Barry and Brian Card</a></td><td class=\"column-6\"></td><td class=\"column-7\"><a href=\"http://data-con.org/edmund-jorgensen-and-matt-papi/\" target=\"_blank\">Principles of Data Engineering- Edmund Jorgenson and Matt Papi</a><br />\n",
        "<br />\n",
        "<a href=\" http://data-con.org/dan-milstein/\" target=\"_blank\">Baseball and Data Engineering using Statistics, R &amp; Python - Dan Milstein</a></td>\n",
        "</tr>\n",
        "<tr class=\"row-16\">\n",
        "\t<td class=\"column-1\"></td><td class=\"column-2\"> <br />\n",
        " <br />\n",
        " </td><td class=\"column-3\"></td><td class=\"column-4\"></td><td class=\"column-5\"></td><td class=\"column-6\"></td><td class=\"column-7\"></td>\n",
        "</tr>\n",
        "<tr class=\"row-17\">\n",
        "\t<td class=\"column-1\"></td><td class=\"column-2\"><strong>SUNDAY</strong></td><td class=\"column-3\"></td><td class=\"column-4\"></td><td class=\"column-5\">Beginner Python</td><td class=\"column-6\"></td><td class=\"column-7\">Big Data Tools and Parallel Computing</td>\n",
        "</tr>\n",
        "<tr class=\"row-18\">\n",
        "\t<td class=\"column-1\"></td><td class=\"column-2\">9:00 - 9:50</td><td class=\"column-3\"></td><td class=\"column-4\"></td><td class=\"column-5\"><a href=\"http://data-con.org/imran-malek/\" target=\"_blank\">iPython Tutorial - Imran Malek</a><br />\n",
        "</td><td class=\"column-6\"></td><td class=\"column-7\"><a href=\"http://data-con.org/digitaslbi/\" target=\"_blank\">Creating Custom Big Data Tools including Models, Hadoop Clusters, and DataViz - DigitasLBI</a><br />\n",
        "<br />\n",
        "<a href=\"http://data-con.org/wes-reing/\" target=\"_blank\">Introduction to Massively Parallel Databases  - Wes Reing</a></td>\n",
        "</tr>\n",
        "<tr class=\"row-19\">\n",
        "\t<td class=\"column-1\"></td><td class=\"column-2\">10:00 - 10:50</td><td class=\"column-3\"></td><td class=\"column-4\"></td><td class=\"column-5\"><a href=\"http://data-con.org/allen-downey/\" target=\"_blank\">Regression Analysis with Python, Pandas, and StatsModels - Allen Downey</a></td><td class=\"column-6\"></td><td class=\"column-7\">R for Analyzing Big Expression Data Parallel Computing - Yuefeng Lu<br />\n",
        "<br />\n",
        "<a href=\"http://data-con.org/steve-belcher/\" target=\"_blank\"> Scaling R with ScaleR Packages - Steve Belcher\t</a></td>\n",
        "</tr>\n",
        "<tr class=\"row-20\">\n",
        "\t<td class=\"column-1\"></td><td class=\"column-2\">11:00 - 11:50</td><td class=\"column-3\"></td><td class=\"column-4\"></td><td class=\"column-5\"><a href=\"http://data-con.org/mali-akmanalp/\" target=\"_blank\">More Pandas! - Mali Akmanalp</a><br />\n",
        "<br />\n",
        "<a href=\"http://data-con.org/justin-sun/\" target=\"_blank\">Python Data Mining Using Orange Canvas - Justin Sun</a><br />\n",
        "<br />\n",
        "<a href=\"http://data-con.org/will-sutton/\" target=\"_blank\">Open-Source Data-Analysis for Bio-tech - Will Sutton</a></td><td class=\"column-6\"></td><td class=\"column-7\"><a href=\"http://data-con.org/muralikumar-venkat/\" target=\"_blank\">Introduction to Hive with Case Study on Storing and Querying Protobuf Logs in Hive - Muralikumar Venkat</a><br />\n",
        "<br />\n",
        "<a href=\"http://data-con.org/nick-lim/\" target=\"_blank\">Gamification and Big Data - Nick Lim</a></td>\n",
        "</tr>\n",
        "<tr class=\"row-21\">\n",
        "\t<td class=\"column-1\"></td><td class=\"column-2\"> <br />\n",
        "12:00 - 1:00<br />\n",
        "       <br />\n",
        "</td><td class=\"column-3\"></td><td class=\"column-4\"></td><td class=\"column-5\"><a href=\"http://data-con.org/patrik-lundblad/ \" target=\"_blank\">Lunchtime Talk:  Visualizations for Exploring  Data - Pratik Lundblad</a><br />\n",
        " </td><td class=\"column-6\"></td><td class=\"column-7\"> <br />\n",
        "Lunch<br />\n",
        "   <br />\n",
        "</td>\n",
        "</tr>\n",
        "<tr class=\"row-22\">\n",
        "\t<td class=\"column-1\"></td><td class=\"column-2\"><strong>SUNDAY</strong></td><td class=\"column-3\"></td><td class=\"column-4\"></td><td class=\"column-5\">More PyData! + New Python Libraries</td><td class=\"column-6\"></td><td class=\"column-7\">Python, Machine Learning, &amp; Big Data</td>\n",
        "</tr>\n",
        "<tr class=\"row-23\">\n",
        "\t<td class=\"column-1\"></td><td class=\"column-2\">1:00 - 1:50</td><td class=\"column-3\"></td><td class=\"column-4\"></td><td class=\"column-5\"><a href=\"http://data-con.org/chris-beaumont/\" target=\"_blank\">Glue: a hackable user interface for multidimensional data exploration  - Chris Beaumont</a><br />\n",
        "<br />\n",
        "<br />\n",
        "</td><td class=\"column-6\"></td><td class=\"column-7\"><a href=\"http://data-con.org/pete-martin/\" target=\"_blank\">Data Science, YouTube, &amp; Media Disruption - Pete Martin of Pixability</a><br />\n",
        "<br />\n",
        "<a href=\"http://data-con.org/roope-astala/\" target=\"_blank\">Building Predictive Models in Cloud using Microsoft Azure Machine Learning  - Roope Astala</a></td>\n",
        "</tr>\n",
        "<tr class=\"row-24\">\n",
        "\t<td class=\"column-1\"></td><td class=\"column-2\">1:50 - 2:40</td><td class=\"column-3\"></td><td class=\"column-4\"></td><td class=\"column-5\"><a href=\"http://data-con.org/mike-bell/\" target=\"_blank\">Statistical inference in Python the NIFTY way  - Mike Bell</a> <br />\n",
        "<br />\n",
        "<a href=\"http://data-con.org/greg-lipstein-and-peter-bull/\" target=\"_blank\"> DrivenData.org:   Python-based Site for Data Science Competitions - Greg Lipstein &amp; Peter Bull</a></td><td class=\"column-6\"></td><td class=\"column-7\"><a href=\"http://data-con.org/michael-els/\" target=\"_blank\">Using Python's Machine Learning and Dynamic Control Libraries for Online Advertisement Analysis - Michael Els</a> <br />\n",
        "<br />\n",
        "</td>\n",
        "</tr>\n",
        "<tr class=\"row-25\">\n",
        "\t<td class=\"column-1\"></td><td class=\"column-2\">2:40 - 3:00</td><td class=\"column-3\"></td><td class=\"column-4\"></td><td class=\"column-5\">Break</td><td class=\"column-6\"></td><td class=\"column-7\">Break</td>\n",
        "</tr>\n",
        "<tr class=\"row-26\">\n",
        "\t<td class=\"column-1\"></td><td class=\"column-2\"><strong>SUNDAY</strong></td><td class=\"column-3\"></td><td class=\"column-4\"></td><td class=\"column-5\">R Bootcamp</td><td class=\"column-6\"></td><td class=\"column-7\">More PyData! </td>\n",
        "</tr>\n",
        "<tr class=\"row-27\">\n",
        "\t<td class=\"column-1\"></td><td class=\"column-2\">3:00 - 3:50</td><td class=\"column-3\"></td><td class=\"column-4\"></td><td class=\"column-5\"><a href=\"http://data-con.org/r-bootcamp/\" target=\"_blank\">R Beginner Bootcamp - Joe Kambourakis and John Verostek</a></td><td class=\"column-6\"></td><td class=\"column-7\"><a href=\"http://data-con.org/stuart-layton/\" target=\"_blank\">IP-Reputation Scoring System in Python and Hadoop  - Stuart Layton</a></td>\n",
        "</tr>\n",
        "<tr class=\"row-28\">\n",
        "\t<td class=\"column-1\"></td><td class=\"column-2\">3:50 - 4:40</td><td class=\"column-3\"></td><td class=\"column-4\"></td><td class=\"column-5\">R Bootcamp</td><td class=\"column-6\"></td><td class=\"column-7\"><a href=\"http://data-con.org/laurie-skelly/\" target=\"_blank\">Web Scraping Using Python's Beautiful Soup and Selenium - Laurie Skelly</a><br />\n",
        "</td>\n",
        "</tr>\n",
        "<tr class=\"row-29\">\n",
        "\t<td class=\"column-1\"></td><td class=\"column-2\">4:40 - 5:30</td><td class=\"column-3\"></td><td class=\"column-4\"></td><td class=\"column-5\">R Bootcamp</td><td class=\"column-6\"></td><td class=\"column-7\"></td>\n",
        "</tr>\n",
        "</tbody>\n",
        "</table>\n",
        "<!-- #tablepress-4 from cache --></p>\n",
        "<h3 style=\"text-align: center;\">Many Thanks to Our Sponsors</h3>\n",
        "<p><a href=\"http://data-con.org/wp-content/uploads/2014/09/sponsors-0907.png\"><img src=\"http://data-con.org/wp-content/uploads/2014/09/sponsors-0907.png\" alt=\"sponsors-0907\" width=\"1081\" height=\"260\" class=\"alignnone size-full wp-image-1242\" /></a></p>\n",
        "          </div>\r\n",
        "    <!-- entry-content clearfix-->\r\n",
        "    \r\n",
        "      </article>\r\n",
        "</section>\r\n",
        "</div><!-- #content --></div>\r\n",
        "<!-- .container -->\r\n",
        "</div>\r\n",
        "<!-- #main -->\r\n",
        "\r\n",
        "\r\n",
        "<footer id=\"colophon\" class=\"clearfix\">\r\n",
        "  \r\n",
        "\r\n",
        "\t<div id=\"site-generator\">\r\n",
        "\t\t\t\t<div class=\"container clearfix\"><div class=\"social-profiles clearfix\">\r\n",
        "\t\t\t\t\t<ul>\r\n",
        "\t\t\t\t</ul>\r\n",
        "\t\t\t\t</div><!-- .social-profiles --><div class=\"copyright\">Copyright &copy; 2014 <a href=\"http://data-con.org/\" title=\"Boston Data-Con 2014\" ><span>Boston Data-Con 2014</span></a> Theme by: <a href=\"http://themehorse.com\" target=\"_blank\" title=\"Theme Horse\" ><span>Theme Horse</span></a> Powered by: <a href=\"http://wordpress.org\" target=\"_blank\" title=\"WordPress\"><span>WordPress</span></a> </div><!-- .copyright --></div><!-- .container -->\t\r\n",
        "\t\t\t</div><!-- #site-generator --><div class=\"back-to-top\"><a href=\"#branding\"> </a></div></footer>\r\n",
        "</div>\r\n",
        "<!-- .wrapper -->\r\n",
        "\r\n",
        "<script type='text/javascript' src='http://data-con.org/wp-includes/js/jquery/ui/jquery.ui.widget.min.js?ver=1.10.4'></script>\n",
        "<script type='text/javascript' src='http://data-con.org/wp-includes/js/jquery/ui/jquery.ui.effect.min.js?ver=1.10.4'></script>\n",
        "<script type='text/javascript' src='http://data-con.org/wp-includes/js/jquery/ui/jquery.ui.effect-shake.min.js?ver=1.10.4'></script>\n",
        "<script type='text/javascript' src='http://s0.wp.com/wp-content/js/devicepx-jetpack.js?ver=201437'></script>\n",
        "</body></html>\n"
       ]
      }
     ],
     "prompt_number": 48
    },
    {
     "cell_type": "code",
     "collapsed": false,
     "input": [
      "# safety first \n",
      "# !mkdir insurance\n",
      "# with open('insurance/data_con_html.txt','w') as outfile:\n",
      "#     outfile.write(r.content)"
     ],
     "language": "python",
     "metadata": {},
     "outputs": [],
     "prompt_number": 53
    },
    {
     "cell_type": "code",
     "collapsed": true,
     "input": [
      "# with open('insurance/data_con_html.txt','r') as infile:\n",
      "#     html = infile.read()\n",
      "    \n",
      "# print html"
     ],
     "language": "python",
     "metadata": {},
     "outputs": [
      {
       "output_type": "stream",
       "stream": "stdout",
       "text": [
        "<!DOCTYPE html>\r\n",
        "<!--[if IE 7]>\r\n",
        "<html class=\"ie ie7\" lang=\"en-US\">\r\n",
        "<![endif]-->\r\n",
        "<!--[if IE 8]>\r\n",
        "<html class=\"ie ie8\" lang=\"en-US\">\r\n",
        "<![endif]-->\r\n",
        "<!--[if !(IE 7) | !(IE 8) ]><!-->\r\n",
        "<html lang=\"en-US\">\r\n",
        "<!--<![endif]-->\r\n",
        "<head>\r\n",
        "<meta charset=\"UTF-8\" />\r\n",
        "<meta name=\"viewport\" content=\"width=device-width, initial-scale=1, maximum-scale=1\">\r\n",
        "<title>\r\n",
        "Schedule | Boston Data-Con 2014</title>\r\n",
        "<link rel=\"profile\" href=\"http://gmpg.org/xfn/11\" />\r\n",
        "<link rel=\"pingback\" href=\"http://data-con.org/xmlrpc.php\" />\r\n",
        "<!--[if lt IE 9]>\r\n",
        "\t<script src=\"http://data-con.org/wp-content/themes/interface/js/html5.js\"></script>\r\n",
        "\t<![endif]-->\r\n",
        "<link rel=\"alternate\" type=\"application/rss+xml\" title=\"Boston Data-Con 2014 &raquo; Feed\" href=\"http://data-con.org/feed/\" />\n",
        "<link rel=\"alternate\" type=\"application/rss+xml\" title=\"Boston Data-Con 2014 &raquo; Comments Feed\" href=\"http://data-con.org/comments/feed/\" />\n",
        "<link rel='stylesheet' id='jquery-ui-css'  href='http://data-con.org/wp-content/plugins/contact-form-builder/css/jquery-ui-1.10.3.custom.css?ver=3.9.2' type='text/css' media='all' />\n",
        "<link rel='stylesheet' id='contact_form_maker_frontend-css'  href='http://data-con.org/wp-content/plugins/contact-form-builder/css/contact_form_maker_frontend.css?ver=3.9.2' type='text/css' media='all' />\n",
        "<link rel='stylesheet' id='interface_style-css'  href='http://data-con.org/wp-content/themes/interface/style.css?ver=3.9.2' type='text/css' media='all' />\n",
        "<link rel='stylesheet' id='interface-responsive-css'  href='http://data-con.org/wp-content/themes/interface/css/responsive.css?ver=3.9.2' type='text/css' media='all' />\n",
        "<link rel='stylesheet' id='google_fonts-css'  href='http://fonts.googleapis.com/css?family=PT+Sans%3A400%2C700italic%2C700%2C400italic&#038;ver=3.9.2' type='text/css' media='all' />\n",
        "<link rel='stylesheet' id='tablepress-default-css'  href='http://data-con.org/wp-content/tablepress-combined.min.css?ver=295' type='text/css' media='all' />\n",
        "<script type='text/javascript' src='http://data-con.org/wp-includes/js/jquery/jquery.js?ver=1.11.0'></script>\n",
        "<script type='text/javascript' src='http://data-con.org/wp-includes/js/jquery/jquery-migrate.min.js?ver=1.2.1'></script>\n",
        "<script type='text/javascript' src='https://maps.google.com/maps/api/js?sensor=false&#038;ver=3.9.2'></script>\n",
        "<script type='text/javascript' src='http://data-con.org/wp-content/plugins/contact-form-builder/js/if_gmap_front_end.js?ver=3.9.2'></script>\n",
        "<script type='text/javascript' src='http://data-con.org/wp-content/plugins/contact-form-builder/js/cfm_main_front_end.js?ver=1.0.0'></script>\n",
        "<script type='text/javascript' src='http://data-con.org/wp-content/themes/interface/js/backtotop.js?ver=3.9.2'></script>\n",
        "<script type='text/javascript' src='http://data-con.org/wp-content/themes/interface/js/scripts.js?ver=3.9.2'></script>\n",
        "<link rel=\"EditURI\" type=\"application/rsd+xml\" title=\"RSD\" href=\"http://data-con.org/xmlrpc.php?rsd\" />\n",
        "<link rel=\"wlwmanifest\" type=\"application/wlwmanifest+xml\" href=\"http://data-con.org/wp-includes/wlwmanifest.xml\" /> \n",
        "<link rel='prev' title='Invitation to Present' href='http://data-con.org/invitation-to-present/' />\n",
        "<link rel='next' title='iPython Tutorial &#8211; Imran Malek' href='http://data-con.org/ipython/' />\n",
        "<meta name=\"generator\" content=\"WordPress 3.9.2\" />\n",
        "<link rel='canonical' href='http://data-con.org/schedule/' />\n",
        "<link rel='shortlink' href='http://data-con.org/?p=253' />\n",
        "</head>\r\n",
        "\r\n",
        "<body class=\"page page-id-253 page-template-default full-width-template narrow-layout\">\r\n",
        "<div class=\"wrapper\">\r\n",
        "<header id=\"branding\" >\r\n",
        "  <div class=\"social-profiles clearfix\">\r\n",
        "\t\t\t\t\t<ul>\r\n",
        "\t\t\t\t</ul>\r\n",
        "\t\t\t\t</div><!-- .social-profiles --><a href=\"http://data-con.org/\"><img src=\"http://data-con.org/wp-content/uploads/2014/08/bdc-logo-0827.png\" class=\"header-image\" width=\"1500\" height=\"333\" alt=\"Boston Data-Con 2014\"> </a>\r\n",
        "<div class=\"hgroup-wrap\">\r\n",
        "  <div class=\"container clearfix\">\r\n",
        "    <section id=\"site-logo\" class=\"clearfix\">\r\n",
        "            <h1 id=\"site-title\"> <a href=\"http://data-con.org/\" title=\"Boston Data-Con 2014\" rel=\"home\">\r\n",
        "        Boston Data-Con 2014        </a> </h1>\r\n",
        "      <h2 id=\"site-description\">\r\n",
        "              </h2>\r\n",
        "          </section>\r\n",
        "    <!-- #site-logo -->\r\n",
        "    <button class=\"menu-toggle\">Responsive Menu</button>\r\n",
        "    <section class=\"hgroup-right\">\r\n",
        "      <nav id=\"access\" class=\"clearfix\"><ul class=\"nav-menu\"><li id=\"menu-item-82\" class=\"menu-item menu-item-type-post_type menu-item-object-page menu-item-82\"><a href=\"http://data-con.org/register/\">Register</a></li>\n",
        "<li id=\"menu-item-815\" class=\"menu-item menu-item-type-post_type menu-item-object-page current-menu-item page_item page-item-253 current_page_item menu-item-815\"><a href=\"http://data-con.org/schedule/\">Schedule</a></li>\n",
        "<li id=\"menu-item-127\" class=\"menu-item menu-item-type-post_type menu-item-object-page menu-item-127\"><a href=\"http://data-con.org/directions/\">Directions</a></li>\n",
        "<li id=\"menu-item-122\" class=\"menu-item menu-item-type-post_type menu-item-object-page menu-item-122\"><a href=\"http://data-con.org/microsoft-nerd/\">Floorplan</a></li>\n",
        "<li id=\"menu-item-134\" class=\"menu-item menu-item-type-post_type menu-item-object-page menu-item-134\"><a href=\"http://data-con.org/contact/\">Contact</a></li>\n",
        "</ul></nav><!-- #access -->      <div class=\"search-toggle\"></div>\r\n",
        "      <!-- .search-toggle -->\r\n",
        "      <div id=\"search-box\" class=\"hide\">\r\n",
        "        \r\n",
        "<form action=\"http://data-con.org/\" method=\"get\" class=\"searchform clearfix\">\r\n",
        "  <label class=\"assistive-text\">\r\n",
        "    Search  </label>\r\n",
        "  <input type=\"search\" placeholder=\"Search\" class=\"s field\" name=\"s\">\r\n",
        "  <input type=\"submit\" value=\"Search\" class=\"search-submit\">\r\n",
        "</form>\r\n",
        "<!-- .search-form -->\r\n",
        "        <span class=\"arrow\"></span> </div>\r\n",
        "      <!-- #search-box --> \r\n",
        "    </section>\r\n",
        "    <!-- .hgroup-right --> \r\n",
        "  </div>\r\n",
        "  <!-- .container --> \r\n",
        "</div>\r\n",
        "<!-- .hgroup-wrap -->\r\n",
        "\r\n",
        "<div class=\"page-title-wrap\">\r\n",
        "  <div class=\"container clearfix\">\r\n",
        "        <h1 class=\"page-title\">Schedule</h1>\r\n",
        "    <!-- .page-title --> \r\n",
        "  </div>\r\n",
        "</div>\r\n",
        "</header>\r\n",
        "<div id=\"main\">\r\n",
        "<div class=\"container clearfix\">\r\n",
        "<div id=\"content\"><section id=\"post-253\" class=\"post-253 page type-page status-publish hentry\">\r\n",
        "  <article>\r\n",
        "                <div class=\"entry-content clearfix\">\r\n",
        "      <h3 style=\"text-align: center;\"><strong>OVERVIEW OF SESSIONS</strong></h3>\n",
        "<h4>The schedule is primarily organized by programming languages and themes.\u00a0 Traditionally, we&#8217;ve had separate R, Python, or Hadoop events; however this year we are having them all at one event.\u00a0 Some topics, such as Data Engineering or Data Visualization, span several languages, and as such we believe it will be beneficial for folks of different programming language background to see what is possible on different platforms.\u00a0\u00a0 Albeit, all that said, R is more on Saturday, and Python on Sunday as we realize folks often are interested in one or the other.</h4>\n",
        "<p>&nbsp;</p>\n",
        "<h4>\n",
        "<table id=\"tablepress-5\" class=\"tablepress tablepress-id-5\">\n",
        "<tbody>\n",
        "<tr class=\"row-1\">\n",
        "\t<td class=\"column-1\"><strong><center>Theme</center></strong></td><td class=\"column-2\"><strong><center>R</center></strong></td><td class=\"column-3\"><strong><center>Python</center></strong></td><td class=\"column-4\"><strong><center>Big Data</center></strong></td>\n",
        "</tr>\n",
        "<tr class=\"row-2\">\n",
        "\t<td class=\"column-1\">Beginner Workshops</td><td class=\"column-2\">Beginner Workshop</td><td class=\"column-3\">Beginner Workshop</td><td class=\"column-4\"></td>\n",
        "</tr>\n",
        "<tr class=\"row-3\">\n",
        "\t<td class=\"column-1\">Machine Learning &amp; Big Data</td><td class=\"column-2\">Machine Learning and R</td><td class=\"column-3\">ML, Python and Big Data</td><td class=\"column-4\">Hadoop, MS Azure</td>\n",
        "</tr>\n",
        "<tr class=\"row-4\">\n",
        "\t<td class=\"column-1\">Data Science &amp; Engineering</td><td class=\"column-2\">Data Science &amp; Engineering</td><td class=\"column-3\">Data Science &amp; Engineering</td><td class=\"column-4\">More Hadoop, Hive, EMC, AWS</td>\n",
        "</tr>\n",
        "<tr class=\"row-5\">\n",
        "\t<td class=\"column-1\">DataViz and Interactive Web</td><td class=\"column-2\">Interactive DataViz &amp; R</td><td class=\"column-3\">Interactive DataViz &amp; Python</td><td class=\"column-4\"></td>\n",
        "</tr>\n",
        "<tr class=\"row-6\">\n",
        "\t<td class=\"column-1\">Text Analytics</td><td class=\"column-2\">Twitter, APIs, and Text Mining</td><td class=\"column-3\"></td><td class=\"column-4\">Apache SOLR,  <br />\n",
        "Locality Sensitive Hashing</td>\n",
        "</tr>\n",
        "</tbody>\n",
        "</table>\n",
        "<!-- #tablepress-5 from cache --></h4>\n",
        "<p>&nbsp;</p>\n",
        "<h3 style=\"text-align: center;\"><strong>OVERVIEW OF REGISTRATION</strong></h3>\n",
        "<h4>Here is a condensed schedule that mirrors the registration for the event; i.e. Fri PM (6-9), Sat AM (9-12), Sat PM (1-4), Sun AM (9-12), and Sun PM (1-4).  Sessions, such as <span style=\"background-color: #cccccc;\"><span style=\"color: black;\">DataViz or Text Analytics</span></span>, have talks covering different software and approaches. Since the registration is by day/time you can attend talks in either session.</h4>\n",
        "<p>\n",
        "<table id=\"tablepress-35\" class=\"tablepress tablepress-id-35\">\n",
        "<thead>\n",
        "<tr class=\"row-1\">\n",
        "\t<th class=\"column-1\"><div>&nbsp;</div></th><th class=\"column-2\"><div>&nbsp;</div></th><th class=\"column-3\"><div>&nbsp;</div></th><th class=\"column-4\"><div>&nbsp;</div></th><th class=\"column-5\"><div>&nbsp;</div></th><th class=\"column-6\"><div>&nbsp;</div></th>\n",
        "</tr>\n",
        "</thead>\n",
        "<tbody>\n",
        "<tr class=\"row-2\">\n",
        "\t<td class=\"column-1\"><strong><center>FRI</center></strong></td><td class=\"column-2\"><strong>PM</strong></td><td class=\"column-3\"></td><td class=\"column-4\">R Beginner Workshop</td><td class=\"column-5\"></td><td class=\"column-6\"></td>\n",
        "</tr>\n",
        "<tr class=\"row-3\">\n",
        "\t<td class=\"column-1\"><strong><center>SAT</center></strong></td><td class=\"column-2\"><strong>AM</strong></td><td class=\"column-3\"></td><td class=\"column-4\">Data Science &amp; Engineering</td><td class=\"column-5\"></td><td class=\"column-6\">Text Analytics and Big Data</td>\n",
        "</tr>\n",
        "<tr class=\"row-4\">\n",
        "\t<td class=\"column-1\"><strong><center>SAT</center></strong></td><td class=\"column-2\"><strong>PM</strong></td><td class=\"column-3\"></td><td class=\"column-4\">Data Visualization</td><td class=\"column-5\"></td><td class=\"column-6\">Data Science &amp; Engineering</td>\n",
        "</tr>\n",
        "<tr class=\"row-5\">\n",
        "\t<td class=\"column-1\"><strong><center>SUN</center></strong></td><td class=\"column-2\"><strong>AM</strong></td><td class=\"column-3\"></td><td class=\"column-4\">Beginner Python</td><td class=\"column-5\"></td><td class=\"column-6\">Big Data, R, and Parallel Computing</td>\n",
        "</tr>\n",
        "<tr class=\"row-6\">\n",
        "\t<td class=\"column-1\"><strong><center>SUN</center></strong></td><td class=\"column-2\"><strong>PM</strong></td><td class=\"column-3\"></td><td class=\"column-4\">PyData + New Python Libraries!</td><td class=\"column-5\"></td><td class=\"column-6\">Python, Machine Learning, &amp; Big Data</td>\n",
        "</tr>\n",
        "<tr class=\"row-7\">\n",
        "\t<td class=\"column-1\"><strong><center>SUN</center></strong></td><td class=\"column-2\"><strong>PM2</strong></td><td class=\"column-3\"></td><td class=\"column-4\">R Beginner Workshop</td><td class=\"column-5\"></td><td class=\"column-6\">More PyData </td>\n",
        "</tr>\n",
        "</tbody>\n",
        "</table>\n",
        "<!-- #tablepress-35 from cache --></p>\n",
        "<p>&nbsp;</p>\n",
        "<h3 style=\"text-align: center;\"><strong>EXPANDED SCHEDULE</strong></h3>\n",
        "<h4>Below is an expanded schedule with the sessions AND talks. \u00a0 Most talks have links to a speaker bio page that includes a talk description. Please note that there are talks with software packages beyond R and Python, such as <span style=\"background-color: #63c6ae;\"><span style=\"color: black;\"> MatLab, SQL, D3, and others</span></span>.   Also, a couple talks are more on <span style=\"background-color: #ff6666;\"><span style=\"color: black;\"> Design Principles </span></span>\u00a0 than on coding. These focus on thinking through different design options whether for a data science project or data visualization.</h4>\n",
        "<p>\n",
        "<table id=\"tablepress-4\" class=\"tablepress tablepress-id-4\">\n",
        "<thead>\n",
        "<tr class=\"row-1\">\n",
        "\t<th class=\"column-1\"><div>&nbsp;</div></th><th class=\"column-2\"><div>When</div></th><th class=\"column-3\"><div>&nbsp;</div></th><th class=\"column-4\"><div>&nbsp;</div></th><th class=\"column-5\"><div><center>1st Floor</center></div></th><th class=\"column-6\"><div>&nbsp;</div></th><th class=\"column-7\"><div><center>10th / 11th Floor</center></div></th>\n",
        "</tr>\n",
        "</thead>\n",
        "<tbody>\n",
        "<tr class=\"row-2\">\n",
        "\t<td class=\"column-1\"></td><td class=\"column-2\"><strong>FRIDAY</strong></td><td class=\"column-3\"></td><td class=\"column-4\"></td><td class=\"column-5\">R Beginner Workshop</td><td class=\"column-6\"></td><td class=\"column-7\"></td>\n",
        "</tr>\n",
        "<tr class=\"row-3\">\n",
        "\t<td class=\"column-1\"></td><td class=\"column-2\">6:00 - 8:45</td><td class=\"column-3\"></td><td class=\"column-4\"></td><td class=\"column-5\"><a href=\"http://data-con.org/r-bootcamp/\" target=\"_blank\">R Beginner Bootcamp - Joe Kambourakis and John Verostek</a></td><td class=\"column-6\"></td><td class=\"column-7\"></td>\n",
        "</tr>\n",
        "<tr class=\"row-4\">\n",
        "\t<td class=\"column-1\">.</td><td class=\"column-2\"> <br />\n",
        " <br />\n",
        " <br />\n",
        "</td><td class=\"column-3\"></td><td class=\"column-4\"></td><td class=\"column-5\"></td><td class=\"column-6\"></td><td class=\"column-7\"></td>\n",
        "</tr>\n",
        "<tr class=\"row-5\">\n",
        "\t<td class=\"column-1\"></td><td class=\"column-2\"><strong>SATURDAY</strong></td><td class=\"column-3\"></td><td class=\"column-4\"></td><td class=\"column-5\">Data Science &amp; Engineering</td><td class=\"column-6\"></td><td class=\"column-7\">Twitter, Text Analytics and Big Data</td>\n",
        "</tr>\n",
        "<tr class=\"row-6\">\n",
        "\t<td class=\"column-1\"></td><td class=\"column-2\"> 9:00 - 10:20</td><td class=\"column-3\"></td><td class=\"column-4\"></td><td class=\"column-5\"><a href=\"http://data-con.org/david-weisman/\" target=\"_blank\">Introduction to the Data Science Method  - David Weisman</a></td><td class=\"column-6\"></td><td class=\"column-7\"><a href=\"http://data-con.org/tanya-cashorali/\" target=\"_blank\">Using Twitter to Analyze Switching Across Cellphone Carriers  - Tanya Cashorali</a> <br />\n",
        "<br />\n",
        "<a href=\"http://data-con.org/herb-susmann/\" target=\"_blank\">Topic Modelling Using R - Herb Susmann</a></td>\n",
        "</tr>\n",
        "<tr class=\"row-7\">\n",
        "\t<td class=\"column-1\"></td><td class=\"column-2\">10:20 - 10:30</td><td class=\"column-3\"></td><td class=\"column-4\"></td><td class=\"column-5\">Break</td><td class=\"column-6\"></td><td class=\"column-7\">Break</td>\n",
        "</tr>\n",
        "<tr class=\"row-8\">\n",
        "\t<td class=\"column-1\"></td><td class=\"column-2\">10:30 - 11:00<br />\n",
        "<br />\n",
        "<br />\n",
        "11:00 -12:00</td><td class=\"column-3\"></td><td class=\"column-4\"></td><td class=\"column-5\"><a href=\"http://data-con.org/dag-holmboe/\" target=\"_blank\">Combining R Libraries into Automated Workflows - Dag Holmboe</a><br />\n",
        "<br />\n",
        "<a href=\"http://data-con.org/julia-pilowsky/\" target=\"_blank\">General Linearized Mixed Models (GLMMs) in R  - Julia Pilowsky<br />\n",
        "</a></td><td class=\"column-6\"></td><td class=\"column-7\"><a href=\"http://data-con.org/david-troiano/\" target=\"_blank\">Optimizing Multilingual Search Using Solr- David Troiano </a> <br />\n",
        "<br />\n",
        "<a href=\"http://data-con.org/j-singh-and-teresa-brooks/\" target=\"_blank\">Mining of Massive Datasets Using Locality Sensitive Hashing (LSH) - J Singh and Teresa Brooks</a></td>\n",
        "</tr>\n",
        "<tr class=\"row-9\">\n",
        "\t<td class=\"column-1\"></td><td class=\"column-2\"> <br />\n",
        "12:00 - 1:00<br />\n",
        "  <br />\n",
        "<br />\n",
        " </td><td class=\"column-3\"></td><td class=\"column-4\"></td><td class=\"column-5\"> <br />\n",
        "Lunch<br />\n",
        "  <br />\n",
        "</td><td class=\"column-6\"></td><td class=\"column-7\"> <br />\n",
        "Lunch  <br />\n",
        "  <br />\n",
        "</td>\n",
        "</tr>\n",
        "<tr class=\"row-10\">\n",
        "\t<td class=\"column-1\"></td><td class=\"column-2\"><strong>SATURDAY</strong></td><td class=\"column-3\"></td><td class=\"column-4\"></td><td class=\"column-5\">Data Visualization</td><td class=\"column-6\"></td><td class=\"column-7\">Data Science &amp; Engineering</td>\n",
        "</tr>\n",
        "<tr class=\"row-11\">\n",
        "\t<td class=\"column-1\"></td><td class=\"column-2\">1:00 - 1:50</td><td class=\"column-3\"></td><td class=\"column-4\"></td><td class=\"column-5\"><a href=\"http://data-con.org/angela-bassa/\" target=\"_blank\">DataViz Design Principles  - Angela Bassa</a></td><td class=\"column-6\"></td><td class=\"column-7\"><a href=\"http://data-con.org/jean-loup-loyer/\" target=\"_blank\">Massive Feature Selection Using Supercomputing in R - Jean-Loup Loyer</a></td>\n",
        "</tr>\n",
        "<tr class=\"row-12\">\n",
        "\t<td class=\"column-1\"></td><td class=\"column-2\">1:50 - 2:40</td><td class=\"column-3\"></td><td class=\"column-4\"></td><td class=\"column-5\"><a href=\"http://data-con.org/ian-stokes-rees/\" target=\"_blank\">Python DataViz Tour - Ian Stokes-Rees</a></td><td class=\"column-6\"></td><td class=\"column-7\"><a href=\"http://data-con.org/rajarshi-guha/ \" target=\"_blank\">Robots, Small Molecules &amp; R - Ingredients for Exploring and Predicting Biological Effects - Rajarshi Guha</a></td>\n",
        "</tr>\n",
        "<tr class=\"row-13\">\n",
        "\t<td class=\"column-1\"></td><td class=\"column-2\">2:40 - 3:00</td><td class=\"column-3\"></td><td class=\"column-4\"></td><td class=\"column-5\">Break</td><td class=\"column-6\"></td><td class=\"column-7\">Break</td>\n",
        "</tr>\n",
        "<tr class=\"row-14\">\n",
        "\t<td class=\"column-1\"></td><td class=\"column-2\">3:00 - 3:50</td><td class=\"column-3\"></td><td class=\"column-4\"></td><td class=\"column-5\"><a href=\"http://data-con.org/abhinav-sarapure/ \" target=\"_blank\">Interactive DataViz with R:  ggvis, rCharts, Shiny - Abhinav Sarapure</a> </td><td class=\"column-6\"></td><td class=\"column-7\"><a href=\" http://data-con.org/sri-krishnamurthy/\" target=\"_blank\">High Dimensionality in Large Datasets - Sri Krishnamurthy</a></td>\n",
        "</tr>\n",
        "<tr class=\"row-15\">\n",
        "\t<td class=\"column-1\"></td><td class=\"column-2\">3:50 - 4:40</td><td class=\"column-3\"></td><td class=\"column-4\"></td><td class=\"column-5\"><a href=\"http://data-con.org/mike-barry-and-brian-card/\" target=\"_blank\">A Case Study Visualizing Boston's Subway System Using D3 and other Open Source tools  - Mike Barry and Brian Card</a></td><td class=\"column-6\"></td><td class=\"column-7\"><a href=\"http://data-con.org/edmund-jorgensen-and-matt-papi/\" target=\"_blank\">Principles of Data Engineering- Edmund Jorgenson and Matt Papi</a><br />\n",
        "<br />\n",
        "<a href=\" http://data-con.org/dan-milstein/\" target=\"_blank\">Baseball and Data Engineering using Statistics, R &amp; Python - Dan Milstein</a></td>\n",
        "</tr>\n",
        "<tr class=\"row-16\">\n",
        "\t<td class=\"column-1\"></td><td class=\"column-2\"> <br />\n",
        " <br />\n",
        " </td><td class=\"column-3\"></td><td class=\"column-4\"></td><td class=\"column-5\"></td><td class=\"column-6\"></td><td class=\"column-7\"></td>\n",
        "</tr>\n",
        "<tr class=\"row-17\">\n",
        "\t<td class=\"column-1\"></td><td class=\"column-2\"><strong>SUNDAY</strong></td><td class=\"column-3\"></td><td class=\"column-4\"></td><td class=\"column-5\">Beginner Python</td><td class=\"column-6\"></td><td class=\"column-7\">Big Data Tools and Parallel Computing</td>\n",
        "</tr>\n",
        "<tr class=\"row-18\">\n",
        "\t<td class=\"column-1\"></td><td class=\"column-2\">9:00 - 9:50</td><td class=\"column-3\"></td><td class=\"column-4\"></td><td class=\"column-5\"><a href=\"http://data-con.org/imran-malek/\" target=\"_blank\">iPython Tutorial - Imran Malek</a><br />\n",
        "</td><td class=\"column-6\"></td><td class=\"column-7\"><a href=\"http://data-con.org/digitaslbi/\" target=\"_blank\">Creating Custom Big Data Tools including Models, Hadoop Clusters, and DataViz - DigitasLBI</a><br />\n",
        "<br />\n",
        "<a href=\"http://data-con.org/wes-reing/\" target=\"_blank\">Introduction to Massively Parallel Databases  - Wes Reing</a></td>\n",
        "</tr>\n",
        "<tr class=\"row-19\">\n",
        "\t<td class=\"column-1\"></td><td class=\"column-2\">10:00 - 10:50</td><td class=\"column-3\"></td><td class=\"column-4\"></td><td class=\"column-5\"><a href=\"http://data-con.org/allen-downey/\" target=\"_blank\">Regression Analysis with Python, Pandas, and StatsModels - Allen Downey</a></td><td class=\"column-6\"></td><td class=\"column-7\">R for Analyzing Big Expression Data Parallel Computing - Yuefeng Lu<br />\n",
        "<br />\n",
        "<a href=\"http://data-con.org/steve-belcher/\" target=\"_blank\"> Scaling R with ScaleR Packages - Steve Belcher\t</a></td>\n",
        "</tr>\n",
        "<tr class=\"row-20\">\n",
        "\t<td class=\"column-1\"></td><td class=\"column-2\">11:00 - 11:50</td><td class=\"column-3\"></td><td class=\"column-4\"></td><td class=\"column-5\"><a href=\"http://data-con.org/mali-akmanalp/\" target=\"_blank\">More Pandas! - Mali Akmanalp</a><br />\n",
        "<br />\n",
        "<a href=\"http://data-con.org/justin-sun/\" target=\"_blank\">Python Data Mining Using Orange Canvas - Justin Sun</a><br />\n",
        "<br />\n",
        "<a href=\"http://data-con.org/will-sutton/\" target=\"_blank\">Open-Source Data-Analysis for Bio-tech - Will Sutton</a></td><td class=\"column-6\"></td><td class=\"column-7\"><a href=\"http://data-con.org/muralikumar-venkat/\" target=\"_blank\">Introduction to Hive with Case Study on Storing and Querying Protobuf Logs in Hive - Muralikumar Venkat</a><br />\n",
        "<br />\n",
        "<a href=\"http://data-con.org/nick-lim/\" target=\"_blank\">Gamification and Big Data - Nick Lim</a></td>\n",
        "</tr>\n",
        "<tr class=\"row-21\">\n",
        "\t<td class=\"column-1\"></td><td class=\"column-2\"> <br />\n",
        "12:00 - 1:00<br />\n",
        "       <br />\n",
        "</td><td class=\"column-3\"></td><td class=\"column-4\"></td><td class=\"column-5\"><a href=\"http://data-con.org/patrik-lundblad/ \" target=\"_blank\">Lunchtime Talk:  Visualizations for Exploring  Data - Pratik Lundblad</a><br />\n",
        " </td><td class=\"column-6\"></td><td class=\"column-7\"> <br />\n",
        "Lunch<br />\n",
        "   <br />\n",
        "</td>\n",
        "</tr>\n",
        "<tr class=\"row-22\">\n",
        "\t<td class=\"column-1\"></td><td class=\"column-2\"><strong>SUNDAY</strong></td><td class=\"column-3\"></td><td class=\"column-4\"></td><td class=\"column-5\">More PyData! + New Python Libraries</td><td class=\"column-6\"></td><td class=\"column-7\">Python, Machine Learning, &amp; Big Data</td>\n",
        "</tr>\n",
        "<tr class=\"row-23\">\n",
        "\t<td class=\"column-1\"></td><td class=\"column-2\">1:00 - 1:50</td><td class=\"column-3\"></td><td class=\"column-4\"></td><td class=\"column-5\"><a href=\"http://data-con.org/chris-beaumont/\" target=\"_blank\">Glue: a hackable user interface for multidimensional data exploration  - Chris Beaumont</a><br />\n",
        "<br />\n",
        "<br />\n",
        "</td><td class=\"column-6\"></td><td class=\"column-7\"><a href=\"http://data-con.org/pete-martin/\" target=\"_blank\">Data Science, YouTube, &amp; Media Disruption - Pete Martin of Pixability</a><br />\n",
        "<br />\n",
        "<a href=\"http://data-con.org/roope-astala/\" target=\"_blank\">Building Predictive Models in Cloud using Microsoft Azure Machine Learning  - Roope Astala</a></td>\n",
        "</tr>\n",
        "<tr class=\"row-24\">\n",
        "\t<td class=\"column-1\"></td><td class=\"column-2\">1:50 - 2:40</td><td class=\"column-3\"></td><td class=\"column-4\"></td><td class=\"column-5\"><a href=\"http://data-con.org/mike-bell/\" target=\"_blank\">Statistical inference in Python the NIFTY way  - Mike Bell</a> <br />\n",
        "<br />\n",
        "<a href=\"http://data-con.org/greg-lipstein-and-peter-bull/\" target=\"_blank\"> DrivenData.org:   Python-based Site for Data Science Competitions - Greg Lipstein &amp; Peter Bull</a></td><td class=\"column-6\"></td><td class=\"column-7\"><a href=\"http://data-con.org/michael-els/\" target=\"_blank\">Using Python's Machine Learning and Dynamic Control Libraries for Online Advertisement Analysis - Michael Els</a> <br />\n",
        "<br />\n",
        "</td>\n",
        "</tr>\n",
        "<tr class=\"row-25\">\n",
        "\t<td class=\"column-1\"></td><td class=\"column-2\">2:40 - 3:00</td><td class=\"column-3\"></td><td class=\"column-4\"></td><td class=\"column-5\">Break</td><td class=\"column-6\"></td><td class=\"column-7\">Break</td>\n",
        "</tr>\n",
        "<tr class=\"row-26\">\n",
        "\t<td class=\"column-1\"></td><td class=\"column-2\"><strong>SUNDAY</strong></td><td class=\"column-3\"></td><td class=\"column-4\"></td><td class=\"column-5\">R Bootcamp</td><td class=\"column-6\"></td><td class=\"column-7\">More PyData! </td>\n",
        "</tr>\n",
        "<tr class=\"row-27\">\n",
        "\t<td class=\"column-1\"></td><td class=\"column-2\">3:00 - 3:50</td><td class=\"column-3\"></td><td class=\"column-4\"></td><td class=\"column-5\"><a href=\"http://data-con.org/r-bootcamp/\" target=\"_blank\">R Beginner Bootcamp - Joe Kambourakis and John Verostek</a></td><td class=\"column-6\"></td><td class=\"column-7\"><a href=\"http://data-con.org/stuart-layton/\" target=\"_blank\">IP-Reputation Scoring System in Python and Hadoop  - Stuart Layton</a></td>\n",
        "</tr>\n",
        "<tr class=\"row-28\">\n",
        "\t<td class=\"column-1\"></td><td class=\"column-2\">3:50 - 4:40</td><td class=\"column-3\"></td><td class=\"column-4\"></td><td class=\"column-5\">R Bootcamp</td><td class=\"column-6\"></td><td class=\"column-7\"><a href=\"http://data-con.org/laurie-skelly/\" target=\"_blank\">Web Scraping Using Python's Beautiful Soup and Selenium - Laurie Skelly</a><br />\n",
        "</td>\n",
        "</tr>\n",
        "<tr class=\"row-29\">\n",
        "\t<td class=\"column-1\"></td><td class=\"column-2\">4:40 - 5:30</td><td class=\"column-3\"></td><td class=\"column-4\"></td><td class=\"column-5\">R Bootcamp</td><td class=\"column-6\"></td><td class=\"column-7\"></td>\n",
        "</tr>\n",
        "</tbody>\n",
        "</table>\n",
        "<!-- #tablepress-4 from cache --></p>\n",
        "<h3 style=\"text-align: center;\">Many Thanks to Our Sponsors</h3>\n",
        "<p><a href=\"http://data-con.org/wp-content/uploads/2014/09/sponsors-0907.png\"><img src=\"http://data-con.org/wp-content/uploads/2014/09/sponsors-0907.png\" alt=\"sponsors-0907\" width=\"1081\" height=\"260\" class=\"alignnone size-full wp-image-1242\" /></a></p>\n",
        "          </div>\r\n",
        "    <!-- entry-content clearfix-->\r\n",
        "    \r\n",
        "      </article>\r\n",
        "</section>\r\n",
        "</div><!-- #content --></div>\r\n",
        "<!-- .container -->\r\n",
        "</div>\r\n",
        "<!-- #main -->\r\n",
        "\r\n",
        "\r\n",
        "<footer id=\"colophon\" class=\"clearfix\">\r\n",
        "  \r\n",
        "\r\n",
        "\t<div id=\"site-generator\">\r\n",
        "\t\t\t\t<div class=\"container clearfix\"><div class=\"social-profiles clearfix\">\r\n",
        "\t\t\t\t\t<ul>\r\n",
        "\t\t\t\t</ul>\r\n",
        "\t\t\t\t</div><!-- .social-profiles --><div class=\"copyright\">Copyright &copy; 2014 <a href=\"http://data-con.org/\" title=\"Boston Data-Con 2014\" ><span>Boston Data-Con 2014</span></a> Theme by: <a href=\"http://themehorse.com\" target=\"_blank\" title=\"Theme Horse\" ><span>Theme Horse</span></a> Powered by: <a href=\"http://wordpress.org\" target=\"_blank\" title=\"WordPress\"><span>WordPress</span></a> </div><!-- .copyright --></div><!-- .container -->\t\r\n",
        "\t\t\t</div><!-- #site-generator --><div class=\"back-to-top\"><a href=\"#branding\"> </a></div></footer>\r\n",
        "</div>\r\n",
        "<!-- .wrapper -->\r\n",
        "\r\n",
        "<script type='text/javascript' src='http://data-con.org/wp-includes/js/jquery/ui/jquery.ui.widget.min.js?ver=1.10.4'></script>\n",
        "<script type='text/javascript' src='http://data-con.org/wp-includes/js/jquery/ui/jquery.ui.effect.min.js?ver=1.10.4'></script>\n",
        "<script type='text/javascript' src='http://data-con.org/wp-includes/js/jquery/ui/jquery.ui.effect-shake.min.js?ver=1.10.4'></script>\n",
        "<script type='text/javascript' src='http://s0.wp.com/wp-content/js/devicepx-jetpack.js?ver=201437'></script>\n",
        "</body></html>\n"
       ]
      }
     ],
     "prompt_number": 54
    },
    {
     "cell_type": "code",
     "collapsed": false,
     "input": [
      "# to parse this content and extract the information I want, I use Beautiful Soup\n",
      "from bs4 import BeautifulSoup\n",
      "\n",
      "soup = BeautifulSoup(r.content)\n",
      "print soup\n",
      "# at first glance, soup and r.content look the same, but they are not."
     ],
     "language": "python",
     "metadata": {},
     "outputs": [],
     "prompt_number": 29
    },
    {
     "cell_type": "code",
     "collapsed": true,
     "input": [
      "links = soup.find_all('a')\n",
      "for a in links: \n",
      "    print '%s: %s'%(a.text.strip(),a['href'])"
     ],
     "language": "python",
     "metadata": {},
     "outputs": [
      {
       "output_type": "stream",
       "stream": "stdout",
       "text": [
        ": http://data-con.org/\n",
        "Boston Data-Con 2014: http://data-con.org/\n",
        "Register: http://data-con.org/register/\n",
        "Schedule: http://data-con.org/schedule/\n",
        "Directions: http://data-con.org/directions/\n",
        "Floorplan: http://data-con.org/microsoft-nerd/\n",
        "Contact: http://data-con.org/contact/\n",
        "R Beginner Bootcamp - Joe Kambourakis and John Verostek: http://data-con.org/r-bootcamp/\n",
        "Introduction to the Data Science Method  - David Weisman: http://data-con.org/david-weisman/\n",
        "Using Twitter to Analyze Switching Across Cellphone Carriers  - Tanya Cashorali: http://data-con.org/tanya-cashorali/\n",
        "Topic Modelling Using R - Herb Susmann: http://data-con.org/herb-susmann/\n",
        "Combining R Libraries into Automated Workflows - Dag Holmboe: http://data-con.org/dag-holmboe/\n",
        "General Linearized Mixed Models (GLMMs) in R  - Julia Pilowsky: http://data-con.org/julia-pilowsky/\n",
        "Optimizing Multilingual Search Using Solr- David Troiano: http://data-con.org/david-troiano/\n",
        "Mining of Massive Datasets Using Locality Sensitive Hashing (LSH) - J Singh and Teresa Brooks: http://data-con.org/j-singh-and-teresa-brooks/\n",
        "DataViz Design Principles  - Angela Bassa: http://data-con.org/angela-bassa/\n",
        "Massive Feature Selection Using Supercomputing in R - Jean-Loup Loyer: http://data-con.org/jean-loup-loyer/\n",
        "Python DataViz Tour - Ian Stokes-Rees: http://data-con.org/ian-stokes-rees/\n",
        "Robots, Small Molecules & R - Ingredients for Exploring and Predicting Biological Effects - Rajarshi Guha: http://data-con.org/rajarshi-guha/ \n",
        "Interactive DataViz with R:  ggvis, rCharts, Shiny - Abhinav Sarapure: http://data-con.org/abhinav-sarapure/ \n",
        "High Dimensionality in Large Datasets - Sri Krishnamurthy:  http://data-con.org/sri-krishnamurthy/\n",
        "A Case Study Visualizing Boston's Subway System Using D3 and other Open Source tools  - Mike Barry and Brian Card: http://data-con.org/mike-barry-and-brian-card/\n",
        "Principles of Data Engineering- Edmund Jorgenson and Matt Papi: http://data-con.org/edmund-jorgensen-and-matt-papi/\n",
        "Baseball and Data Engineering using Statistics, R & Python - Dan Milstein:  http://data-con.org/dan-milstein/\n",
        "iPython Tutorial - Imran Malek: http://data-con.org/imran-malek/\n",
        "Creating Custom Big Data Tools including Models, Hadoop Clusters, and DataViz - DigitasLBI: http://data-con.org/digitaslbi/\n",
        "Introduction to Massively Parallel Databases  - Wes Reing: http://data-con.org/wes-reing/\n",
        "Regression Analysis with Python, Pandas, and StatsModels - Allen Downey: http://data-con.org/allen-downey/\n",
        "Scaling R with ScaleR Packages - Steve Belcher: http://data-con.org/steve-belcher/\n",
        "More Pandas! - Mali Akmanalp: http://data-con.org/mali-akmanalp/\n",
        "Python Data Mining Using Orange Canvas - Justin Sun: http://data-con.org/justin-sun/\n",
        "Open-Source Data-Analysis for Bio-tech - Will Sutton: http://data-con.org/will-sutton/\n",
        "Introduction to Hive with Case Study on Storing and Querying Protobuf Logs in Hive - Muralikumar Venkat: http://data-con.org/muralikumar-venkat/\n",
        "Gamification and Big Data - Nick Lim: http://data-con.org/nick-lim/\n",
        "Lunchtime Talk:  Visualizations for Exploring  Data - Pratik Lundblad: http://data-con.org/patrik-lundblad/ \n",
        "Glue: a hackable user interface for multidimensional data exploration  - Chris Beaumont: http://data-con.org/chris-beaumont/\n",
        "Data Science, YouTube, & Media Disruption - Pete Martin of Pixability: http://data-con.org/pete-martin/\n",
        "Building Predictive Models in Cloud using Microsoft Azure Machine Learning  - Roope Astala: http://data-con.org/roope-astala/\n",
        "Statistical inference in Python the NIFTY way  - Mike Bell: http://data-con.org/mike-bell/\n",
        "DrivenData.org:   Python-based Site for Data Science Competitions - Greg Lipstein & Peter Bull: http://data-con.org/greg-lipstein-and-peter-bull/\n",
        "Using Python's Machine Learning and Dynamic Control Libraries for Online Advertisement Analysis - Michael Els: http://data-con.org/michael-els/\n",
        "R Beginner Bootcamp - Joe Kambourakis and John Verostek: http://data-con.org/r-bootcamp/\n",
        "IP-Reputation Scoring System in Python and Hadoop  - Stuart Layton: http://data-con.org/stuart-layton/\n",
        "Web Scraping Using Python's Beautiful Soup and Selenium - Laurie Skelly: http://data-con.org/laurie-skelly/\n",
        ": http://data-con.org/wp-content/uploads/2014/09/sponsors-0907.png\n",
        "Boston Data-Con 2014: http://data-con.org/\n",
        "Theme Horse: http://themehorse.com\n",
        "WordPress: http://wordpress.org\n",
        ": #branding\n"
       ]
      }
     ],
     "prompt_number": 38
    },
    {
     "cell_type": "code",
     "collapsed": true,
     "input": [
      "links = soup.find_all('a')\n",
      "print len(links)\n",
      "links = [l for l in links if 'data-con.org' in l['href']]\n",
      "print len(links)\n",
      "\n",
      "for a in links: \n",
      "    print '%s: %s'%(a.text.strip(),a['href'])"
     ],
     "language": "python",
     "metadata": {},
     "outputs": [
      {
       "output_type": "stream",
       "stream": "stdout",
       "text": [
        "49\n",
        "46\n",
        ": http://data-con.org/\n",
        "Boston Data-Con 2014: http://data-con.org/\n",
        "Register: http://data-con.org/register/\n",
        "Schedule: http://data-con.org/schedule/\n",
        "Directions: http://data-con.org/directions/\n",
        "Floorplan: http://data-con.org/microsoft-nerd/\n",
        "Contact: http://data-con.org/contact/\n",
        "R Beginner Bootcamp - Joe Kambourakis and John Verostek: http://data-con.org/r-bootcamp/\n",
        "Introduction to the Data Science Method  - David Weisman: http://data-con.org/david-weisman/\n",
        "Using Twitter to Analyze Switching Across Cellphone Carriers  - Tanya Cashorali: http://data-con.org/tanya-cashorali/\n",
        "Topic Modelling Using R - Herb Susmann: http://data-con.org/herb-susmann/\n",
        "Combining R Libraries into Automated Workflows - Dag Holmboe: http://data-con.org/dag-holmboe/\n",
        "General Linearized Mixed Models (GLMMs) in R  - Julia Pilowsky: http://data-con.org/julia-pilowsky/\n",
        "Optimizing Multilingual Search Using Solr- David Troiano: http://data-con.org/david-troiano/\n",
        "Mining of Massive Datasets Using Locality Sensitive Hashing (LSH) - J Singh and Teresa Brooks: http://data-con.org/j-singh-and-teresa-brooks/\n",
        "DataViz Design Principles  - Angela Bassa: http://data-con.org/angela-bassa/\n",
        "Massive Feature Selection Using Supercomputing in R - Jean-Loup Loyer: http://data-con.org/jean-loup-loyer/\n",
        "Python DataViz Tour - Ian Stokes-Rees: http://data-con.org/ian-stokes-rees/\n",
        "Robots, Small Molecules & R - Ingredients for Exploring and Predicting Biological Effects - Rajarshi Guha: http://data-con.org/rajarshi-guha/ \n",
        "Interactive DataViz with R:  ggvis, rCharts, Shiny - Abhinav Sarapure: http://data-con.org/abhinav-sarapure/ \n",
        "High Dimensionality in Large Datasets - Sri Krishnamurthy:  http://data-con.org/sri-krishnamurthy/\n",
        "A Case Study Visualizing Boston's Subway System Using D3 and other Open Source tools  - Mike Barry and Brian Card: http://data-con.org/mike-barry-and-brian-card/\n",
        "Principles of Data Engineering- Edmund Jorgenson and Matt Papi: http://data-con.org/edmund-jorgensen-and-matt-papi/\n",
        "Baseball and Data Engineering using Statistics, R & Python - Dan Milstein:  http://data-con.org/dan-milstein/\n",
        "iPython Tutorial - Imran Malek: http://data-con.org/imran-malek/\n",
        "Creating Custom Big Data Tools including Models, Hadoop Clusters, and DataViz - DigitasLBI: http://data-con.org/digitaslbi/\n",
        "Introduction to Massively Parallel Databases  - Wes Reing: http://data-con.org/wes-reing/\n",
        "Regression Analysis with Python, Pandas, and StatsModels - Allen Downey: http://data-con.org/allen-downey/\n",
        "Scaling R with ScaleR Packages - Steve Belcher: http://data-con.org/steve-belcher/\n",
        "More Pandas! - Mali Akmanalp: http://data-con.org/mali-akmanalp/\n",
        "Python Data Mining Using Orange Canvas - Justin Sun: http://data-con.org/justin-sun/\n",
        "Open-Source Data-Analysis for Bio-tech - Will Sutton: http://data-con.org/will-sutton/\n",
        "Introduction to Hive with Case Study on Storing and Querying Protobuf Logs in Hive - Muralikumar Venkat: http://data-con.org/muralikumar-venkat/\n",
        "Gamification and Big Data - Nick Lim: http://data-con.org/nick-lim/\n",
        "Lunchtime Talk:  Visualizations for Exploring  Data - Pratik Lundblad: http://data-con.org/patrik-lundblad/ \n",
        "Glue: a hackable user interface for multidimensional data exploration  - Chris Beaumont: http://data-con.org/chris-beaumont/\n",
        "Data Science, YouTube, & Media Disruption - Pete Martin of Pixability: http://data-con.org/pete-martin/\n",
        "Building Predictive Models in Cloud using Microsoft Azure Machine Learning  - Roope Astala: http://data-con.org/roope-astala/\n",
        "Statistical inference in Python the NIFTY way  - Mike Bell: http://data-con.org/mike-bell/\n",
        "DrivenData.org:   Python-based Site for Data Science Competitions - Greg Lipstein & Peter Bull: http://data-con.org/greg-lipstein-and-peter-bull/\n",
        "Using Python's Machine Learning and Dynamic Control Libraries for Online Advertisement Analysis - Michael Els: http://data-con.org/michael-els/\n",
        "R Beginner Bootcamp - Joe Kambourakis and John Verostek: http://data-con.org/r-bootcamp/\n",
        "IP-Reputation Scoring System in Python and Hadoop  - Stuart Layton: http://data-con.org/stuart-layton/\n",
        "Web Scraping Using Python's Beautiful Soup and Selenium - Laurie Skelly: http://data-con.org/laurie-skelly/\n",
        ": http://data-con.org/wp-content/uploads/2014/09/sponsors-0907.png\n",
        "Boston Data-Con 2014: http://data-con.org/\n"
       ]
      }
     ],
     "prompt_number": 45
    },
    {
     "cell_type": "code",
     "collapsed": false,
     "input": [
      "links = soup.find_all('a')\n",
      "print len(links)\n",
      "links = [l for l in links if 'data-con.org' in l['href']]\n",
      "print len(links)\n",
      "links = [l for l in links if ' - ' in l.text]\n",
      "print len(links)\n",
      "\n",
      "for a in links: \n",
      "    print '%s: %s'%(a.text.strip(),a['href'])"
     ],
     "language": "python",
     "metadata": {},
     "outputs": [
      {
       "output_type": "stream",
       "stream": "stdout",
       "text": [
        "49\n",
        "46\n",
        "35\n",
        "R Beginner Bootcamp - Joe Kambourakis and John Verostek: http://data-con.org/r-bootcamp/\n",
        "Introduction to the Data Science Method  - David Weisman: http://data-con.org/david-weisman/\n",
        "Using Twitter to Analyze Switching Across Cellphone Carriers  - Tanya Cashorali: http://data-con.org/tanya-cashorali/\n",
        "Topic Modelling Using R - Herb Susmann: http://data-con.org/herb-susmann/\n",
        "Combining R Libraries into Automated Workflows - Dag Holmboe: http://data-con.org/dag-holmboe/\n",
        "General Linearized Mixed Models (GLMMs) in R  - Julia Pilowsky: http://data-con.org/julia-pilowsky/\n",
        "Mining of Massive Datasets Using Locality Sensitive Hashing (LSH) - J Singh and Teresa Brooks: http://data-con.org/j-singh-and-teresa-brooks/\n",
        "DataViz Design Principles  - Angela Bassa: http://data-con.org/angela-bassa/\n",
        "Massive Feature Selection Using Supercomputing in R - Jean-Loup Loyer: http://data-con.org/jean-loup-loyer/\n",
        "Python DataViz Tour - Ian Stokes-Rees: http://data-con.org/ian-stokes-rees/\n",
        "Robots, Small Molecules & R - Ingredients for Exploring and Predicting Biological Effects - Rajarshi Guha: http://data-con.org/rajarshi-guha/ \n",
        "Interactive DataViz with R:  ggvis, rCharts, Shiny - Abhinav Sarapure: http://data-con.org/abhinav-sarapure/ \n",
        "High Dimensionality in Large Datasets - Sri Krishnamurthy:  http://data-con.org/sri-krishnamurthy/\n",
        "A Case Study Visualizing Boston's Subway System Using D3 and other Open Source tools  - Mike Barry and Brian Card: http://data-con.org/mike-barry-and-brian-card/\n",
        "Baseball and Data Engineering using Statistics, R & Python - Dan Milstein:  http://data-con.org/dan-milstein/\n",
        "iPython Tutorial - Imran Malek: http://data-con.org/imran-malek/\n",
        "Creating Custom Big Data Tools including Models, Hadoop Clusters, and DataViz - DigitasLBI: http://data-con.org/digitaslbi/\n",
        "Introduction to Massively Parallel Databases  - Wes Reing: http://data-con.org/wes-reing/\n",
        "Regression Analysis with Python, Pandas, and StatsModels - Allen Downey: http://data-con.org/allen-downey/\n",
        "Scaling R with ScaleR Packages - Steve Belcher: http://data-con.org/steve-belcher/\n",
        "More Pandas! - Mali Akmanalp: http://data-con.org/mali-akmanalp/\n",
        "Python Data Mining Using Orange Canvas - Justin Sun: http://data-con.org/justin-sun/\n",
        "Open-Source Data-Analysis for Bio-tech - Will Sutton: http://data-con.org/will-sutton/\n",
        "Introduction to Hive with Case Study on Storing and Querying Protobuf Logs in Hive - Muralikumar Venkat: http://data-con.org/muralikumar-venkat/\n",
        "Gamification and Big Data - Nick Lim: http://data-con.org/nick-lim/\n",
        "Lunchtime Talk:  Visualizations for Exploring  Data - Pratik Lundblad: http://data-con.org/patrik-lundblad/ \n",
        "Glue: a hackable user interface for multidimensional data exploration  - Chris Beaumont: http://data-con.org/chris-beaumont/\n",
        "Data Science, YouTube, & Media Disruption - Pete Martin of Pixability: http://data-con.org/pete-martin/\n",
        "Building Predictive Models in Cloud using Microsoft Azure Machine Learning  - Roope Astala: http://data-con.org/roope-astala/\n",
        "Statistical inference in Python the NIFTY way  - Mike Bell: http://data-con.org/mike-bell/\n",
        "DrivenData.org:   Python-based Site for Data Science Competitions - Greg Lipstein & Peter Bull: http://data-con.org/greg-lipstein-and-peter-bull/\n",
        "Using Python's Machine Learning and Dynamic Control Libraries for Online Advertisement Analysis - Michael Els: http://data-con.org/michael-els/\n",
        "R Beginner Bootcamp - Joe Kambourakis and John Verostek: http://data-con.org/r-bootcamp/\n",
        "IP-Reputation Scoring System in Python and Hadoop  - Stuart Layton: http://data-con.org/stuart-layton/\n",
        "Web Scraping Using Python's Beautiful Soup and Selenium - Laurie Skelly: http://data-con.org/laurie-skelly/\n"
       ]
      }
     ],
     "prompt_number": 46
    },
    {
     "cell_type": "code",
     "collapsed": true,
     "input": [
      "hrefs = [a['href'].strip() for a in links]\n",
      "pprint(hrefs)"
     ],
     "language": "python",
     "metadata": {},
     "outputs": [
      {
       "output_type": "stream",
       "stream": "stdout",
       "text": [
        "['http://data-con.org/r-bootcamp/',\n",
        " 'http://data-con.org/david-weisman/',\n",
        " 'http://data-con.org/tanya-cashorali/',\n",
        " 'http://data-con.org/herb-susmann/',\n",
        " 'http://data-con.org/dag-holmboe/',\n",
        " 'http://data-con.org/julia-pilowsky/',\n",
        " 'http://data-con.org/j-singh-and-teresa-brooks/',\n",
        " 'http://data-con.org/angela-bassa/',\n",
        " 'http://data-con.org/jean-loup-loyer/',\n",
        " 'http://data-con.org/ian-stokes-rees/',\n",
        " 'http://data-con.org/rajarshi-guha/',\n",
        " 'http://data-con.org/abhinav-sarapure/',\n",
        " 'http://data-con.org/sri-krishnamurthy/',\n",
        " 'http://data-con.org/mike-barry-and-brian-card/',\n",
        " 'http://data-con.org/dan-milstein/',\n",
        " 'http://data-con.org/imran-malek/',\n",
        " 'http://data-con.org/digitaslbi/',\n",
        " 'http://data-con.org/wes-reing/',\n",
        " 'http://data-con.org/allen-downey/',\n",
        " 'http://data-con.org/steve-belcher/',\n",
        " 'http://data-con.org/mali-akmanalp/',\n",
        " 'http://data-con.org/justin-sun/',\n",
        " 'http://data-con.org/will-sutton/',\n",
        " 'http://data-con.org/muralikumar-venkat/',\n",
        " 'http://data-con.org/nick-lim/',\n",
        " 'http://data-con.org/patrik-lundblad/',\n",
        " 'http://data-con.org/chris-beaumont/',\n",
        " 'http://data-con.org/pete-martin/',\n",
        " 'http://data-con.org/roope-astala/',\n",
        " 'http://data-con.org/mike-bell/',\n",
        " 'http://data-con.org/greg-lipstein-and-peter-bull/',\n",
        " 'http://data-con.org/michael-els/',\n",
        " 'http://data-con.org/r-bootcamp/',\n",
        " 'http://data-con.org/stuart-layton/',\n",
        " 'http://data-con.org/laurie-skelly/']\n"
       ]
      }
     ],
     "prompt_number": 58
    },
    {
     "cell_type": "code",
     "collapsed": false,
     "input": [
      "# now I want to go to each of these pages and get the information about the sessions\n",
      "\n",
      "# to make this more efficient we can write a function that gets the page and soups the content \n",
      "def connection(url):\n",
      "    r = requests.get(url)\n",
      "    soup = None\n",
      "    if r.ok:\n",
      "        soup = BeautifulSoup(r.text)\n",
      "    else:\n",
      "        print 'request unsuccessful with code %s'%response.status_code\n",
      "    return soup"
     ],
     "language": "python",
     "metadata": {},
     "outputs": [],
     "prompt_number": 60
    },
    {
     "cell_type": "code",
     "collapsed": false,
     "input": [
      "# I will loop through each of my session links and get the raw content, storing it in a list called raw_sessions\n",
      "\n",
      "raw_sessions = []\n",
      "\n",
      "for url in hrefs:\n",
      "    print 'getting/souping: %s'%url\n",
      "    soup = connection(url)\n",
      "    raw_sessions.append(soup.find(id='content'))\n",
      "    "
     ],
     "language": "python",
     "metadata": {},
     "outputs": [
      {
       "output_type": "stream",
       "stream": "stdout",
       "text": [
        "getting/souping: http://data-con.org/r-bootcamp/\n",
        "getting/souping: http://data-con.org/david-weisman/"
       ]
      },
      {
       "output_type": "stream",
       "stream": "stdout",
       "text": [
        "\n",
        "getting/souping: http://data-con.org/tanya-cashorali/"
       ]
      },
      {
       "output_type": "stream",
       "stream": "stdout",
       "text": [
        "\n",
        "getting/souping: http://data-con.org/herb-susmann/"
       ]
      },
      {
       "output_type": "stream",
       "stream": "stdout",
       "text": [
        "\n",
        "getting/souping: http://data-con.org/dag-holmboe/"
       ]
      },
      {
       "output_type": "stream",
       "stream": "stdout",
       "text": [
        "\n",
        "getting/souping: http://data-con.org/julia-pilowsky/"
       ]
      },
      {
       "output_type": "stream",
       "stream": "stdout",
       "text": [
        "\n",
        "getting/souping: http://data-con.org/j-singh-and-teresa-brooks/"
       ]
      },
      {
       "output_type": "stream",
       "stream": "stdout",
       "text": [
        "\n",
        "getting/souping: http://data-con.org/angela-bassa/"
       ]
      },
      {
       "output_type": "stream",
       "stream": "stdout",
       "text": [
        "\n",
        "getting/souping: http://data-con.org/jean-loup-loyer/"
       ]
      },
      {
       "output_type": "stream",
       "stream": "stdout",
       "text": [
        "\n",
        "getting/souping: http://data-con.org/ian-stokes-rees/"
       ]
      },
      {
       "output_type": "stream",
       "stream": "stdout",
       "text": [
        "\n",
        "getting/souping: http://data-con.org/rajarshi-guha/"
       ]
      },
      {
       "output_type": "stream",
       "stream": "stdout",
       "text": [
        "\n",
        "getting/souping: http://data-con.org/abhinav-sarapure/"
       ]
      },
      {
       "output_type": "stream",
       "stream": "stdout",
       "text": [
        "\n",
        "getting/souping: http://data-con.org/sri-krishnamurthy/"
       ]
      },
      {
       "output_type": "stream",
       "stream": "stdout",
       "text": [
        "\n",
        "getting/souping: http://data-con.org/mike-barry-and-brian-card/"
       ]
      },
      {
       "output_type": "stream",
       "stream": "stdout",
       "text": [
        "\n",
        "getting/souping: http://data-con.org/dan-milstein/"
       ]
      },
      {
       "output_type": "stream",
       "stream": "stdout",
       "text": [
        "\n",
        "getting/souping: http://data-con.org/imran-malek/"
       ]
      },
      {
       "output_type": "stream",
       "stream": "stdout",
       "text": [
        "\n",
        "getting/souping: http://data-con.org/digitaslbi/"
       ]
      },
      {
       "output_type": "stream",
       "stream": "stdout",
       "text": [
        "\n",
        "getting/souping: http://data-con.org/wes-reing/"
       ]
      },
      {
       "output_type": "stream",
       "stream": "stdout",
       "text": [
        "\n",
        "getting/souping: http://data-con.org/allen-downey/"
       ]
      },
      {
       "output_type": "stream",
       "stream": "stdout",
       "text": [
        "\n",
        "getting/souping: http://data-con.org/steve-belcher/"
       ]
      },
      {
       "output_type": "stream",
       "stream": "stdout",
       "text": [
        "\n",
        "getting/souping: http://data-con.org/mali-akmanalp/"
       ]
      },
      {
       "output_type": "stream",
       "stream": "stdout",
       "text": [
        "\n",
        "getting/souping: http://data-con.org/justin-sun/"
       ]
      },
      {
       "output_type": "stream",
       "stream": "stdout",
       "text": [
        "\n",
        "getting/souping: http://data-con.org/will-sutton/"
       ]
      },
      {
       "output_type": "stream",
       "stream": "stdout",
       "text": [
        "\n",
        "getting/souping: http://data-con.org/muralikumar-venkat/"
       ]
      },
      {
       "output_type": "stream",
       "stream": "stdout",
       "text": [
        "\n",
        "getting/souping: http://data-con.org/nick-lim/"
       ]
      },
      {
       "output_type": "stream",
       "stream": "stdout",
       "text": [
        "\n",
        "getting/souping: http://data-con.org/patrik-lundblad/"
       ]
      },
      {
       "output_type": "stream",
       "stream": "stdout",
       "text": [
        "\n",
        "getting/souping: http://data-con.org/chris-beaumont/"
       ]
      },
      {
       "output_type": "stream",
       "stream": "stdout",
       "text": [
        "\n",
        "getting/souping: http://data-con.org/pete-martin/"
       ]
      },
      {
       "output_type": "stream",
       "stream": "stdout",
       "text": [
        "\n",
        "getting/souping: http://data-con.org/roope-astala/"
       ]
      },
      {
       "output_type": "stream",
       "stream": "stdout",
       "text": [
        "\n",
        "getting/souping: http://data-con.org/mike-bell/"
       ]
      },
      {
       "output_type": "stream",
       "stream": "stdout",
       "text": [
        "\n",
        "getting/souping: http://data-con.org/greg-lipstein-and-peter-bull/"
       ]
      },
      {
       "output_type": "stream",
       "stream": "stdout",
       "text": [
        "\n",
        "getting/souping: http://data-con.org/michael-els/"
       ]
      },
      {
       "output_type": "stream",
       "stream": "stdout",
       "text": [
        "\n",
        "getting/souping: http://data-con.org/r-bootcamp/"
       ]
      },
      {
       "output_type": "stream",
       "stream": "stdout",
       "text": [
        "\n",
        "getting/souping: http://data-con.org/stuart-layton/"
       ]
      },
      {
       "output_type": "stream",
       "stream": "stdout",
       "text": [
        "\n",
        "getting/souping: http://data-con.org/laurie-skelly/"
       ]
      },
      {
       "output_type": "stream",
       "stream": "stdout",
       "text": [
        "\n"
       ]
      }
     ],
     "prompt_number": 76
    },
    {
     "cell_type": "code",
     "collapsed": true,
     "input": [
      "import pickle\n",
      "# insurance\n",
      "# REMEMBER can't pickle a soup    \n",
      "raw_sessions = [s.prettify() for s in raw_sessions]\n",
      "\n",
      "# open a file and use pickle to store the list of strings (html)\n",
      "with open('insurance/datacon_contents_raw.pkl','w') as outfile:\n",
      "     pickle.dump(raw_sessions,outfile)\n",
      "\n",
      "!ls -lah ./insurance/\n",
      "    "
     ],
     "language": "python",
     "metadata": {},
     "outputs": [
      {
       "output_type": "stream",
       "stream": "stdout",
       "text": [
        "total 1112\r\n",
        "drwxr-xr-x   5 skelly  staff   170B Sep 14 12:16 \u001b[1m\u001b[34m.\u001b[m\u001b[m\r\n",
        "drwxr-xr-x  15 skelly  staff   510B Sep 14 11:47 \u001b[1m\u001b[34m..\u001b[m\u001b[m\r\n",
        "-rw-r--r--   1 skelly  staff    25K Sep 14 11:47 data_con_html.txt\r\n",
        "-rw-r--r--   1 skelly  staff    97K Sep 14 12:16 datacon_contents_raw.pkl\r\n",
        "-rw-r--r--   1 skelly  staff   428K Sep 14 12:09 datacon_soups_raw.pkl\r\n"
       ]
      }
     ],
     "prompt_number": 77
    },
    {
     "cell_type": "code",
     "collapsed": false,
     "input": [
      "#for session in raw_sessions: \n",
      "\n",
      "session = BeautifulSoup(raw_sessions[-1])\n",
      "# print session\n",
      "\n",
      "table = session.find('table')\n",
      "# print table\n",
      "\n",
      "speaker = table.find('center').text.strip()\n",
      "print speaker\n",
      "\n",
      "picture = table.find('img')\n",
      "print picture\n",
      "picture_src = picture['src']\n",
      "print picture_src"
     ],
     "language": "python",
     "metadata": {},
     "outputs": []
    },
    {
     "cell_type": "code",
     "collapsed": false,
     "input": [
      "from PIL import Image\n",
      "from StringIO import StringIO\n",
      "\n",
      "r = requests.get(picture_src)\n",
      "\n",
      "# this will give us a bunch of binary nonsense, (which you can check if you care to)\n",
      "# print r.contents\n",
      "# we can write it to an image file using the package PIL"
     ],
     "language": "python",
     "metadata": {},
     "outputs": []
    },
    {
     "cell_type": "code",
     "collapsed": false,
     "input": [
      "from PIL import Image\n",
      "from StringIO import StringIO\n",
      "i = Image.open(StringIO(r.content))\n",
      "filename = '_'.join(speaker.lower().split()) + '.jpg'\n",
      "filename = './img/'+filename\n",
      "\n",
      "with open(filename,'w') as outfile:\n",
      "    i.save(filename,'JPEG')"
     ],
     "language": "python",
     "metadata": {},
     "outputs": [],
     "prompt_number": 91
    },
    {
     "cell_type": "code",
     "collapsed": false,
     "input": [
      "# let's turn this into a function\n",
      "\n",
      "def make_datacon_facesheet(faces,nrows=7,ncols=5):\n",
      "    #faces = iter(get_faces_from_sessions(raw_sessions))\n",
      "    faces = iter(faces)\n",
      "    with open('facesheet.md','w') as outfile:\n",
      "        outfile.write('| . '*ncols + '|\\n')\n",
      "        outfile.write('|----'*ncols + '|\\n')\n",
      "    for row in range(nrows):\n",
      "        row = '|'\n",
      "        for col in range(ncols):\n",
      "            row += '###%s  \\n![](%s)'%faces.next()\n",
      "    \n",
      "    return table\n",
      "    \n",
      "def get_faces_from_sessions(raw_sessions):\n",
      "    faces = []\n",
      "    for session in raw_sessions:\n",
      "        table = session.find('table')\n",
      "        rows = table.find_all('tr')\n",
      "        num_speakers = len(rows[1].find_all('img'))\n",
      "        print 'speakers in this session: %i'%num_speakers\n",
      "        \n",
      "        for i in range(num_speakers):\n",
      "            top_row = rows[0]\n",
      "#            print top_row\n",
      "            speaker = top_row.find_all('th')[i].text.strip()\n",
      "            speaker = ' '.join(speaker.split())\n",
      "            picture_src = rows[1].find_all('td')[i].find('img')['src']\n",
      "            local_picture_src = save_speaker_picture(speaker,picture_src)\n",
      "        \n",
      "            faces.append((speaker,local_picture_src))\n",
      "    return faces"
     ],
     "language": "python",
     "metadata": {},
     "outputs": [],
     "prompt_number": 136
    },
    {
     "cell_type": "code",
     "collapsed": true,
     "input": [
      "table = make_datacon_facesheet(faces)"
     ],
     "language": "python",
     "metadata": {},
     "outputs": [],
     "prompt_number": 134
    },
    {
     "cell_type": "markdown",
     "metadata": {},
     "source": [
      "<table><tr><td><tr><td>Joe\\tKambourakis</td></tr><tr><td>./img/joe_kambourakis.jpg</td></tr></td><td><tr><td>John Verostek</td></tr><tr><td>./img/john_verostek.jpg</td></tr></td><td><tr><td>David Weisman</td></tr><tr><td>./img/david_weisman.jpg</td></tr></td><td><tr><td>Tanya Cashorali</td></tr><tr><td>./img/tanya_cashorali.jpg</td></tr></td><td><tr><td>Herb Susmann</td></tr><tr><td>./img/herb_susmann.jpg</td></tr></td></tr><tr><td><tr><td>Speaker</td></tr><tr><td>./img/speaker.jpg</td></tr></td><td><tr><td>J Singh</td></tr><tr><td>./img/j_singh.jpg</td></tr></td><td><tr><td>Teresa Brooks</td></tr><tr><td>./img/teresa_brooks.jpg</td></tr></td><td><tr><td>Angela Bassa</td></tr><tr><td>./img/angela_bassa.jpg</td></tr></td><td><tr><td>Jean-Loup Loyer</td></tr><tr><td>./img/jean-loup_loyer.jpg</td></tr></td></tr><tr><td><tr><td>Ian Stokes-Rees</td></tr><tr><td>./img/ian_stokes-rees.jpg</td></tr></td><td><tr><td>Rajarshi Guha</td></tr><tr><td>./img/rajarshi_guha.jpg</td></tr></td><td><tr><td>Abhinav Sarapure</td></tr><tr><td>./img/abhinav_sarapure.jpg</td></tr></td><td><tr><td>Sri Krishnamurthy</td></tr><tr><td>./img/sri_krishnamurthy.jpg</td></tr></td><td><tr><td>Mike Barry</td></tr><tr><td>./img/mike_barry.jpg</td></tr></td></tr><tr><td><tr><td>Brian Card</td></tr><tr><td>./img/brian_card.jpg</td></tr></td><td><tr><td>Dan Milstein</td></tr><tr><td>./img/dan_milstein.jpg</td></tr></td><td><tr><td>Imran Malek</td></tr><tr><td>./img/imran_malek.jpg</td></tr></td><td><tr><td>DigitasLBI</td></tr><tr><td>./img/digitaslbi.jpg</td></tr></td><td><tr><td>Wes Reing</td></tr><tr><td>./img/wes_reing.jpg</td></tr></td></tr><tr><td><tr><td>Allen Downey</td></tr><tr><td>./img/allen_downey.jpg</td></tr></td><td><tr><td>Steve Belcher</td></tr><tr><td>./img/steve_belcher.jpg</td></tr></td><td><tr><td>Speaker</td></tr><tr><td>./img/speaker.jpg</td></tr></td><td><tr><td>Will Sutton</td></tr><tr><td>./img/will_sutton.jpg</td></tr></td><td><tr><td>Nick Lim</td></tr><tr><td>./img/nick_lim.jpg</td></tr></td></tr><tr><td><tr><td>Patrik Lundblad</td></tr><tr><td>./img/patrik_lundblad.jpg</td></tr></td><td><tr><td>Chris Beaumont</td></tr><tr><td>./img/chris_beaumont.jpg</td></tr></td><td><tr><td>Pete Martin</td></tr><tr><td>./img/pete_martin.jpg</td></tr></td><td><tr><td>Roope Astala</td></tr><tr><td>./img/roope_astala.jpg</td></tr></td><td><tr><td>Mike Bell</td></tr><tr><td>./img/mike_bell.jpg</td></tr></td></tr><tr><td><tr><td>Speaker</td></tr><tr><td>./img/speaker.jpg</td></tr></td><td><tr><td>Joe\\tKambourakis</td></tr><tr><td>./img/joe_kambourakis.jpg</td></tr></td><td><tr><td>John Verostek</td></tr><tr><td>./img/john_verostek.jpg</td></tr></td><td><tr><td>Speaker</td></tr><tr><td>./img/speaker.jpg</td></tr></td><td><tr><td>Laurie Skelly</td></tr><tr><td>./img/laurie_skelly.jpg</td></tr></td></tr></table>"
     ]
    },
    {
     "cell_type": "code",
     "collapsed": true,
     "input": [
      "faces = get_faces_from_sessions(raw_sessions)"
     ],
     "language": "python",
     "metadata": {},
     "outputs": [
      {
       "output_type": "stream",
       "stream": "stdout",
       "text": [
        "speakers in this session: 2\n",
        "retrieving picture for Joe\tKambourakis\n",
        "retrieving picture for John Verostek"
       ]
      },
      {
       "output_type": "stream",
       "stream": "stdout",
       "text": [
        "\n",
        "speakers in this session: 1"
       ]
      },
      {
       "output_type": "stream",
       "stream": "stdout",
       "text": [
        "\n",
        "retrieving picture for David Weisman\n",
        "speakers in this session: 1"
       ]
      },
      {
       "output_type": "stream",
       "stream": "stdout",
       "text": [
        "\n",
        "retrieving picture for Tanya Cashorali\n",
        "speakers in this session: 1"
       ]
      },
      {
       "output_type": "stream",
       "stream": "stdout",
       "text": [
        "\n",
        "retrieving picture for Herb Susmann\n",
        "speakers in this session: 1"
       ]
      },
      {
       "output_type": "stream",
       "stream": "stdout",
       "text": [
        "\n",
        "retrieving picture for Speaker\n",
        "speakers in this session: 0"
       ]
      },
      {
       "output_type": "stream",
       "stream": "stdout",
       "text": [
        "\n",
        "speakers in this session: 2\n",
        "retrieving picture for J Singh\n",
        "retrieving picture for Teresa Brooks"
       ]
      },
      {
       "output_type": "stream",
       "stream": "stdout",
       "text": [
        "\n",
        "speakers in this session: 1"
       ]
      },
      {
       "output_type": "stream",
       "stream": "stdout",
       "text": [
        "\n",
        "retrieving picture for Angela Bassa\n",
        "speakers in this session: 1"
       ]
      },
      {
       "output_type": "stream",
       "stream": "stdout",
       "text": [
        "\n",
        "retrieving picture for Jean-Loup Loyer\n",
        "speakers in this session: 1"
       ]
      },
      {
       "output_type": "stream",
       "stream": "stdout",
       "text": [
        "\n",
        "retrieving picture for Ian Stokes-Rees\n",
        "speakers in this session: 1"
       ]
      },
      {
       "output_type": "stream",
       "stream": "stdout",
       "text": [
        "\n",
        "retrieving picture for Rajarshi Guha\n",
        "speakers in this session: 1"
       ]
      },
      {
       "output_type": "stream",
       "stream": "stdout",
       "text": [
        "\n",
        "retrieving picture for Abhinav Sarapure\n",
        "speakers in this session: 1"
       ]
      },
      {
       "output_type": "stream",
       "stream": "stdout",
       "text": [
        "\n",
        "retrieving picture for Sri Krishnamurthy\n",
        "speakers in this session: 2"
       ]
      },
      {
       "output_type": "stream",
       "stream": "stdout",
       "text": [
        "\n",
        "retrieving picture for Mike Barry\n",
        "retrieving picture for Brian Card"
       ]
      },
      {
       "output_type": "stream",
       "stream": "stdout",
       "text": [
        "\n",
        "speakers in this session: 1"
       ]
      },
      {
       "output_type": "stream",
       "stream": "stdout",
       "text": [
        "\n",
        "retrieving picture for Dan Milstein\n",
        "speakers in this session: 1"
       ]
      },
      {
       "output_type": "stream",
       "stream": "stdout",
       "text": [
        "\n",
        "retrieving picture for Imran Malek\n",
        "speakers in this session: 1"
       ]
      },
      {
       "output_type": "stream",
       "stream": "stdout",
       "text": [
        "\n",
        "retrieving picture for DigitasLBI\n",
        "speakers in this session: 1"
       ]
      },
      {
       "output_type": "stream",
       "stream": "stdout",
       "text": [
        "\n",
        "retrieving picture for Wes Reing\n",
        "speakers in this session: 1"
       ]
      },
      {
       "output_type": "stream",
       "stream": "stdout",
       "text": [
        "\n",
        "retrieving picture for Allen Downey\n",
        "speakers in this session: 1"
       ]
      },
      {
       "output_type": "stream",
       "stream": "stdout",
       "text": [
        "\n",
        "retrieving picture for Steve Belcher\n",
        "speakers in this session: 1"
       ]
      },
      {
       "output_type": "stream",
       "stream": "stdout",
       "text": [
        "\n",
        "retrieving picture for Speaker\n",
        "speakers in this session: 0"
       ]
      },
      {
       "output_type": "stream",
       "stream": "stdout",
       "text": [
        "\n",
        "speakers in this session: 1\n",
        "retrieving picture for Will Sutton\n",
        "speakers in this session: 0"
       ]
      },
      {
       "output_type": "stream",
       "stream": "stdout",
       "text": [
        "\n",
        "speakers in this session: 1\n",
        "retrieving picture for Nick Lim\n",
        "speakers in this session: 1"
       ]
      },
      {
       "output_type": "stream",
       "stream": "stdout",
       "text": [
        "\n",
        "retrieving picture for Patrik Lundblad\n",
        "speakers in this session: 1"
       ]
      },
      {
       "output_type": "stream",
       "stream": "stdout",
       "text": [
        "\n",
        "retrieving picture for Chris Beaumont\n",
        "speakers in this session: 1"
       ]
      },
      {
       "output_type": "stream",
       "stream": "stdout",
       "text": [
        "\n",
        "retrieving picture for Pete Martin\n",
        "speakers in this session: 1"
       ]
      },
      {
       "output_type": "stream",
       "stream": "stdout",
       "text": [
        "\n",
        "retrieving picture for Roope Astala\n",
        "speakers in this session: 1"
       ]
      },
      {
       "output_type": "stream",
       "stream": "stdout",
       "text": [
        "\n",
        "retrieving picture for Mike Bell\n",
        "speakers in this session: 0"
       ]
      },
      {
       "output_type": "stream",
       "stream": "stdout",
       "text": [
        "\n",
        "speakers in this session: 1\n",
        "retrieving picture for Speaker\n",
        "speakers in this session: 2"
       ]
      },
      {
       "output_type": "stream",
       "stream": "stdout",
       "text": [
        "\n",
        "retrieving picture for Joe\tKambourakis\n",
        "retrieving picture for John Verostek"
       ]
      },
      {
       "output_type": "stream",
       "stream": "stdout",
       "text": [
        "\n",
        "speakers in this session: 1"
       ]
      },
      {
       "output_type": "stream",
       "stream": "stdout",
       "text": [
        "\n",
        "retrieving picture for Speaker\n",
        "speakers in this session: 1"
       ]
      },
      {
       "output_type": "stream",
       "stream": "stdout",
       "text": [
        "\n",
        "retrieving picture for Laurie Skelly\n"
       ]
      }
     ],
     "prompt_number": 122
    },
    {
     "cell_type": "code",
     "collapsed": false,
     "input": [
      "def save_speaker_picture(speaker,picture_src):\n",
      "    print 'retrieving picture for %s'%speaker\n",
      "    r = requests.get(picture_src)\n",
      "    i = Image.open(StringIO(r.content))\n",
      "    filename = '_'.join(speaker.lower().split()) + '.jpg'\n",
      "    filename = './img/'+filename\n",
      "\n",
      "    with open(filename,'w') as outfile:\n",
      "        i.save(filename,'JPEG')\n",
      "\n",
      "    return filename"
     ],
     "language": "python",
     "metadata": {},
     "outputs": [],
     "prompt_number": 107
    },
    {
     "cell_type": "code",
     "collapsed": false,
     "input": [
      "with open('index.html','w') as outfile:\n",
      "    outfile.write(table)"
     ],
     "language": "python",
     "metadata": {},
     "outputs": [],
     "prompt_number": 131
    },
    {
     "cell_type": "code",
     "collapsed": false,
     "input": [
      "# sometimes things work more smoothly if we change the User-Agent in the request headers\n",
      "def connection(url):\n",
      "    headers = {'User-Agent':'Mozilla/5.0 (Macintosh; Intel Mac OS X 10_8_5)'}\n",
      "    r = requests.get(url,headers=headers)\n",
      "    soup = None\n",
      "    if r.ok:\n",
      "        soup = BeautifulSoup(r.text,'html5lib')\n",
      "    else:\n",
      "        print 'request unsuccessful with code %s'%response.status_code\n",
      "    return soup"
     ],
     "language": "python",
     "metadata": {},
     "outputs": []
    },
    {
     "cell_type": "code",
     "collapsed": false,
     "input": [
      "\n",
      "\n"
     ],
     "language": "python",
     "metadata": {},
     "outputs": []
    },
    {
     "cell_type": "code",
     "collapsed": false,
     "input": [],
     "language": "python",
     "metadata": {},
     "outputs": []
    }
   ],
   "metadata": {}
  }
 ]
}