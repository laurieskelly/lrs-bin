{
 "metadata": {
  "name": "",
  "signature": "sha256:4360c22aad476f1b4d30c1972006538adc996045f386dde2f3e8fc5bc7ceb7da"
 },
 "nbformat": 3,
 "nbformat_minor": 0,
 "worksheets": [
  {
   "cells": [
    {
     "cell_type": "markdown",
     "metadata": {},
     "source": [
      "## I like it when celebrities bring civilians up on stage and let them sing\n",
      "\n",
      "<img style=\"max-height:150px;float:left\" src=\"files/holyshitballs.png\">\n",
      "<div style=\"clear:both\"></div>\n",
      "\n",
      "When I saw [a reddit thread where people were sharing their favorites of these](http://www.reddit.com/r/videos/comments/2d9bue/this_girl_will_never_ever_forget_this_moment/), I wanted to scoop them all up so I could watch them. \n",
      "\n",
      "###First I got me some html and put it in a file. \n",
      "I know I didn't get all the comments but I am ok with that. I should get most of the upvoted links and I can check this later.  \n",
      "I also know there's a .json, but I prefer to play with the html today.\n",
      "\n",
      "###Then I got all the comments from the html using BeautifulSoup\n",
      "It seems to come out right if you find something of class 'entry' that has something of class 'md' inside it. "
     ]
    },
    {
     "cell_type": "code",
     "collapsed": false,
     "input": [
      "from bs4 import BeautifulSoup\n",
      "from pprint import pprint\n",
      "\n",
      "with open('holyshitballsmom.html','r') as html: \n",
      "    soup = BeautifulSoup(html)\n",
      "    \n",
      "comment_thing = soup.find(class_=\"nestedlisting\")\n",
      "\n",
      "comments = [c for c in comment_thing.findAll(class_=\"entry\") if c.find(class_='md')]\n",
      "#print len(comments)"
     ],
     "language": "python",
     "metadata": {},
     "outputs": [],
     "prompt_number": 1
    },
    {
     "cell_type": "markdown",
     "metadata": {},
     "source": [
      "###Then I found all of the comments with youtube links\n",
      "...and parsed them to get the youtube url, the comment, and the number of upvotes"
     ]
    },
    {
     "cell_type": "code",
     "collapsed": false,
     "input": [
      "linkylist = []\n",
      "\n",
      "for comment in comments: \n",
      "    score = comment.find(class_='score likes')\n",
      "    comment_content = comment.find(class_='md')\n",
      "    a = comment_content.find('a')\n",
      "    if a and 'youtu' in a.get('href'):    \n",
      "        score = int(score.text.replace(' points',''))\n",
      "        c = ' '.join([p.text for p in comment_content.findAll('p')])\n",
      "        if a.text in c:\n",
      "            href = a.get('href')\n",
      "            c = c.replace(a.get('href'),'').strip()\n",
      "        else:\n",
      "            href = a.text\n",
      "            c = c.strip()\n",
      "            \n",
      "        href = href.split('&t=')[0].split('?t=')[0]\n",
      "        linkylist.append({'url':href,\n",
      "                        'score':score,\n",
      "                        'comment':c,\n",
      "        })\n",
      "        \n",
      "\n",
      "#pprint(linkylist)"
     ],
     "language": "python",
     "metadata": {},
     "outputs": [],
     "prompt_number": 97
    },
    {
     "cell_type": "code",
     "collapsed": false,
     "input": [
      "# Get title from youtube\n",
      "\n",
      "import requests\n",
      "from bs4 import BeautifulSoup\n",
      "\n",
      "for link in linkylist:\n",
      "    r = requests.get(link['url'])\n",
      "    soup = BeautifulSoup(r.content)\n",
      "    title = soup.find(name='title').text\n",
      "    link['youtube_title'] = title.strip()\n",
      "    link['image_url'] = soup.find(property='og:image')['content']"
     ],
     "language": "python",
     "metadata": {},
     "outputs": [],
     "prompt_number": 99
    },
    {
     "cell_type": "code",
     "collapsed": false,
     "input": [
      "pprint(linkylist)"
     ],
     "language": "python",
     "metadata": {},
     "outputs": [
      {
       "output_type": "stream",
       "stream": "stdout",
       "text": [
        "[{'comment': u'What about this Hayley Williams vid?',\n",
        "  'score': 153,\n",
        "  'url': 'https://www.youtube.com/watch?v=OQobVuUxOuQ'},\n",
        " {'comment': u\"This is probably the most epic fan participation: Keith Moon Collapses at Cow Palace (condensed ver\\u2026:  TL/DW: Moon od's during concert, Townshend calls a random19 year old from the audience to finish the show\",\n",
        "  'score': 95,\n",
        "  'url': 'http://youtu.be/DPiG7HVt5lM'},\n",
        " {'comment': u'This is definitely one of them',\n",
        "  'score': 1567,\n",
        "  'url': 'https://www.youtube.com/watch?v=o6TKpkY4WcM'},\n",
        " {'comment': u'Then there is this one',\n",
        "  'score': 472,\n",
        "  'url': 'http://www.youtube.com/watch?v=Z-t4POnosio'},\n",
        " {'comment': u\"I really like this one, it's also a little different.\",\n",
        "  'score': 379,\n",
        "  'url': 'https://www.youtube.com/watch?v=FTq-TQ3Sldc'},\n",
        " {'comment': u'Not singing, but same idea.  Edit: Original Vevo (Non-Potato Quality) http://youtu.be/htZnpnoHGgY',\n",
        "  'score': 207,\n",
        "  'url': 'http://youtu.be/zxLjtx8wukQ'},\n",
        " {'comment': u'some more piano  Watch the intro and then skip to 7:30 minutes',\n",
        "  'score': 24,\n",
        "  'url': 'https://www.youtube.com/watch?v=Z2tmp4lIRgA'},\n",
        " {'comment': u'Not singing, rapping, but this one gives me chills',\n",
        "  'score': 204,\n",
        "  'url': 'http://youtu.be/PEUedr6ipPk'},\n",
        " {'comment': u'',\n",
        "  'score': 25,\n",
        "  'url': 'https://www.youtube.com/watch?v=B5eT6TaEtPI'},\n",
        " {'comment': u'More Panther.  Seem like pretty cool guys.',\n",
        "  'score': 14,\n",
        "  'url': 'https://www.youtube.com/watch?v=AczIYDZqOCw'},\n",
        " {'comment': u'Kelly Clarkson singing Sweet Child of Mine (bonus [?] Yellowcard guy)',\n",
        "  'score': 5,\n",
        "  'url': 'https://www.youtube.com/watch?v=h4sJMcgeDe0'},\n",
        " {'comment': u\"This one's my favorite... Steel Panther pulls dude on stage, plays Hot for Teacher and totally fucking nails it.\",\n",
        "  'score': 72,\n",
        "  'url': 'http://m.youtube.com/watch?v=IgwkiF-zARM'},\n",
        " {'comment': u'This one is kinda the opposite, but i like it',\n",
        "  'score': 58,\n",
        "  'url': 'https://www.youtube.com/watch?v=SBgZNINN6MU'},\n",
        " {'comment': u'This Karen chick got up on stage and kinda impressed the audience.',\n",
        "  'score': 58,\n",
        "  'url': 'https://www.youtube.com/watch?v=rmv1VhrtYRo'},\n",
        " {'comment': u'Jessie J - Price Tag (Live Glastonbury 2011).FLV:',\n",
        "  'score': 17,\n",
        "  'url': 'http://youtu.be/7rLTC67ReLg'},\n",
        " {'comment': u\"Not an interruption, but it's another fan duet for you :)\",\n",
        "  'score': 6,\n",
        "  'url': 'http://www.youtube.com/watch?v=QX-xToQI34I'},\n",
        " {'comment': u'How about this one?',\n",
        "  'score': 59,\n",
        "  'url': 'https://www.youtube.com/watch?v=FpXm_sXcc_Y'},\n",
        " {'comment': u\"He appeared on the TV show 'The Voice' fairly recently\",\n",
        "  'score': 49,\n",
        "  'url': 'https://www.youtube.com/watch?v=enHdvA4leCM'},\n",
        " {'comment': u'You should watch this',\n",
        "  'score': 4,\n",
        "  'url': 'http://youtu.be/2s7hkd_r9po'},\n",
        " {'comment': u'My personal favorite video of random dude doing musical stuff with other more famous dude who does musical stuff',\n",
        "  'score': 10,\n",
        "  'url': 'https://www.youtube.com/watch?v=Bceuh8c-4kg'},\n",
        " {'comment': u'Neither is this one.',\n",
        "  'score': 200,\n",
        "  'url': 'https://www.youtube.com/watch?v=a_QqfEYNRlc'},\n",
        " {'comment': u'This is the best personally..',\n",
        "  'score': 72,\n",
        "  'url': 'https://www.youtube.com/watch?v=uAzE5ssZddg'},\n",
        " {'comment': u'This clip is probably my favorite fan-on-stage clip. Dude crowd surfs to the front, gets let on stage, and plays bass for the entire song while looking totally natural. Too funny.',\n",
        "  'score': 253,\n",
        "  'url': 'https://www.youtube.com/watch?v=xesAJfEe3mQ#t=20s'},\n",
        " {'comment': u'I love this one!',\n",
        "  'score': 193,\n",
        "  'url': 'https://www.youtube.com/watch?v=jGy5eKKYiG0'},\n",
        " {'comment': u'Kid gets on stage with Kendrick Lamar and kills it.',\n",
        "  'score': 31,\n",
        "  'url': 'http://youtu.be/PEUedr6ipPk'},\n",
        " {'comment': u'Avenged Sevenfold does this as well',\n",
        "  'score': 24,\n",
        "  'url': 'https://www.youtube.com/watch?v=6pKqK2WtsA4'},\n",
        " {'comment': u'It all started with The Who',\n",
        "  'score': 4,\n",
        "  'url': 'https://www.youtube.com/watch?v=DPiG7HVt5lM'},\n",
        " {'comment': u\"Paramore has done this exact thing many times over the years at their shows and there's a lot of footage of it, its pretty sweet. My favorite vid similar to this is when hayley takes someone's phone from the front row;\",\n",
        "  'score': 4,\n",
        "  'url': 'https://www.youtube.com/watch?v=Dnc8lX1INvY'},\n",
        " {'comment': u'Michael Buble did a similar thing and had a duet with a 15 year old:',\n",
        "  'score': 11,\n",
        "  'url': 'https://www.youtube.com/watch?v=o6TKpkY4WcM'}]\n"
       ]
      }
     ],
     "prompt_number": 98
    },
    {
     "cell_type": "code",
     "collapsed": false,
     "input": [
      "for link in linkylist:\n",
      "    print link['url']\n",
      "    print link['image_url']\n",
      "    r = requests.get(link['image_url'])\n",
      "    i = Image.open(StringIO(r.content))\n",
      "\n",
      "    filename = 'img/'+link['url'].split('/')[-1].split('=')[-1]+'.jpg'\n",
      "    link['filename']=filename\n",
      "    \n",
      "    with open(filename,'wb') as outfile:\n",
      "        i.save(filename,'JPEG')\n",
      "        print filename"
     ],
     "language": "python",
     "metadata": {},
     "outputs": [
      {
       "output_type": "stream",
       "stream": "stdout",
       "text": [
        "https://www.youtube.com/watch?v=OQobVuUxOuQ\n",
        "https://i.ytimg.com/vi/OQobVuUxOuQ/maxresdefault.jpg\n",
        "img/OQobVuUxOuQ.jpg"
       ]
      },
      {
       "output_type": "stream",
       "stream": "stdout",
       "text": [
        "\n",
        "http://youtu.be/DPiG7HVt5lM\n",
        "http://i.ytimg.com/vi/DPiG7HVt5lM/hqdefault.jpg\n",
        "img/DPiG7HVt5lM.jpg"
       ]
      },
      {
       "output_type": "stream",
       "stream": "stdout",
       "text": [
        "\n",
        "https://www.youtube.com/watch?v=o6TKpkY4WcM\n",
        "https://i.ytimg.com/vi/o6TKpkY4WcM/hqdefault.jpg\n",
        "img/o6TKpkY4WcM.jpg"
       ]
      },
      {
       "output_type": "stream",
       "stream": "stdout",
       "text": [
        "\n",
        "http://www.youtube.com/watch?v=Z-t4POnosio\n",
        "http://i.ytimg.com/vi/Z-t4POnosio/hqdefault.jpg\n",
        "img/Z-t4POnosio.jpg"
       ]
      },
      {
       "output_type": "stream",
       "stream": "stdout",
       "text": [
        "\n",
        "https://www.youtube.com/watch?v=FTq-TQ3Sldc\n",
        "https://i.ytimg.com/vi/FTq-TQ3Sldc/hqdefault.jpg\n",
        "img/FTq-TQ3Sldc.jpg"
       ]
      },
      {
       "output_type": "stream",
       "stream": "stdout",
       "text": [
        "\n",
        "http://youtu.be/zxLjtx8wukQ\n",
        "http://i.ytimg.com/vi/zxLjtx8wukQ/maxresdefault.jpg\n",
        "img/zxLjtx8wukQ.jpg"
       ]
      },
      {
       "output_type": "stream",
       "stream": "stdout",
       "text": [
        "\n",
        "https://www.youtube.com/watch?v=Z2tmp4lIRgA\n",
        "https://i.ytimg.com/vi/Z2tmp4lIRgA/hqdefault.jpg\n",
        "img/Z2tmp4lIRgA.jpg"
       ]
      },
      {
       "output_type": "stream",
       "stream": "stdout",
       "text": [
        "\n",
        "http://youtu.be/PEUedr6ipPk\n",
        "http://i.ytimg.com/vi/PEUedr6ipPk/maxresdefault.jpg\n",
        "img/PEUedr6ipPk.jpg"
       ]
      },
      {
       "output_type": "stream",
       "stream": "stdout",
       "text": [
        "\n",
        "https://www.youtube.com/watch?v=B5eT6TaEtPI\n",
        "https://i.ytimg.com/vi/B5eT6TaEtPI/maxresdefault.jpg\n",
        "img/B5eT6TaEtPI.jpg"
       ]
      },
      {
       "output_type": "stream",
       "stream": "stdout",
       "text": [
        "\n",
        "https://www.youtube.com/watch?v=AczIYDZqOCw\n",
        "https://i.ytimg.com/vi/AczIYDZqOCw/maxresdefault.jpg\n",
        "img/AczIYDZqOCw.jpg"
       ]
      },
      {
       "output_type": "stream",
       "stream": "stdout",
       "text": [
        "\n",
        "https://www.youtube.com/watch?v=h4sJMcgeDe0\n",
        "https://i.ytimg.com/vi/h4sJMcgeDe0/hqdefault.jpg\n",
        "img/h4sJMcgeDe0.jpg"
       ]
      },
      {
       "output_type": "stream",
       "stream": "stdout",
       "text": [
        "\n",
        "http://m.youtube.com/watch?v=IgwkiF-zARM\n",
        "http://i.ytimg.com/vi/IgwkiF-zARM/maxresdefault.jpg\n",
        "img/IgwkiF-zARM.jpg"
       ]
      },
      {
       "output_type": "stream",
       "stream": "stdout",
       "text": [
        "\n",
        "https://www.youtube.com/watch?v=SBgZNINN6MU\n",
        "https://i.ytimg.com/vi/SBgZNINN6MU/hqdefault.jpg\n",
        "img/SBgZNINN6MU.jpg"
       ]
      },
      {
       "output_type": "stream",
       "stream": "stdout",
       "text": [
        "\n",
        "https://www.youtube.com/watch?v=rmv1VhrtYRo\n",
        "https://i.ytimg.com/vi/rmv1VhrtYRo/hqdefault.jpg\n",
        "img/rmv1VhrtYRo.jpg"
       ]
      },
      {
       "output_type": "stream",
       "stream": "stdout",
       "text": [
        "\n",
        "http://youtu.be/7rLTC67ReLg\n",
        "https://i.ytimg.com/vi/7rLTC67ReLg/hqdefault.jpg\n",
        "img/7rLTC67ReLg.jpg"
       ]
      },
      {
       "output_type": "stream",
       "stream": "stdout",
       "text": [
        "\n",
        "http://www.youtube.com/watch?v=QX-xToQI34I\n",
        "http://i.ytimg.com/vi/QX-xToQI34I/maxresdefault.jpg\n",
        "img/QX-xToQI34I.jpg"
       ]
      },
      {
       "output_type": "stream",
       "stream": "stdout",
       "text": [
        "\n",
        "https://www.youtube.com/watch?v=FpXm_sXcc_Y\n",
        "https://i.ytimg.com/vi/FpXm_sXcc_Y/maxresdefault.jpg\n",
        "img/FpXm_sXcc_Y.jpg"
       ]
      },
      {
       "output_type": "stream",
       "stream": "stdout",
       "text": [
        "\n",
        "https://www.youtube.com/watch?v=enHdvA4leCM\n",
        "https://i.ytimg.com/vi/enHdvA4leCM/hqdefault.jpg\n",
        "img/enHdvA4leCM.jpg"
       ]
      },
      {
       "output_type": "stream",
       "stream": "stdout",
       "text": [
        "\n",
        "http://youtu.be/2s7hkd_r9po\n",
        "http://i.ytimg.com/vi/2s7hkd_r9po/hqdefault.jpg\n",
        "img/2s7hkd_r9po.jpg"
       ]
      },
      {
       "output_type": "stream",
       "stream": "stdout",
       "text": [
        "\n",
        "https://www.youtube.com/watch?v=Bceuh8c-4kg\n",
        "https://i.ytimg.com/vi/Bceuh8c-4kg/hqdefault.jpg\n",
        "img/Bceuh8c-4kg.jpg"
       ]
      },
      {
       "output_type": "stream",
       "stream": "stdout",
       "text": [
        "\n",
        "https://www.youtube.com/watch?v=a_QqfEYNRlc\n",
        "https://i.ytimg.com/vi/a_QqfEYNRlc/hqdefault.jpg\n",
        "img/a_QqfEYNRlc.jpg"
       ]
      },
      {
       "output_type": "stream",
       "stream": "stdout",
       "text": [
        "\n",
        "https://www.youtube.com/watch?v=uAzE5ssZddg\n",
        "https://i.ytimg.com/vi/uAzE5ssZddg/maxresdefault.jpg\n",
        "img/uAzE5ssZddg.jpg"
       ]
      },
      {
       "output_type": "stream",
       "stream": "stdout",
       "text": [
        "\n",
        "https://www.youtube.com/watch?v=xesAJfEe3mQ#t=20s\n",
        "https://i.ytimg.com/vi/xesAJfEe3mQ/maxresdefault.jpg\n",
        "img/20s.jpg"
       ]
      },
      {
       "output_type": "stream",
       "stream": "stdout",
       "text": [
        "\n",
        "https://www.youtube.com/watch?v=jGy5eKKYiG0\n",
        "https://i.ytimg.com/vi/jGy5eKKYiG0/maxresdefault.jpg\n",
        "img/jGy5eKKYiG0.jpg"
       ]
      },
      {
       "output_type": "stream",
       "stream": "stdout",
       "text": [
        "\n",
        "http://youtu.be/PEUedr6ipPk\n",
        "http://i.ytimg.com/vi/PEUedr6ipPk/maxresdefault.jpg\n",
        "img/PEUedr6ipPk.jpg"
       ]
      },
      {
       "output_type": "stream",
       "stream": "stdout",
       "text": [
        "\n",
        "https://www.youtube.com/watch?v=6pKqK2WtsA4\n",
        "https://i.ytimg.com/vi/6pKqK2WtsA4/hqdefault.jpg\n",
        "img/6pKqK2WtsA4.jpg"
       ]
      },
      {
       "output_type": "stream",
       "stream": "stdout",
       "text": [
        "\n",
        "https://www.youtube.com/watch?v=DPiG7HVt5lM\n",
        "https://i.ytimg.com/vi/DPiG7HVt5lM/hqdefault.jpg\n",
        "img/DPiG7HVt5lM.jpg"
       ]
      },
      {
       "output_type": "stream",
       "stream": "stdout",
       "text": [
        "\n",
        "https://www.youtube.com/watch?v=Dnc8lX1INvY\n",
        "https://i.ytimg.com/vi/Dnc8lX1INvY/hqdefault.jpg\n",
        "img/Dnc8lX1INvY.jpg"
       ]
      },
      {
       "output_type": "stream",
       "stream": "stdout",
       "text": [
        "\n",
        "https://www.youtube.com/watch?v=o6TKpkY4WcM\n",
        "https://i.ytimg.com/vi/o6TKpkY4WcM/hqdefault.jpg\n",
        "img/o6TKpkY4WcM.jpg"
       ]
      },
      {
       "output_type": "stream",
       "stream": "stdout",
       "text": [
        "\n"
       ]
      }
     ],
     "prompt_number": 100
    },
    {
     "cell_type": "markdown",
     "metadata": {},
     "source": [
      "###I sorted the dictionary items by the upvote score\n",
      "So that the resulting output would make some kind of visual sense.  \n",
      "Finally I spit it out into a string to make the table."
     ]
    },
    {
     "cell_type": "code",
     "collapsed": true,
     "input": [
      "import operator\n",
      "\n",
      "sorted_linkylist = sorted(linkylist, key=operator.itemgetter('score'), reverse=True)\n",
      "#pprint(sorted_linkylist)"
     ],
     "language": "python",
     "metadata": {},
     "outputs": [],
     "prompt_number": 102
    },
    {
     "cell_type": "code",
     "collapsed": false,
     "input": [
      "s = '<table>'\n",
      "for link in sorted_linkylist:\n",
      "    s += '<tr>'\n",
      "    s += '<td rowspan=2><a href=\"'+link['url']+'\" target=\"_blank\">'\n",
      "    s += '<img style=\"max-width:300px\" src=\"files/'+link['filename']+'\"/></a></td>'\n",
      "    s += '<td colspan=2><strong>Title: </strong>'+link['youtube_title'].replace('- YouTube','')+'</td>'\n",
      "    s += '</tr>'\n",
      "    s += '<tr>'\n",
      "    s += '<td style=\"width:150px\"><strong>upvote score:</strong> '+str(link['score'])+'</td>'\n",
      "    s += '<td><strong>reddit comment:</strong> '+link['comment']+'</td>'\n",
      "    s += '</tr>'\n",
      "    s += '<tr style=\"height:10px\"></tr>'\n",
      "s += '</table>'\n",
      "\n",
      "s = s.decode('unicode-escape')\n",
      "\n",
      "with open('updated_table.md','w') as outfile:\n",
      "    outfile.write(s)\n"
     ],
     "language": "python",
     "metadata": {},
     "outputs": [
      {
       "ename": "UnicodeEncodeError",
       "evalue": "'ascii' codec can't encode character u'\\u2026' in position 4541: ordinal not in range(128)",
       "output_type": "pyerr",
       "traceback": [
        "\u001b[0;31m---------------------------------------------------------------------------\u001b[0m\n\u001b[0;31mUnicodeEncodeError\u001b[0m                        Traceback (most recent call last)",
        "\u001b[0;32m<ipython-input-109-6ab46a1db113>\u001b[0m in \u001b[0;36m<module>\u001b[0;34m()\u001b[0m\n\u001b[1;32m     13\u001b[0m \u001b[0ms\u001b[0m \u001b[0;34m+=\u001b[0m \u001b[0;34m'</table>'\u001b[0m\u001b[0;34m\u001b[0m\u001b[0m\n\u001b[1;32m     14\u001b[0m \u001b[0;34m\u001b[0m\u001b[0m\n\u001b[0;32m---> 15\u001b[0;31m \u001b[0ms\u001b[0m \u001b[0;34m=\u001b[0m \u001b[0ms\u001b[0m\u001b[0;34m.\u001b[0m\u001b[0mdecode\u001b[0m\u001b[0;34m(\u001b[0m\u001b[0;34m'unicode-escape'\u001b[0m\u001b[0;34m)\u001b[0m\u001b[0;34m\u001b[0m\u001b[0m\n\u001b[0m\u001b[1;32m     16\u001b[0m \u001b[0;34m\u001b[0m\u001b[0m\n\u001b[1;32m     17\u001b[0m \u001b[0;32mwith\u001b[0m \u001b[0mopen\u001b[0m\u001b[0;34m(\u001b[0m\u001b[0;34m'updated_table.md'\u001b[0m\u001b[0;34m,\u001b[0m\u001b[0;34m'w'\u001b[0m\u001b[0;34m)\u001b[0m \u001b[0;32mas\u001b[0m \u001b[0moutfile\u001b[0m\u001b[0;34m:\u001b[0m\u001b[0;34m\u001b[0m\u001b[0m\n",
        "\u001b[0;31mUnicodeEncodeError\u001b[0m: 'ascii' codec can't encode character u'\\u2026' in position 4541: ordinal not in range(128)"
       ]
      }
     ],
     "prompt_number": 109
    },
    {
     "cell_type": "markdown",
     "metadata": {},
     "source": [
      "<table><tr><td rowspan=2><a href=\"https://www.youtube.com/watch?v=o6TKpkY4WcM\" target=\"_blank\"><img style=\"max-width:300px\" src=\"files/img/o6TKpkY4WcM.jpg\"/></a></td><td colspan=2><strong>Title: </strong>Michael Buble duets with 15 year old boy on 'This is Michael Buble' - HD </td></tr><tr><td style=\"width:150px\"><strong>upvote score:</strong> 1567</td><td><strong>reddit comment:</strong> This is definitely one of them</td></tr><tr style=\"height:10px\"></tr><tr><td rowspan=2><a href=\"http://www.youtube.com/watch?v=Z-t4POnosio\" target=\"_blank\"><img style=\"max-width:300px\" src=\"files/img/Z-t4POnosio.jpg\"/></a></td><td colspan=2><strong>Title: </strong>Josh Groban audience member surprise! -- Josh Page (Forte - Americas Got Talent) 2 years before! </td></tr><tr><td style=\"width:150px\"><strong>upvote score:</strong> 472</td><td><strong>reddit comment:</strong> Then there is this one</td></tr><tr style=\"height:10px\"></tr><tr><td rowspan=2><a href=\"https://www.youtube.com/watch?v=FTq-TQ3Sldc\" target=\"_blank\"><img style=\"max-width:300px\" src=\"files/img/FTq-TQ3Sldc.jpg\"/></a></td><td colspan=2><strong>Title: </strong>Me playing onstage with Steel Panther! </td></tr><tr><td style=\"width:150px\"><strong>upvote score:</strong> 379</td><td><strong>reddit comment:</strong> I really like this one, it's also a little different.</td></tr><tr style=\"height:10px\"></tr><tr><td rowspan=2><a href=\"https://www.youtube.com/watch?v=xesAJfEe3mQ#t=20s\" target=\"_blank\"><img style=\"max-width:300px\" src=\"files/img/20s.jpg\"/></a></td><td colspan=2><strong>Title: </strong>A Day To Remember - The Downfall Of Us All live @ ab Brussels HD </td></tr><tr><td style=\"width:150px\"><strong>upvote score:</strong> 253</td><td><strong>reddit comment:</strong> This clip is probably my favorite fan-on-stage clip. Dude crowd surfs to the front, gets let on stage, and plays bass for the entire song while looking totally natural. Too funny.</td></tr><tr style=\"height:10px\"></tr><tr><td rowspan=2><a href=\"http://youtu.be/zxLjtx8wukQ\" target=\"_blank\"><img style=\"max-width:300px\" src=\"files/img/zxLjtx8wukQ.jpg\"/></a></td><td colspan=2><strong>Title: </strong>Michael Pollack Billy Joel </td></tr><tr><td style=\"width:150px\"><strong>upvote score:</strong> 207</td><td><strong>reddit comment:</strong> Not singing, but same idea.  Edit: Original Vevo (Non-Potato Quality) http://youtu.be/htZnpnoHGgY</td></tr><tr style=\"height:10px\"></tr><tr><td rowspan=2><a href=\"http://youtu.be/PEUedr6ipPk\" target=\"_blank\"><img style=\"max-width:300px\" src=\"files/img/PEUedr6ipPk.jpg\"/></a></td><td colspan=2><strong>Title: </strong>Look Out For Detox Live in San Antonio - Kendrick Lamar & Kyle </td></tr><tr><td style=\"width:150px\"><strong>upvote score:</strong> 204</td><td><strong>reddit comment:</strong> Not singing, rapping, but this one gives me chills</td></tr><tr style=\"height:10px\"></tr><tr><td rowspan=2><a href=\"https://www.youtube.com/watch?v=a_QqfEYNRlc\" target=\"_blank\"><img style=\"max-width:300px\" src=\"files/img/a_QqfEYNRlc.jpg\"/></a></td><td colspan=2><strong>Title: </strong>Beyonce makes fan sing </td></tr><tr><td style=\"width:150px\"><strong>upvote score:</strong> 200</td><td><strong>reddit comment:</strong> Neither is this one.</td></tr><tr style=\"height:10px\"></tr><tr><td rowspan=2><a href=\"https://www.youtube.com/watch?v=jGy5eKKYiG0\" target=\"_blank\"><img style=\"max-width:300px\" src=\"files/img/jGy5eKKYiG0.jpg\"/></a></td><td colspan=2><strong>Title: </strong>FAN PLAYS STEEL PANTHER ONSTAGE WITH THE BAND </td></tr><tr><td style=\"width:150px\"><strong>upvote score:</strong> 193</td><td><strong>reddit comment:</strong> I love this one!</td></tr><tr style=\"height:10px\"></tr><tr><td rowspan=2><a href=\"https://www.youtube.com/watch?v=OQobVuUxOuQ\" target=\"_blank\"><img style=\"max-width:300px\" src=\"files/img/OQobVuUxOuQ.jpg\"/></a></td><td colspan=2><strong>Title: </strong>Hayley & I - Ignorance (acoustic) </td></tr><tr><td style=\"width:150px\"><strong>upvote score:</strong> 153</td><td><strong>reddit comment:</strong> What about this Hayley Williams vid?</td></tr><tr style=\"height:10px\"></tr><tr><td rowspan=2><a href=\"http://youtu.be/DPiG7HVt5lM\" target=\"_blank\"><img style=\"max-width:300px\" src=\"files/img/DPiG7HVt5lM.jpg\"/></a></td><td colspan=2><strong>Title: </strong>Keith Moon Collapses at Cow Palace (condensed version) </td></tr><tr><td style=\"width:150px\"><strong>upvote score:</strong> 95</td><td><strong>reddit comment:</strong> This is probably the most epic fan participation: Keith Moon Collapses at Cow Palace (condensed ver\u2026:  TL/DW: Moon od's during concert, Townshend calls a random19 year old from the audience to finish the show</td></tr><tr style=\"height:10px\"></tr><tr><td rowspan=2><a href=\"http://m.youtube.com/watch?v=IgwkiF-zARM\" target=\"_blank\"><img style=\"max-width:300px\" src=\"files/img/IgwkiF-zARM.jpg\"/></a></td><td colspan=2><strong>Title: </strong>STEEL PANTHER - HOT FOR TEACHER & IT WONT S**K ITSELF </td></tr><tr><td style=\"width:150px\"><strong>upvote score:</strong> 72</td><td><strong>reddit comment:</strong> This one's my favorite... Steel Panther pulls dude on stage, plays Hot for Teacher and totally fucking nails it.</td></tr><tr style=\"height:10px\"></tr><tr><td rowspan=2><a href=\"https://www.youtube.com/watch?v=uAzE5ssZddg\" target=\"_blank\"><img style=\"max-width:300px\" src=\"files/img/uAzE5ssZddg.jpg\"/></a></td><td colspan=2><strong>Title: </strong>Fan sings with Michael Buble at XL Center </td></tr><tr><td style=\"width:150px\"><strong>upvote score:</strong> 72</td><td><strong>reddit comment:</strong> This is the best personally..</td></tr><tr style=\"height:10px\"></tr><tr><td rowspan=2><a href=\"https://www.youtube.com/watch?v=FpXm_sXcc_Y\" target=\"_blank\"><img style=\"max-width:300px\" src=\"files/img/FpXm_sXcc_Y.jpg\"/></a></td><td colspan=2><strong>Title: </strong>For Good - Kristin Chenoweth & Sarah Horn - Hollywood Bowl </td></tr><tr><td style=\"width:150px\"><strong>upvote score:</strong> 59</td><td><strong>reddit comment:</strong> How about this one?</td></tr><tr style=\"height:10px\"></tr><tr><td rowspan=2><a href=\"https://www.youtube.com/watch?v=SBgZNINN6MU\" target=\"_blank\"><img style=\"max-width:300px\" src=\"files/img/SBgZNINN6MU.jpg\"/></a></td><td colspan=2><strong>Title: </strong>Lenny Kravitz crashes the VOP Choir in New Orleans for \"Fly Away\" </td></tr><tr><td style=\"width:150px\"><strong>upvote score:</strong> 58</td><td><strong>reddit comment:</strong> This one is kinda the opposite, but i like it</td></tr><tr style=\"height:10px\"></tr><tr><td rowspan=2><a href=\"https://www.youtube.com/watch?v=rmv1VhrtYRo\" target=\"_blank\"><img style=\"max-width:300px\" src=\"files/img/rmv1VhrtYRo.jpg\"/></a></td><td colspan=2><strong>Title: </strong>Undercover Karaoke with Jewel </td></tr><tr><td style=\"width:150px\"><strong>upvote score:</strong> 58</td><td><strong>reddit comment:</strong> This Karen chick got up on stage and kinda impressed the audience.</td></tr><tr style=\"height:10px\"></tr><tr><td rowspan=2><a href=\"https://www.youtube.com/watch?v=enHdvA4leCM\" target=\"_blank\"><img style=\"max-width:300px\" src=\"files/img/enHdvA4leCM.jpg\"/></a></td><td colspan=2><strong>Title: </strong>[FULL] Sam Hollyman - Your Song - The Voice UK Season 2 </td></tr><tr><td style=\"width:150px\"><strong>upvote score:</strong> 49</td><td><strong>reddit comment:</strong> He appeared on the TV show 'The Voice' fairly recently</td></tr><tr style=\"height:10px\"></tr><tr><td rowspan=2><a href=\"http://youtu.be/PEUedr6ipPk\" target=\"_blank\"><img style=\"max-width:300px\" src=\"files/img/PEUedr6ipPk.jpg\"/></a></td><td colspan=2><strong>Title: </strong>Look Out For Detox Live in San Antonio - Kendrick Lamar & Kyle </td></tr><tr><td style=\"width:150px\"><strong>upvote score:</strong> 31</td><td><strong>reddit comment:</strong> Kid gets on stage with Kendrick Lamar and kills it.</td></tr><tr style=\"height:10px\"></tr><tr><td rowspan=2><a href=\"https://www.youtube.com/watch?v=B5eT6TaEtPI\" target=\"_blank\"><img style=\"max-width:300px\" src=\"files/img/B5eT6TaEtPI.jpg\"/></a></td><td colspan=2><strong>Title: </strong>Kendrick Lamar \"LOOK OUT FOR DETOX\" </td></tr><tr><td style=\"width:150px\"><strong>upvote score:</strong> 25</td><td><strong>reddit comment:</strong> </td></tr><tr style=\"height:10px\"></tr><tr><td rowspan=2><a href=\"https://www.youtube.com/watch?v=Z2tmp4lIRgA\" target=\"_blank\"><img style=\"max-width:300px\" src=\"files/img/Z2tmp4lIRgA.jpg\"/></a></td><td colspan=2><strong>Title: </strong>\"Memories\" from \"Cats\" played by David Tolley, 1st piano performance on Johnny Carson's Tonight Show </td></tr><tr><td style=\"width:150px\"><strong>upvote score:</strong> 24</td><td><strong>reddit comment:</strong> some more piano  Watch the intro and then skip to 7:30 minutes</td></tr><tr style=\"height:10px\"></tr><tr><td rowspan=2><a href=\"https://www.youtube.com/watch?v=6pKqK2WtsA4\" target=\"_blank\"><img style=\"max-width:300px\" src=\"files/img/6pKqK2WtsA4.jpg\"/></a></td><td colspan=2><strong>Title: </strong>Avenged Sevenfold lets fan play the drums - Second Heartbeat (Puerto Rico) </td></tr><tr><td style=\"width:150px\"><strong>upvote score:</strong> 24</td><td><strong>reddit comment:</strong> Avenged Sevenfold does this as well</td></tr><tr style=\"height:10px\"></tr><tr><td rowspan=2><a href=\"http://youtu.be/7rLTC67ReLg\" target=\"_blank\"><img style=\"max-width:300px\" src=\"files/img/7rLTC67ReLg.jpg\"/></a></td><td colspan=2><strong>Title: </strong>Jessie J - Price Tag (Live Glastonbury 2011).FLV </td></tr><tr><td style=\"width:150px\"><strong>upvote score:</strong> 17</td><td><strong>reddit comment:</strong> Jessie J - Price Tag (Live Glastonbury 2011).FLV:</td></tr><tr style=\"height:10px\"></tr><tr><td rowspan=2><a href=\"https://www.youtube.com/watch?v=AczIYDZqOCw\" target=\"_blank\"><img style=\"max-width:300px\" src=\"files/img/AczIYDZqOCw.jpg\"/></a></td><td colspan=2><strong>Title: </strong>***Explicit*** 11 year old Aidan Fisher with Steel Panther </td></tr><tr><td style=\"width:150px\"><strong>upvote score:</strong> 14</td><td><strong>reddit comment:</strong> More Panther.  Seem like pretty cool guys.</td></tr><tr style=\"height:10px\"></tr><tr><td rowspan=2><a href=\"https://www.youtube.com/watch?v=o6TKpkY4WcM\" target=\"_blank\"><img style=\"max-width:300px\" src=\"files/img/o6TKpkY4WcM.jpg\"/></a></td><td colspan=2><strong>Title: </strong>Michael Buble duets with 15 year old boy on 'This is Michael Buble' - HD </td></tr><tr><td style=\"width:150px\"><strong>upvote score:</strong> 11</td><td><strong>reddit comment:</strong> Michael Buble did a similar thing and had a duet with a 15 year old:</td></tr><tr style=\"height:10px\"></tr><tr><td rowspan=2><a href=\"https://www.youtube.com/watch?v=Bceuh8c-4kg\" target=\"_blank\"><img style=\"max-width:300px\" src=\"files/img/Bceuh8c-4kg.jpg\"/></a></td><td colspan=2><strong>Title: </strong>Vanderbilt Student Requests Playing For BILLY JOEL The Music And Song Incredible! </td></tr><tr><td style=\"width:150px\"><strong>upvote score:</strong> 10</td><td><strong>reddit comment:</strong> My personal favorite video of random dude doing musical stuff with other more famous dude who does musical stuff</td></tr><tr style=\"height:10px\"></tr><tr><td rowspan=2><a href=\"http://www.youtube.com/watch?v=QX-xToQI34I\" target=\"_blank\"><img style=\"max-width:300px\" src=\"files/img/QX-xToQI34I.jpg\"/></a></td><td colspan=2><strong>Title: </strong>Katy Perry, Jodi DiPiazza Sing at Night of Too Many Stars </td></tr><tr><td style=\"width:150px\"><strong>upvote score:</strong> 6</td><td><strong>reddit comment:</strong> Not an interruption, but it's another fan duet for you :)</td></tr><tr style=\"height:10px\"></tr><tr><td rowspan=2><a href=\"https://www.youtube.com/watch?v=h4sJMcgeDe0\" target=\"_blank\"><img style=\"max-width:300px\" src=\"files/img/h4sJMcgeDe0.jpg\"/></a></td><td colspan=2><strong>Title: </strong>Kelly Clarkson joins Metal Skool w/ her friend Jack Daniels </td></tr><tr><td style=\"width:150px\"><strong>upvote score:</strong> 5</td><td><strong>reddit comment:</strong> Kelly Clarkson singing Sweet Child of Mine (bonus [?] Yellowcard guy)</td></tr><tr style=\"height:10px\"></tr><tr><td rowspan=2><a href=\"http://youtu.be/2s7hkd_r9po\" target=\"_blank\"><img style=\"max-width:300px\" src=\"files/img/2s7hkd_r9po.jpg\"/></a></td><td colspan=2><strong>Title: </strong>The Graham Norton Show - S11E11 -will.i.am, Miriam Margolyes, Greg Davies and Adam Lambert </td></tr><tr><td style=\"width:150px\"><strong>upvote score:</strong> 4</td><td><strong>reddit comment:</strong> You should watch this</td></tr><tr style=\"height:10px\"></tr><tr><td rowspan=2><a href=\"https://www.youtube.com/watch?v=DPiG7HVt5lM\" target=\"_blank\"><img style=\"max-width:300px\" src=\"files/img/DPiG7HVt5lM.jpg\"/></a></td><td colspan=2><strong>Title: </strong>Keith Moon Collapses at Cow Palace (condensed version) </td></tr><tr><td style=\"width:150px\"><strong>upvote score:</strong> 4</td><td><strong>reddit comment:</strong> It all started with The Who</td></tr><tr style=\"height:10px\"></tr><tr><td rowspan=2><a href=\"https://www.youtube.com/watch?v=Dnc8lX1INvY\" target=\"_blank\"><img style=\"max-width:300px\" src=\"files/img/Dnc8lX1INvY.jpg\"/></a></td><td colspan=2><strong>Title: </strong>Paramore Columbus ohio 5/3/10 hayley takes my camera! </td></tr><tr><td style=\"width:150px\"><strong>upvote score:</strong> 4</td><td><strong>reddit comment:</strong> Paramore has done this exact thing many times over the years at their shows and there's a lot of footage of it, its pretty sweet. My favorite vid similar to this is when hayley takes someone's phone from the front row;</td></tr><tr style=\"height:10px\"></tr></table>\n"
     ]
    },
    {
     "cell_type": "code",
     "collapsed": false,
     "input": [
      "tbl = '<table><th>Link<th>Score<th>Comment from reddit thread'\n",
      "for link in sorted_linkylist:\n",
      "    tbl += '<tr><td><a href='+link[0]+'>link</a><td>'+str(link[1][0])+'<td>'+link[1][1]+'</tr>'\n",
      "tbl += '</table>'\n",
      "\n",
      "#with open('cc_readme.md','w') as outfile:\n",
      "#    outfile.write(tbl)\n",
      "#print tbl"
     ],
     "language": "python",
     "metadata": {},
     "outputs": [],
     "prompt_number": 5
    },
    {
     "cell_type": "markdown",
     "metadata": {},
     "source": [
      "*ta-da!*\n",
      "\n",
      "##Impromptu duets between civilians and celebrities\n",
      "\n",
      "scraped from [this reddit thread](http://www.reddit.com/r/videos/comments/2d9bue/this_girl_will_never_ever_forget_this_moment/)  \n",
      "\n",
      "<table><th>Link<th>Score<th>Comment from reddit thread<tr><td><a href=http://www.youtube.com/watch?v=Z-t4POnosio>link</a><td>472<td>Then there is this one</tr><tr><td><a href=https://www.youtube.com/watch?v=FTq-TQ3Sldc>link</a><td>379<td>I really like this one, it's also a little different.</tr><tr><td><a href=https://www.youtube.com/watch?v=xesAJfEe3mQ#t=20s>link</a><td>253<td>This clip is probably my favorite fan-on-stage clip. Dude crowd surfs to the front, gets let on stage, and plays bass for the entire song while looking totally natural. Too funny.</tr><tr><td><a href=http://youtu.be/zxLjtx8wukQ>link</a><td>207<td>Not singing, but same idea.  Edit: Original Vevo (Non-Potato Quality) http://youtu.be/htZnpnoHGgY</tr><tr><td><a href=http://youtu.be/PEUedr6ipPk?t=2m36s>link</a><td>204<td>Not singing, rapping, but this one gives me chills</tr><tr><td><a href=https://www.youtube.com/watch?v=a_QqfEYNRlc>link</a><td>200<td>Neither is this one.</tr><tr><td><a href=https://www.youtube.com/watch?v=jGy5eKKYiG0>link</a><td>193<td>I love this one!</tr><tr><td><a href=https://www.youtube.com/watch?v=OQobVuUxOuQ>link</a><td>153<td>What about this Hayley Williams vid?</tr><tr><td><a href=http://youtu.be/DPiG7HVt5lM>link</a><td>95<td>This is probably the most epic fan participation: Keith Moon Collapses at Cow Palace (condensed ver\u2026:  TL/DW: Moon od's during concert, Townshend calls a random19 year old from the audience to finish the show</tr><tr><td><a href=http://m.youtube.com/watch?v=IgwkiF-zARM>link</a><td>72<td>This one's my favorite... Steel Panther pulls dude on stage, plays Hot for Teacher and totally fucking nails it.</tr><tr><td><a href=https://www.youtube.com/watch?v=uAzE5ssZddg>link</a><td>72<td>This is the best personally..</tr><tr><td><a href=https://www.youtube.com/watch?v=FpXm_sXcc_Y&t=132s>link</a><td>59<td>How about this one?</tr><tr><td><a href=https://www.youtube.com/watch?v=SBgZNINN6MU>link</a><td>58<td>This one is kinda the opposite, but i like it</tr><tr><td><a href=https://www.youtube.com/watch?v=rmv1VhrtYRo>link</a><td>58<td>This Karen chick got up on stage and kinda impressed the audience.</tr><tr><td><a href=https://www.youtube.com/watch?v=enHdvA4leCM>link</a><td>49<td>He appeared on the TV show 'The Voice' fairly recently</tr><tr><td><a href=http://youtu.be/PEUedr6ipPk?t=2m30s>link</a><td>31<td>Kid gets on stage with Kendrick Lamar and kills it.</tr><tr><td><a href=https://www.youtube.com/watch?v=B5eT6TaEtPI>link</a><td>25<td></tr><tr><td><a href=https://www.youtube.com/watch?v=Z2tmp4lIRgA>link</a><td>24<td>some more piano  Watch the intro and then skip to 7:30 minutes</tr><tr><td><a href=https://www.youtube.com/watch?v=6pKqK2WtsA4>link</a><td>24<td>Avenged Sevenfold does this as well</tr><tr><td><a href=http://youtu.be/7rLTC67ReLg>link</a><td>17<td>Jessie J - Price Tag (Live Glastonbury 2011).FLV:</tr><tr><td><a href=https://www.youtube.com/watch?v=AczIYDZqOCw>link</a><td>14<td>More Panther.  Seem like pretty cool guys.</tr><tr><td><a href=https://www.youtube.com/watch?v=o6TKpkY4WcM>link</a><td>11<td>Michael Buble did a similar thing and had a duet with a 15 year old:</tr><tr><td><a href=https://www.youtube.com/watch?v=Bceuh8c-4kg>link</a><td>10<td>My personal favorite video of random dude doing musical stuff with other more famous dude who does musical stuff</tr><tr><td><a href=http://www.youtube.com/watch?v=QX-xToQI34I>link</a><td>6<td>Not an interruption, but it's another fan duet for you :)</tr><tr><td><a href=https://www.youtube.com/watch?v=h4sJMcgeDe0>link</a><td>5<td>Kelly Clarkson singing Sweet Child of Mine (bonus [?] Yellowcard guy)</tr><tr><td><a href=http://youtu.be/2s7hkd_r9po>link</a><td>4<td>You should watch this</tr><tr><td><a href=https://www.youtube.com/watch?v=Dnc8lX1INvY>link</a><td>4<td>Paramore has done this exact thing many times over the years at their shows and there's a lot of footage of it, its pretty sweet. My favorite vid similar to this is when hayley takes someone's phone from the front row;</tr><tr><td><a href=https://www.youtube.com/watch?v=DPiG7HVt5lM>link</a><td>4<td>It all started with The Who</tr></table>"
     ]
    }
   ],
   "metadata": {}
  }
 ]
}