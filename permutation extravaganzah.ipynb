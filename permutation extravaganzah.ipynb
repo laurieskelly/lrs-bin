{
 "metadata": {
  "name": "",
  "signature": "sha256:a6d87b941a4e1c8e4ac85c0bb37f5b0a6b0cd5d0ee0ad2ef1071a0f975605503"
 },
 "nbformat": 3,
 "nbformat_minor": 0,
 "worksheets": [
  {
   "cells": [
    {
     "cell_type": "code",
     "collapsed": false,
     "input": [
      "import itertools\n",
      "import math\n",
      "import string\n",
      "from pprint import pprint\n",
      "\n",
      "# pick your testing numbers here, total cards being divisible by number of people, obv, you jackasses. \n",
      "c = 10  # cards\n",
      "p = 5   # people\n",
      "h = c/p # hand size (cards per hand)\n",
      "print c,p,h\n",
      "\n",
      "s = string.ascii_uppercase[:c]"
     ],
     "language": "python",
     "metadata": {},
     "outputs": [
      {
       "output_type": "stream",
       "stream": "stdout",
       "text": [
        "10 5 2\n"
       ]
      }
     ],
     "prompt_number": 84
    },
    {
     "cell_type": "code",
     "collapsed": false,
     "input": [
      "# this cell is functionally useless. it was just helping me think. \n",
      "\n",
      "raw_permutes = itertools.permutations(s)\n",
      "#print len(list(raw_permutes))\n",
      "print math.factorial(c)\n",
      "for i in range(7): print raw_permutes.next()\n",
      "print 'etc...'"
     ],
     "language": "python",
     "metadata": {},
     "outputs": [
      {
       "output_type": "stream",
       "stream": "stdout",
       "text": [
        "3628800\n",
        "('A', 'B', 'C', 'D', 'E', 'F', 'G', 'H', 'I', 'J')\n",
        "('A', 'B', 'C', 'D', 'E', 'F', 'G', 'H', 'J', 'I')\n",
        "('A', 'B', 'C', 'D', 'E', 'F', 'G', 'I', 'H', 'J')\n",
        "('A', 'B', 'C', 'D', 'E', 'F', 'G', 'I', 'J', 'H')\n",
        "('A', 'B', 'C', 'D', 'E', 'F', 'G', 'J', 'H', 'I')\n",
        "('A', 'B', 'C', 'D', 'E', 'F', 'G', 'J', 'I', 'H')\n",
        "('A', 'B', 'C', 'D', 'E', 'F', 'H', 'G', 'I', 'J')\n",
        "etc...\n"
       ]
      }
     ],
     "prompt_number": 85
    },
    {
     "cell_type": "code",
     "collapsed": false,
     "input": [
      "# this creates all of the hands of size h you can make with c cards\n",
      "all_hands = list(itertools.combinations(s,h)) \n",
      "nh = len(all_hands) \n",
      "print nh\n",
      "print math.factorial(c) / ( math.factorial(c-p) * math.factorial(p) )\n",
      "pprint(all_hands[:7])\n",
      "print 'etc...'"
     ],
     "language": "python",
     "metadata": {},
     "outputs": [
      {
       "output_type": "stream",
       "stream": "stdout",
       "text": [
        "45\n",
        "252\n",
        "[('A', 'B'),\n",
        " ('A', 'C'),\n",
        " ('A', 'D'),\n",
        " ('A', 'E'),\n",
        " ('A', 'F'),\n",
        " ('A', 'G'),\n",
        " ('A', 'H')]\n",
        "etc...\n"
       ]
      }
     ],
     "prompt_number": 86
    },
    {
     "cell_type": "code",
     "collapsed": false,
     "input": [
      "# stick with me for a second. \n",
      "# these are all the combinations of the above hands that p people could have. \n",
      "# most of them are impossible, because there is only one of each card.\n",
      "# so..... \n",
      "possible_tables = list(itertools.combinations(all_hands,p))\n",
      "print len(possible_tables)\n",
      "#print math.factorial(nh) / ( math.factorial(nh-p) * math.factorial(p) )\n",
      "pprint(possible_tables[:10])"
     ],
     "language": "python",
     "metadata": {},
     "outputs": [
      {
       "output_type": "stream",
       "stream": "stdout",
       "text": [
        "1221759\n",
        "[(('A', 'B'), ('A', 'C'), ('A', 'D'), ('A', 'E'), ('A', 'F')),\n",
        " (('A', 'B'), ('A', 'C'), ('A', 'D'), ('A', 'E'), ('A', 'G')),\n",
        " (('A', 'B'), ('A', 'C'), ('A', 'D'), ('A', 'E'), ('A', 'H')),\n",
        " (('A', 'B'), ('A', 'C'), ('A', 'D'), ('A', 'E'), ('A', 'I')),\n",
        " (('A', 'B'), ('A', 'C'), ('A', 'D'), ('A', 'E'), ('A', 'J')),\n",
        " (('A', 'B'), ('A', 'C'), ('A', 'D'), ('A', 'E'), ('B', 'C')),\n",
        " (('A', 'B'), ('A', 'C'), ('A', 'D'), ('A', 'E'), ('B', 'D')),\n",
        " (('A', 'B'), ('A', 'C'), ('A', 'D'), ('A', 'E'), ('B', 'E')),\n",
        " (('A', 'B'), ('A', 'C'), ('A', 'D'), ('A', 'E'), ('B', 'F')),\n",
        " (('A', 'B'), ('A', 'C'), ('A', 'D'), ('A', 'E'), ('B', 'G'))]\n"
       ]
      }
     ],
     "prompt_number": 87
    },
    {
     "cell_type": "code",
     "collapsed": false,
     "input": [
      "# so this eliminates the sets of hands from above that have any repeated cards. \n",
      "real_tables = [t for t in possible_tables if len(set([a for b in t for a in b]))==len(s)]\n",
      "\n",
      "# TL;DR - empirically derived answer is the number pooped out here.\n",
      "print len(real_tables)\n",
      "pprint(real_tables[:7])"
     ],
     "language": "python",
     "metadata": {},
     "outputs": [
      {
       "output_type": "stream",
       "stream": "stdout",
       "text": [
        "945\n",
        "[(('A', 'B'), ('C', 'D'), ('E', 'F'), ('G', 'H'), ('I', 'J')),\n",
        " (('A', 'B'), ('C', 'D'), ('E', 'F'), ('G', 'I'), ('H', 'J')),\n",
        " (('A', 'B'), ('C', 'D'), ('E', 'F'), ('G', 'J'), ('H', 'I')),\n",
        " (('A', 'B'), ('C', 'D'), ('E', 'G'), ('F', 'H'), ('I', 'J')),\n",
        " (('A', 'B'), ('C', 'D'), ('E', 'G'), ('F', 'I'), ('H', 'J')),\n",
        " (('A', 'B'), ('C', 'D'), ('E', 'G'), ('F', 'J'), ('H', 'I')),\n",
        " (('A', 'B'), ('C', 'D'), ('E', 'H'), ('F', 'G'), ('I', 'J'))]\n"
       ]
      }
     ],
     "prompt_number": 88
    },
    {
     "cell_type": "code",
     "collapsed": false,
     "input": [
      "# compare that numerical answer to your theoretical construction of choice here. \n",
      "# change the values of c and p above and choose \"run all\" from the cell menu\n",
      "print \"this is what vlad and laura said. it only works when I put the right variables in the right place.\" \n",
      "print \"congratulations again vlad and laura!\"\n",
      "v = math.factorial(c) / ( math.factorial(p) * math.pow(math.factorial(h),p) )\n",
      "print v\n",
      "print ''\n",
      "\n",
      "print \"mike's c!/p! it is just not even close.\"\n",
      "print math.factorial(c) / math.factorial(p) * math.factorial(h)\n",
      "print ''\n",
      "\n",
      "print \"I thought it was this at one point\" \n",
      "print math.factorial(c) / (math.factorial(p) * math.factorial(h))\n",
      "print ''\n",
      "\n",
      "print \"these don't work either.\"\n",
      "print math.factorial(c) / (math.factorial(h) * math.factorial(c-h))\n",
      "print math.factorial(c) / (math.factorial(p) * math.factorial(c-p))\n"
     ],
     "language": "python",
     "metadata": {},
     "outputs": [
      {
       "output_type": "stream",
       "stream": "stdout",
       "text": [
        "this is what vlad and laura said. it only works when I put the right variables in the right place.\n",
        "congratulations again vlad and laura!\n",
        "945.0\n",
        "\n",
        "mike's c!/p! it is just not even close.\n",
        "60480\n",
        "\n",
        "I thought it was this at one point\n",
        "15120\n",
        "\n",
        "these don't work either.\n",
        "45\n",
        "252\n"
       ]
      }
     ],
     "prompt_number": 90
    },
    {
     "cell_type": "markdown",
     "metadata": {},
     "source": [
      "##..."
     ]
    },
    {
     "cell_type": "code",
     "collapsed": false,
     "input": [],
     "language": "python",
     "metadata": {},
     "outputs": [],
     "prompt_number": 89
    }
   ],
   "metadata": {}
  }
 ]
}