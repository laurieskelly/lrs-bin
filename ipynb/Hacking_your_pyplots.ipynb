{
 "metadata": {
  "name": "",
  "signature": "sha256:1bb9bef44eab1ffbeeac85b54bbea5e2a0a5b163b7210134dc3d886611b7b8ec"
 },
 "nbformat": 3,
 "nbformat_minor": 0,
 "worksheets": [
  {
   "cells": [
    {
     "cell_type": "code",
     "collapsed": false,
     "input": [
      "import matplotlib.pyplot as plt\n",
      "from pprint import pprint\n",
      "\n",
      "y = [424668047, 409013994, 400738009, 368061265, 291045518, 274092705, 238679850, 234911825, 228778661, 206362140, 202359711, 187168425, 159582188, 150394119, 150117807, 144840419, 137400141, 134506920, 133668525, 132556852, 125168368, 125095601, 122523060, 119793567, 117723989, 116900694, 116632095, 112200072, 107518682, 107100855, 102003019, 101802906, 101470202, 98925640, 95020213, 93050117, 90288712, 89302115, 89107235, 83586447, 83301580, 83028128, 75612460, 73103784, 71628180, 71349120, 71017784, 70525195, 68559554, 67349198, 66380662, 65187603, 64473115, 63914167, 61737191, 61002302, 60522097, 58236838, 57012977, 56671993, 55750480, 55703475, 54239856, 53262560, 51872378, 49875291, 46000903, 45385935, 44672764, 42025135, 40041683, 38362475, 37709979, 36918811, 36076121, 35266619, 33618855, 32015787, 31165421, 30664106, 29807260, 28873374, 28795985, 27298285, 26947624, 26627201, 26004851, 25682380, 25568251]\n"
     ],
     "language": "python",
     "metadata": {},
     "outputs": [],
     "prompt_number": 44
    },
    {
     "cell_type": "markdown",
     "metadata": {},
     "source": [
      "## Hacking through a pyplot"
     ]
    },
    {
     "cell_type": "code",
     "collapsed": false,
     "input": [
      "## finding the properties of the rectangle (called a patch, inherited from Matlab 2D \"patch\")\n",
      "\n",
      "# to access the guts of your figure, explicitly call it. this way you can also change the size! (most of the time.)\n",
      "f = plt.figure(figsize = (10,5))\n",
      "h = plt.hist(y,color='r')\n"
     ],
     "language": "python",
     "metadata": {},
     "outputs": [
      {
       "metadata": {},
       "output_type": "display_data",
       "png": "[encoded data removed]",
       "text": [
        "<matplotlib.figure.Figure at 0x10655ab50>"
       ]
      }
     ],
     "prompt_number": 45
    },
    {
     "cell_type": "code",
     "collapsed": false,
     "input": [
      "# then, you can traverse down from the figure to the axes object(s)\n",
      "a = f.get_axes()\n",
      "# these are a list (one axes object per subplot in your figure) \n",
      "a = a[0]\n",
      "\n",
      "# then you can see the children of the axes object\n",
      "print 'here are the \"children\" of the axes object:'\n",
      "pprint(a.get_children())\n",
      "\n",
      "# we have an XAxis, a YAxis, some rectangles, text, and spines. let's get a rectangle.\n",
      "r = a.patches[0]\n",
      "\n",
      "#and print out its properties. then we can see what we can mess with! \n",
      "\n",
      "print '\\n\\nhere are the rectangle properties'\n",
      "pprint(r.properties())"
     ],
     "language": "python",
     "metadata": {},
     "outputs": [
      {
       "output_type": "stream",
       "stream": "stdout",
       "text": [
        "here are the \"children\" of the axes object:\n",
        "[<matplotlib.axis.XAxis object at 0x105ff3090>,\n",
        " <matplotlib.axis.YAxis object at 0x106061090>,\n",
        " <matplotlib.patches.Rectangle object at 0x10607fc50>,\n",
        " <matplotlib.patches.Rectangle object at 0x106084250>,\n",
        " <matplotlib.patches.Rectangle object at 0x1060848d0>,\n",
        " <matplotlib.patches.Rectangle object at 0x106084f50>,\n",
        " <matplotlib.patches.Rectangle object at 0x106088610>,\n",
        " <matplotlib.patches.Rectangle object at 0x106088c90>,\n",
        " <matplotlib.patches.Rectangle object at 0x10608b350>,\n",
        " <matplotlib.patches.Rectangle object at 0x10608b9d0>,\n",
        " <matplotlib.patches.Rectangle object at 0x10608bed0>,\n",
        " <matplotlib.patches.Rectangle object at 0x106090590>,\n",
        " <matplotlib.text.Text object at 0x1060708d0>,\n",
        " <matplotlib.text.Text object at 0x106070910>,\n",
        " <matplotlib.text.Text object at 0x106070950>,\n",
        " <matplotlib.patches.Rectangle object at 0x106070990>,\n",
        " <matplotlib.spines.Spine object at 0x105ff3690>,\n",
        " <matplotlib.spines.Spine object at 0x105ff3c50>,\n",
        " <matplotlib.spines.Spine object at 0x105ff3d50>,\n",
        " <matplotlib.spines.Spine object at 0x105ff5390>]\n",
        "\n",
        "\n",
        "here are the rectangle properties\n",
        "{'aa': True,\n",
        " 'agg_filter': None,\n",
        " 'alpha': None,\n",
        " 'animated': False,\n",
        " 'antialiased': True,\n",
        " 'axes': <matplotlib.axes.AxesSubplot object at 0x105c064d0>,\n",
        " 'bbox': Bbox('array([[  2.55682510e+07,   0.00000000e+00],\\n       [  6.54782306e+07,   3.80000000e+01]])'),\n",
        " 'children': [],\n",
        " 'clip_box': TransformedBbox(Bbox('array([[ 0.,  0.],\\n       [ 1.,  1.]])'), CompositeGenericTransform(CompositeGenericTransform(BboxTransformTo(Bbox('array([[ 0.,  0.],\\n       [ 1.,  1.]])')), Affine2D(array([[ 1.,  0.,  0.],\n",
        "       [ 0.,  1.,  0.],\n",
        "       [ 0.,  0.,  1.]]))), BboxTransformTo(TransformedBbox(Bbox('array([[ 0.125,  0.125],\\n       [ 0.9  ,  0.9  ]])'), BboxTransformTo(TransformedBbox(Bbox('array([[  0.,   0.],\\n       [ 10.,  10.]])'), Affine2D(array([[ 80.,   0.,   0.],\n",
        "       [  0.,  80.,   0.],\n",
        "       [  0.,   0.,   1.]])))))))),\n",
        " 'clip_on': True,\n",
        " 'clip_path': None,\n",
        " 'contains': None,\n",
        " 'data_transform': CompositeGenericTransform(TransformWrapper(BlendedAffine2D(IdentityTransform(),IdentityTransform())), CompositeGenericTransform(BboxTransformFrom(TransformedBbox(Bbox('array([[  0.00000000e+00,   0.00000000e+00],\\n       [  4.50000000e+08,   4.00000000e+01]])'), TransformWrapper(BlendedAffine2D(IdentityTransform(),IdentityTransform())))), BboxTransformTo(TransformedBbox(Bbox('array([[ 0.125,  0.125],\\n       [ 0.9  ,  0.9  ]])'), BboxTransformTo(TransformedBbox(Bbox('array([[  0.,   0.],\\n       [ 10.,  10.]])'), Affine2D(array([[ 80.,   0.,   0.],\n",
        "       [  0.,  80.,   0.],\n",
        "       [  0.,   0.,   1.]])))))))),\n",
        " 'ec': (0.0, 0.0, 0.0, 1.0),\n",
        " 'edgecolor': (0.0, 0.0, 0.0, 1.0),\n",
        " 'extents': Bbox('array([[ 135.22736804,  100.        ],\\n       [ 190.21445105,  689.        ]])'),\n",
        " 'facecolor': [1.0, 0.0, 0.0, 0],\n",
        " 'fc': [1.0, 0.0, 0.0, 0],\n",
        " 'figure': <matplotlib.figure.Figure object at 0x105c067d0>,\n",
        " 'fill': False,\n",
        " 'gid': None,\n",
        " 'hatch': None,\n",
        " 'height': 38.0,\n",
        " 'label': '_nolegend_',\n",
        " 'linestyle': 'solid',\n",
        " 'linewidth': 1.0,\n",
        " 'ls': 'solid',\n",
        " 'lw': 1.0,\n",
        " 'patch_transform': CompositeGenericTransform(BboxTransformTo(Bbox('array([[  2.55682510e+07,   0.00000000e+00],\\n       [  6.54782306e+07,   3.80000000e+01]])')), Affine2D(array([[ 1.,  0.,  0.],\n",
        "       [ 0.,  1.,  0.],\n",
        "       [ 0.,  0.,  1.]]))),\n",
        " 'path': Path([[ 0.  0.]\n",
        " [ 1.  0.]\n",
        " [ 1.  1.]\n",
        " [ 0.  1.]\n",
        " [ 0.  0.]], [ 1  2  2  2 79]),\n",
        " 'path_effects': [],\n",
        " 'picker': None,\n",
        " 'rasterized': None,\n",
        " 'sketch_params': None,\n",
        " 'snap': False,\n",
        " 'transform': CompositeGenericTransform(CompositeGenericTransform(BboxTransformTo(Bbox('array([[  2.55682510e+07,   0.00000000e+00],\\n       [  6.54782306e+07,   3.80000000e+01]])')), Affine2D(array([[ 1.,  0.,  0.],\n",
        "       [ 0.,  1.,  0.],\n",
        "       [ 0.,  0.,  1.]]))), CompositeGenericTransform(TransformWrapper(BlendedAffine2D(IdentityTransform(),IdentityTransform())), CompositeGenericTransform(BboxTransformFrom(TransformedBbox(Bbox('array([[  0.00000000e+00,   0.00000000e+00],\\n       [  4.50000000e+08,   4.00000000e+01]])'), TransformWrapper(BlendedAffine2D(IdentityTransform(),IdentityTransform())))), BboxTransformTo(TransformedBbox(Bbox('array([[ 0.125,  0.125],\\n       [ 0.9  ,  0.9  ]])'), BboxTransformTo(TransformedBbox(Bbox('array([[  0.,   0.],\\n       [ 10.,  10.]])'), Affine2D(array([[ 80.,   0.,   0.],\n",
        "       [  0.,  80.,   0.],\n",
        "       [  0.,   0.,   1.]]))))))))),\n",
        " 'transformed_clip_path_and_affine': (None, None),\n",
        " 'url': None,\n",
        " 'verts': array([[ 135.22736804,  100.        ],\n",
        "       [ 190.21445105,  100.        ],\n",
        "       [ 190.21445105,  689.        ],\n",
        "       [ 135.22736804,  689.        ],\n",
        "       [ 135.22736804,  100.        ]]),\n",
        " 'visible': True,\n",
        " 'width': 39909979.600000001,\n",
        " 'window_extent': Bbox('array([[ 135.22736804,  100.        ],\\n       [ 190.21445105,  689.        ]])'),\n",
        " 'x': 25568250.999999996,\n",
        " 'xy': (25568250.999999996, 0.0),\n",
        " 'y': 0.0,\n",
        " 'zorder': 1}\n"
       ]
      }
     ],
     "prompt_number": 15
    },
    {
     "cell_type": "markdown",
     "metadata": {},
     "source": [
      "### Then, you can mess with stuff. "
     ]
    },
    {
     "cell_type": "code",
     "collapsed": false,
     "input": [
      "# alpha means transparency! \n",
      "\n",
      "f = plt.figure(figsize = (10,5))\n",
      "h = plt.hist(y,color='r',alpha=0.2)\n",
      "\n",
      "x = [(((yi -130000000)*-1)+350000000) for yi in y]\n",
      "\n",
      "h2 = plt.hist(x,color='b',alpha=0.6)"
     ],
     "language": "python",
     "metadata": {},
     "outputs": [
      {
       "output_type": "stream",
       "stream": "stdout",
       "text": [
        "55331953\n"
       ]
      },
      {
       "metadata": {},
       "output_type": "display_data",
       "png": "[encoded data removed]",
       "text": [
        "<matplotlib.figure.Figure at 0x10684cb90>"
       ]
      }
     ],
     "prompt_number": 49
    },
    {
     "cell_type": "markdown",
     "metadata": {},
     "source": [
      "## OH apparently there is a way easier way to get the properties of the patches (rectangles)\n",
      "\n",
      "from this handy tutorial: http://matplotlib.org/users/artists.html"
     ]
    },
    {
     "cell_type": "code",
     "collapsed": false,
     "input": [
      "plt.getp(f.patch)"
     ],
     "language": "python",
     "metadata": {},
     "outputs": [
      {
       "output_type": "stream",
       "stream": "stdout",
       "text": [
        "    aa = False\n",
        "    agg_filter = None\n",
        "    alpha = None\n",
        "    animated = False\n",
        "    antialiased or aa = False\n",
        "    axes = None\n",
        "    bbox = Bbox('array([[ 0.,  0.],\\n       [ 1.,  1.]])')\n",
        "    children = []\n",
        "    clip_box = None\n",
        "    clip_on = True\n",
        "    clip_path = None\n",
        "    contains = None\n",
        "    data_transform = BboxTransformTo(TransformedBbox(Bbox('array([[  0....\n",
        "    ec = (1, 1, 1, 0)\n",
        "    edgecolor or ec = (1, 1, 1, 0)\n",
        "    extents = Bbox('array([[   0.,    0.],\\n       [ 800.,  400....\n",
        "    facecolor or fc = (1, 1, 1, 0)\n",
        "    fc = (1, 1, 1, 0)\n",
        "    figure = Figure(800x400)\n",
        "    fill = True\n",
        "    gid = None\n",
        "    hatch = None\n",
        "    height = 1\n",
        "    label = \n",
        "    linestyle or ls = solid\n",
        "    linewidth or lw = 0.0\n",
        "    ls = solid\n",
        "    lw = 0.0\n",
        "    patch_transform = CompositeGenericTransform(BboxTransformTo(Bbox('ar...\n",
        "    path = Path([[ 0.  0.]  [ 1.  0.]  [ 1.  1.]  [ 0.  1.]  ...\n",
        "    path_effects = []\n",
        "    picker = None\n",
        "    rasterized = None\n",
        "    sketch_params = None\n",
        "    snap = None\n",
        "    transform = CompositeGenericTransform(CompositeGenericTransfor...\n",
        "    transformed_clip_path_and_affine = (None, None)\n",
        "    url = None\n",
        "    verts = [[   0.    0.]  [ 800.    0.]  [ 800.  400.]  [   ...\n",
        "    visible = True\n",
        "    width = 1\n",
        "    window_extent = Bbox('array([[   0.,    0.],\\n       [ 800.,  400....\n",
        "    x = 0\n",
        "    xy = (0, 0)\n",
        "    y = 0\n",
        "    zorder = 1\n"
       ]
      }
     ],
     "prompt_number": 53
    },
    {
     "cell_type": "code",
     "collapsed": false,
     "input": [
      "#oh, and ps\n",
      "\n",
      "f = plt.figure(figsize = (10,5))\n",
      "h = plt.hist(y,color='r',alpha=0.6,hatch='*')\n",
      "\n"
     ],
     "language": "python",
     "metadata": {},
     "outputs": [
      {
       "metadata": {},
       "output_type": "display_data",
       "png": "[encoded data removed]",
       "text": [
        "<matplotlib.figure.Figure at 0x10655af10>"
       ]
      }
     ],
     "prompt_number": 56
    }
   ],
   "metadata": {}
  }
 ]
}