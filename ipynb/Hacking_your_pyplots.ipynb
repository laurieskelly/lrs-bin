{
 "metadata": {
  "name": "",
  "signature": "sha256:480f4d2526f66878b0333b0adf0fc91ad9264cf6eaa6e13134444fd034ff863d"
 },
 "nbformat": 3,
 "nbformat_minor": 0,
 "worksheets": [
  {
   "cells": [
    {
     "cell_type": "code",
     "collapsed": false,
     "input": [
      "# just ignore this first cell.\n",
      "import matplotlib.pyplot as plt\n",
      "from pprint import pprint\n",
      "\n",
      "\n",
      "y = [424668047, 409013994, 400738009, 368061265, 291045518, 274092705, 238679850, 234911825, 228778661, 206362140, 202359711, 187168425, 159582188, 150394119, 150117807, 144840419, 137400141, 134506920, 133668525, 132556852, 125168368, 125095601, 122523060, 119793567, 117723989, 116900694, 116632095, 112200072, 107518682, 107100855, 102003019, 101802906, 101470202, 98925640, 95020213, 93050117, 90288712, 89302115, 89107235, 83586447, 83301580, 83028128, 75612460, 73103784, 71628180, 71349120, 71017784, 70525195, 68559554, 67349198, 66380662, 65187603, 64473115, 63914167, 61737191, 61002302, 60522097, 58236838, 57012977, 56671993, 55750480, 55703475, 54239856, 53262560, 51872378, 49875291, 46000903, 45385935, 44672764, 42025135, 40041683, 38362475, 37709979, 36918811, 36076121, 35266619, 33618855, 32015787, 31165421, 30664106, 29807260, 28873374, 28795985, 27298285, 26947624, 26627201, 26004851, 25682380, 25568251]\n"
     ],
     "language": "python",
     "metadata": {},
     "outputs": [],
     "prompt_number": 44
    },
    {
     "cell_type": "markdown",
     "metadata": {},
     "source": [
      "# Hacking a pyplot!\n",
      "\n",
      "Want to make your plot look different, better, bigger? \n",
      "\n",
      "These Matlab-inspired figures can be a little dense to understand, so here are some first steps to help you get in there and hack around. "
     ]
    },
    {
     "cell_type": "markdown",
     "metadata": {},
     "source": [
      "## finding the properties of the rectangle \n",
      "\n",
      "In this example, we'll fiddle around with the bars of the histogram.   \n",
      "These are also called Rectangle objects and also called a Patch, inherited from Matlab 2D \"patch\".   \n",
      "Whatever.\n",
      "\n",
      "###Handy hacking tips:\n",
      "* to access the guts of your figure, explicitly call it and assign it to a variable before you plot. `f=plt.figure()`\n",
      "* this way, you can access its properties later. \n",
      "* oh, and as immediate gratification, using `figsize = (x,y)` you can also change the size! (most of the time :/)"
     ]
    },
    {
     "cell_type": "code",
     "collapsed": false,
     "input": [
      "f = plt.figure(figsize = (10,5))\n",
      "h = plt.hist(y,color='r')"
     ],
     "language": "python",
     "metadata": {},
     "outputs": [
      {
       "metadata": {},
       "output_type": "display_data",
       "png": "[encoded data removed]",
       "text": [
        "<matplotlib.figure.Figure at 0x10655ab50>"
       ]
      }
     ],
     "prompt_number": 45
    },
    {
     "cell_type": "markdown",
     "metadata": {},
     "source": [
      "##then, you can traverse down from the figure,\n",
      "###to the axes object(s), to the patches, \n",
      "and check out their proerties"
     ]
    },
    {
     "cell_type": "code",
     "collapsed": false,
     "input": [
      "a = f.get_axes()\n",
      "# the axes come in a list (one axes object per subplot in your figure) \n",
      "# since we have one \"subplot\", our axes object is the only object in the list\n",
      "a = a[0]\n",
      "\n",
      "# now we can check out the children of the axes object\n",
      "print 'Here are the \"children\" of the axes object:\\n'\n",
      "pprint(a.get_children())\n",
      "\n",
      "# we have an XAxis, a YAxis, some rectangles, text, and spines. let's get a rectangle.\n",
      "r = a.patches[0]\n",
      "#and print out its properties. then we can see what we can mess with! \n",
      "\n",
      "print '\\n\\nHere are the rectangle properties!\\n'\n",
      "pprint(r.properties())"
     ],
     "language": "python",
     "metadata": {},
     "outputs": [
      {
       "output_type": "stream",
       "stream": "stdout",
       "text": [
        "Here are the \"children\" of the axes object:\n",
        "\n",
        "[<matplotlib.axis.XAxis object at 0x106563dd0>,\n",
        " <matplotlib.axis.YAxis object at 0x106942050>,\n",
        " <matplotlib.patches.Rectangle object at 0x106527cd0>,\n",
        " <matplotlib.patches.Rectangle object at 0x1065272d0>,\n",
        " <matplotlib.patches.Rectangle object at 0x10695ea10>,\n",
        " <matplotlib.patches.Rectangle object at 0x106878fd0>,\n",
        " <matplotlib.patches.Rectangle object at 0x106878090>,\n",
        " <matplotlib.patches.Rectangle object at 0x106506890>,\n",
        " <matplotlib.patches.Rectangle object at 0x106506710>,\n",
        " <matplotlib.patches.Rectangle object at 0x106873510>,\n",
        " <matplotlib.patches.Rectangle object at 0x1064c3a90>,\n",
        " <matplotlib.patches.Rectangle object at 0x1064c3ed0>,\n",
        " <matplotlib.text.Text object at 0x106534d50>,\n",
        " <matplotlib.text.Text object at 0x106534f50>,\n",
        " <matplotlib.text.Text object at 0x106534e90>,\n",
        " <matplotlib.patches.Rectangle object at 0x106534890>,\n",
        " <matplotlib.spines.Spine object at 0x106563e10>,\n",
        " <matplotlib.spines.Spine object at 0x106504350>,\n",
        " <matplotlib.spines.Spine object at 0x10695c810>,\n",
        " <matplotlib.spines.Spine object at 0x1064a8390>]\n",
        "\n",
        "\n",
        "Here are the rectangle properties!\n",
        "\n",
        "{'aa': True,\n",
        " 'agg_filter': None,\n",
        " 'alpha': 0.6,\n",
        " 'animated': False,\n",
        " 'antialiased': True,\n",
        " 'axes': <matplotlib.axes.AxesSubplot object at 0x10655ad50>,\n",
        " 'bbox': Bbox('array([[  2.55682510e+07,   0.00000000e+00],\\n       [  6.54782306e+07,   3.80000000e+01]])'),\n",
        " 'children': [],\n",
        " 'clip_box': TransformedBbox(Bbox('array([[ 0.,  0.],\\n       [ 1.,  1.]])'), CompositeGenericTransform(CompositeGenericTransform(BboxTransformTo(Bbox('array([[ 0.,  0.],\\n       [ 1.,  1.]])')), Affine2D(array([[ 1.,  0.,  0.],\n",
        "       [ 0.,  1.,  0.],\n",
        "       [ 0.,  0.,  1.]]))), BboxTransformTo(TransformedBbox(Bbox('array([[ 0.125,  0.125],\\n       [ 0.9  ,  0.9  ]])'), BboxTransformTo(TransformedBbox(Bbox('array([[  0.,   0.],\\n       [ 10.,   5.]])'), Affine2D(array([[ 80.,   0.,   0.],\n",
        "       [  0.,  80.,   0.],\n",
        "       [  0.,   0.,   1.]])))))))),\n",
        " 'clip_on': True,\n",
        " 'clip_path': None,\n",
        " 'contains': None,\n",
        " 'data_transform': CompositeGenericTransform(TransformWrapper(BlendedAffine2D(IdentityTransform(),IdentityTransform())), CompositeGenericTransform(BboxTransformFrom(TransformedBbox(Bbox('array([[  0.00000000e+00,   0.00000000e+00],\\n       [  4.50000000e+08,   4.00000000e+01]])'), TransformWrapper(BlendedAffine2D(IdentityTransform(),IdentityTransform())))), BboxTransformTo(TransformedBbox(Bbox('array([[ 0.125,  0.125],\\n       [ 0.9  ,  0.9  ]])'), BboxTransformTo(TransformedBbox(Bbox('array([[  0.,   0.],\\n       [ 10.,   5.]])'), Affine2D(array([[ 80.,   0.,   0.],\n",
        "       [  0.,  80.,   0.],\n",
        "       [  0.,   0.,   1.]])))))))),\n",
        " 'ec': (0.0, 0.0, 0.0, 0.6),\n",
        " 'edgecolor': (0.0, 0.0, 0.0, 0.6),\n",
        " 'extents': Bbox('array([[ 135.22736804,   50.        ],\\n       [ 190.21445105,  344.5       ]])'),\n",
        " 'facecolor': (1.0, 0.0, 0.0, 0.6),\n",
        " 'fc': (1.0, 0.0, 0.0, 0.6),\n",
        " 'figure': <matplotlib.figure.Figure object at 0x10655af10>,\n",
        " 'fill': True,\n",
        " 'gid': None,\n",
        " 'hatch': '*',\n",
        " 'height': 38.0,\n",
        " 'label': '_nolegend_',\n",
        " 'linestyle': 'solid',\n",
        " 'linewidth': 1.0,\n",
        " 'ls': 'solid',\n",
        " 'lw': 1.0,\n",
        " 'patch_transform': CompositeGenericTransform(BboxTransformTo(Bbox('array([[  2.55682510e+07,   0.00000000e+00],\\n       [  6.54782306e+07,   3.80000000e+01]])')), Affine2D(array([[ 1.,  0.,  0.],\n",
        "       [ 0.,  1.,  0.],\n",
        "       [ 0.,  0.,  1.]]))),\n",
        " 'path': Path([[ 0.  0.]\n",
        " [ 1.  0.]\n",
        " [ 1.  1.]\n",
        " [ 0.  1.]\n",
        " [ 0.  0.]], [ 1  2  2  2 79]),\n",
        " 'path_effects': [],\n",
        " 'picker': None,\n",
        " 'rasterized': None,\n",
        " 'sketch_params': None,\n",
        " 'snap': False,\n",
        " 'transform': CompositeGenericTransform(CompositeGenericTransform(BboxTransformTo(Bbox('array([[  2.55682510e+07,   0.00000000e+00],\\n       [  6.54782306e+07,   3.80000000e+01]])')), Affine2D(array([[ 1.,  0.,  0.],\n",
        "       [ 0.,  1.,  0.],\n",
        "       [ 0.,  0.,  1.]]))), CompositeGenericTransform(TransformWrapper(BlendedAffine2D(IdentityTransform(),IdentityTransform())), CompositeGenericTransform(BboxTransformFrom(TransformedBbox(Bbox('array([[  0.00000000e+00,   0.00000000e+00],\\n       [  4.50000000e+08,   4.00000000e+01]])'), TransformWrapper(BlendedAffine2D(IdentityTransform(),IdentityTransform())))), BboxTransformTo(TransformedBbox(Bbox('array([[ 0.125,  0.125],\\n       [ 0.9  ,  0.9  ]])'), BboxTransformTo(TransformedBbox(Bbox('array([[  0.,   0.],\\n       [ 10.,   5.]])'), Affine2D(array([[ 80.,   0.,   0.],\n",
        "       [  0.,  80.,   0.],\n",
        "       [  0.,   0.,   1.]]))))))))),\n",
        " 'transformed_clip_path_and_affine': (None, None),\n",
        " 'url': None,\n",
        " 'verts': array([[ 135.22736804,   50.        ],\n",
        "       [ 190.21445105,   50.        ],\n",
        "       [ 190.21445105,  344.5       ],\n",
        "       [ 135.22736804,  344.5       ],\n",
        "       [ 135.22736804,   50.        ]]),\n",
        " 'visible': True,\n",
        " 'width': 39909979.600000001,\n",
        " 'window_extent': Bbox('array([[ 135.22736804,   50.        ],\\n       [ 190.21445105,  344.5       ]])'),\n",
        " 'x': 25568250.999999996,\n",
        " 'xy': (25568250.999999996, 0.0),\n",
        " 'y': 0.0,\n",
        " 'zorder': 1}\n"
       ]
      }
     ],
     "prompt_number": 58
    },
    {
     "cell_type": "markdown",
     "metadata": {},
     "source": [
      "### Then, you can mess with stuff. "
     ]
    },
    {
     "cell_type": "code",
     "collapsed": false,
     "input": [
      "# alpha means transparency! \n",
      "\n",
      "f = plt.figure(figsize = (10,5))\n",
      "h = plt.hist(y,color='r',alpha=0.4)\n",
      "\n",
      "# just making some more data that overlaps \n",
      "x = [(((yi -130000000)*-1)+350000000) for yi in y]\n",
      "\n",
      "h2 = plt.hist(x,color='b',alpha=0.4)"
     ],
     "language": "python",
     "metadata": {},
     "outputs": [
      {
       "metadata": {},
       "output_type": "display_data",
       "png": "[encoded data removed]",
       "text": [
        "<matplotlib.figure.Figure at 0x106964a90>"
       ]
      }
     ],
     "prompt_number": 59
    },
    {
     "cell_type": "markdown",
     "metadata": {},
     "source": [
      "## OH.  \n",
      "###This just in: apparently there is a way easier way to get the properties of the patches (rectangles)\n",
      "\n",
      "from this handy tutorial: http://matplotlib.org/users/artists.html"
     ]
    },
    {
     "cell_type": "code",
     "collapsed": false,
     "input": [
      "plt.getp(f.patch)"
     ],
     "language": "python",
     "metadata": {},
     "outputs": [
      {
       "output_type": "stream",
       "stream": "stdout",
       "text": [
        "    aa = False\n",
        "    agg_filter = None\n",
        "    alpha = None\n",
        "    animated = False\n",
        "    antialiased or aa = False\n",
        "    axes = None\n",
        "    bbox = Bbox('array([[ 0.,  0.],\\n       [ 1.,  1.]])')\n",
        "    children = []\n",
        "    clip_box = None\n",
        "    clip_on = True\n",
        "    clip_path = None\n",
        "    contains = None\n",
        "    data_transform = BboxTransformTo(TransformedBbox(Bbox('array([[  0....\n",
        "    ec = (1, 1, 1, 0)\n",
        "    edgecolor or ec = (1, 1, 1, 0)\n",
        "    extents = Bbox('array([[   0.,    0.],\\n       [ 800.,  400....\n",
        "    facecolor or fc = (1, 1, 1, 0)\n",
        "    fc = (1, 1, 1, 0)\n",
        "    figure = Figure(800x400)\n",
        "    fill = True\n",
        "    gid = None\n",
        "    hatch = None\n",
        "    height = 1\n",
        "    label = \n",
        "    linestyle or ls = solid\n",
        "    linewidth or lw = 0.0\n",
        "    ls = solid\n",
        "    lw = 0.0\n",
        "    patch_transform = CompositeGenericTransform(BboxTransformTo(Bbox('ar...\n",
        "    path = Path([[ 0.  0.]  [ 1.  0.]  [ 1.  1.]  [ 0.  1.]  ...\n",
        "    path_effects = []\n",
        "    picker = None\n",
        "    rasterized = None\n",
        "    sketch_params = None\n",
        "    snap = None\n",
        "    transform = CompositeGenericTransform(CompositeGenericTransfor...\n",
        "    transformed_clip_path_and_affine = (None, None)\n",
        "    url = None\n",
        "    verts = [[   0.    0.]  [ 800.    0.]  [ 800.  400.]  [   ...\n",
        "    visible = True\n",
        "    width = 1\n",
        "    window_extent = Bbox('array([[   0.,    0.],\\n       [ 800.,  400....\n",
        "    x = 0\n",
        "    xy = (0, 0)\n",
        "    y = 0\n",
        "    zorder = 1\n"
       ]
      }
     ],
     "prompt_number": 53
    },
    {
     "cell_type": "code",
     "collapsed": false,
     "input": [
      "#oh, and ps\n",
      "\n",
      "f = plt.figure(figsize = (10,5))\n",
      "h = plt.hist(y,color='r',alpha=0.6,hatch='*')\n",
      "\n",
      "t = plt.title('MY HISTOGRAM IS SPANGLED',size=36)\n",
      "#t.properties() #hacky hack hack\n",
      "\n"
     ],
     "language": "python",
     "metadata": {},
     "outputs": [
      {
       "metadata": {},
       "output_type": "display_data",
       "png": "[encoded data removed]",
       "text": [
        "<matplotlib.figure.Figure at 0x106e78a50>"
       ]
      }
     ],
     "prompt_number": 66
    }
   ],
   "metadata": {}
  }
 ]
}