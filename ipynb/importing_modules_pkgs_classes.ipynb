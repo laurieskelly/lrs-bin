{
 "cells": [
  {
   "cell_type": "code",
   "execution_count": 1,
   "metadata": {
    "collapsed": false
   },
   "outputs": [
    {
     "ename": "NameError",
     "evalue": "name 'bs4' is not defined",
     "output_type": "error",
     "traceback": [
      "\u001b[0;31m---------------------------------------------------------------------------\u001b[0m",
      "\u001b[0;31mNameError\u001b[0m                                 Traceback (most recent call last)",
      "\u001b[0;32m<ipython-input-1-ec171ad7bd43>\u001b[0m in \u001b[0;36m<module>\u001b[0;34m()\u001b[0m\n\u001b[1;32m      6\u001b[0m \u001b[0msoup\u001b[0m \u001b[0;34m=\u001b[0m \u001b[0mBeautifulSoup\u001b[0m\u001b[0;34m(\u001b[0m\u001b[0mrequests\u001b[0m\u001b[0;34m.\u001b[0m\u001b[0mget\u001b[0m\u001b[0;34m(\u001b[0m\u001b[0;34m'https://www.reddit.com/'\u001b[0m\u001b[0;34m)\u001b[0m\u001b[0;34m.\u001b[0m\u001b[0mcontent\u001b[0m\u001b[0;34m,\u001b[0m\u001b[0;34m'html.parser'\u001b[0m\u001b[0;34m)\u001b[0m\u001b[0;34m\u001b[0m\u001b[0m\n\u001b[1;32m      7\u001b[0m \u001b[0mthing\u001b[0m \u001b[0;34m=\u001b[0m \u001b[0msoup\u001b[0m\u001b[0;34m.\u001b[0m\u001b[0mfind\u001b[0m\u001b[0;34m(\u001b[0m\u001b[0;34m'div'\u001b[0m\u001b[0;34m)\u001b[0m\u001b[0;34m\u001b[0m\u001b[0m\n\u001b[0;32m----> 8\u001b[0;31m \u001b[0;32mif\u001b[0m \u001b[0mtype\u001b[0m\u001b[0;34m(\u001b[0m\u001b[0mthing\u001b[0m\u001b[0;34m)\u001b[0m \u001b[0;34m==\u001b[0m \u001b[0mbs4\u001b[0m\u001b[0;34m.\u001b[0m\u001b[0melement\u001b[0m\u001b[0;34m.\u001b[0m\u001b[0mTag\u001b[0m\u001b[0;34m:\u001b[0m\u001b[0;34m\u001b[0m\u001b[0m\n\u001b[0m\u001b[1;32m      9\u001b[0m     \u001b[0;32mprint\u001b[0m \u001b[0;34m\"Yep, that's a Tag I reckon\"\u001b[0m\u001b[0;34m\u001b[0m\u001b[0m\n",
      "\u001b[0;31mNameError\u001b[0m: name 'bs4' is not defined"
     ]
    }
   ],
   "source": [
    "# 1. Doesn't work\n",
    "\n",
    "import requests\n",
    "from bs4 import BeautifulSoup # bs4 not imported into the namespace\n",
    "\n",
    "soup = BeautifulSoup(requests.get('https://www.reddit.com/').content,'html.parser')\n",
    "thing = soup.find('div')\n",
    "if type(thing) == bs4.element.Tag:\n",
    "    print \"Yep, that's a Tag I reckon\""
   ]
  },
  {
   "cell_type": "code",
   "execution_count": null,
   "metadata": {
    "collapsed": false
   },
   "outputs": [],
   "source": [
    "# 2. Works, not efficient\n",
    "\n",
    "import requests\n",
    "from bs4 import BeautifulSoup\n",
    "import bs4 # now this should work, but we're importing way more crap than necessary\n",
    "\n",
    "soup = BeautifulSoup(requests.get('https://www.reddit.com/').content,'html.parser')\n",
    "thing = soup.find('div')\n",
    "if type(thing) == bs4.element.Tag:\n",
    "    print \"Yep, that's a Tag I reckon\""
   ]
  },
  {
   "cell_type": "code",
   "execution_count": null,
   "metadata": {
    "collapsed": true
   },
   "outputs": [],
   "source": [
    "# 3. Works, requires some changes in the comparison statement\n",
    "\n",
    "import requests\n",
    "from bs4 import BeautifulSoup\n",
    "from bs4.element import Tag\n",
    "\n",
    "soup = BeautifulSoup(requests.get('https://www.reddit.com/').content,'html.parser')\n",
    "thing = soup.find('div')\n",
    "\n",
    "try: \n",
    "    if type(thing) == bs4.element.Tag: # this will break now\n",
    "        print \"Yep, that's a Tag I reckon\"\n",
    "except NameError:\n",
    "    print 'Broke. Hold on... \\n'\n",
    "    \n",
    "if type(thing) == Tag:\n",
    "    print \"Yep, that's a Tag I reckon\""
   ]
  },
  {
   "cell_type": "code",
   "execution_count": null,
   "metadata": {
    "collapsed": true
   },
   "outputs": [],
   "source": [
    "# 4. Another workable way to do it\n",
    "\n",
    "import requests\n",
    "from bs4 import BeautifulSoup, element # looks nicer up here\n",
    "\n",
    "soup = BeautifulSoup(requests.get('https://www.reddit.com/').content,'html.parser')\n",
    "thing = soup.find('div')\n",
    "\n",
    "if type(thing) == element.Tag: # but this is not very informative now\n",
    "    print \"Yep, that's a Tag I reckon\""
   ]
  },
  {
   "cell_type": "code",
   "execution_count": null,
   "metadata": {
    "collapsed": true
   },
   "outputs": [],
   "source": [
    "# 5. how I would do it\n",
    "import requests\n",
    "from bs4 import BeautifulSoup\n",
    "import bs4.element # a little bit awkward looking here, but... \n",
    "\n",
    "soup = BeautifulSoup(requests.get('https://www.reddit.com/').content,'html.parser')\n",
    "thing = soup.find('div')\n",
    "\n",
    "if type(thing) == bs4.element.Tag: # now I know exactly what type I am comparing as I read\n",
    "    print \"Yep, that's a Tag I reckon\""
   ]
  },
  {
   "cell_type": "code",
   "execution_count": 2,
   "metadata": {
    "collapsed": false
   },
   "outputs": [
    {
     "ename": "ImportError",
     "evalue": "No module named Tag",
     "output_type": "error",
     "traceback": [
      "\u001b[0;31m---------------------------------------------------------------------------\u001b[0m",
      "\u001b[0;31mImportError\u001b[0m                               Traceback (most recent call last)",
      "\u001b[0;32m<ipython-input-2-11bccad4c853>\u001b[0m in \u001b[0;36m<module>\u001b[0;34m()\u001b[0m\n\u001b[0;32m----> 1\u001b[0;31m \u001b[0;32mimport\u001b[0m \u001b[0mbs4\u001b[0m\u001b[0;34m.\u001b[0m\u001b[0melement\u001b[0m\u001b[0;34m.\u001b[0m\u001b[0mTag\u001b[0m\u001b[0;34m\u001b[0m\u001b[0m\n\u001b[0m",
      "\u001b[0;31mImportError\u001b[0m: No module named Tag"
     ]
    }
   ],
   "source": [
    "import bs4.element.Tag"
   ]
  }
 ],
 "metadata": {
  "kernelspec": {
   "display_name": "Python 2",
   "language": "python",
   "name": "python2"
  },
  "language_info": {
   "codemirror_mode": {
    "name": "ipython",
    "version": 2
   },
   "file_extension": ".py",
   "mimetype": "text/x-python",
   "name": "python",
   "nbconvert_exporter": "python",
   "pygments_lexer": "ipython2",
   "version": "2.7.10"
  }
 },
 "nbformat": 4,
 "nbformat_minor": 0
}
