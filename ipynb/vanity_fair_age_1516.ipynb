{
 "cells": [
  {
   "cell_type": "markdown",
   "metadata": {},
   "source": [
    "## age diversity on the 2016 vanity fair 'hollywood issue' cover \n",
    "\n",
    "![](http://media.vanityfair.com/photos/56afc980f5d299ff0d00cc8f/master/w_900,c_limit/FINAL-hollywood-portfolio-2016-vf-cover-annie-leibovitz-jennifer-lawrence-viola-davis-jane-fonda.jpg)"
   ]
  },
  {
   "cell_type": "markdown",
   "metadata": {},
   "source": [
    "<div style=\"display:inline;float:left;\">\n",
    "<h3>2016 Cover</h3>\n",
    "<table style=\"display:inline;float:left;border:none;\">\n",
    "<tr  style=\"border:none\">\n",
    "  <td style=\"border:none\">Saoirse Ronan  <td style=\"border:none\">21\n",
    "<tr  style=\"border:none\">\n",
    "  <td style=\"border:none\">Jennifer Lawrence  <td style=\"border:none\">25\n",
    "<tr  style=\"border:none\">\n",
    "  <td style=\"border:none\">Brie Larson  <td style=\"border:none\">26\n",
    "<tr  style=\"border:none\">\n",
    "  <td style=\"border:none\">Alicia Vikander  <td style=\"border:none\">27\n",
    "<tr  style=\"border:none\">\n",
    "  <td style=\"border:none\">Lupita Nyong'o  <td style=\"border:none\">32\n",
    "<tr  style=\"border:none\">\n",
    "  <td style=\"border:none\">Gugu Mbatha-Raw  <td style=\"border:none\">32\n",
    "<tr  style=\"border:none\">\n",
    "  <td style=\"border:none\">Rachel Weisz  <td style=\"border:none\">45\n",
    "<tr  style=\"border:none\">\n",
    "  <td style=\"border:none\">Cate Blanchett  <td style=\"border:none\">46\n",
    "<tr  style=\"border:none\">\n",
    "  <td style=\"border:none\">Viola Davis  <td style=\"border:none\">50\n",
    "<tr  style=\"border:none\">\n",
    "  <td style=\"border:none\">Charlotte Rampling  <td style=\"border:none\">69\n",
    "<tr  style=\"border:none\">\n",
    "  <td style=\"border:none\">Diane Keaton  <td style=\"border:none\">70\n",
    "<tr  style=\"border:none\">\n",
    "  <td style=\"border:none\">Helen Mirren  <td style=\"border:none\">70\n",
    "<tr  style=\"border:none\">\n",
    "  <td style=\"border:none\">Jane Fonda  <td style=\"border:none\">78\n",
    "<tr style=\"border:none\">\n",
    "<tr style=\"border:none\">\n",
    "  <td style=\"border:none\"><b>mean</b>  <td style=\"border:none\"><b>45</b>\n",
    "<tr  style=\"border:none\">\n",
    "  <td style=\"border:none\"><b>variance</b>  <td style=\"border:none\"><b>380</b>\n",
    "</table>\n",
    "</div>\n",
    "\n",
    "<div style=\"display:inline;float:left;margin-left:20px;margin-top:20px;width:400px;\">\n",
    "<img src=\"http://media.vanityfair.com/photos/56afc980f5d299ff0d00cc8f/master/w_900,c_limit/FINAL-hollywood-portfolio-2016-vf-cover-annie-leibovitz-jennifer-lawrence-viola-davis-jane-fonda.jpg\" width=100%>\n",
    "<img src=\"http://www.mustbe.com.br/wp-content/uploads/2015/02/A2X059111.jpg\" width=90%>\n",
    "<div style=\"width:90%;margin:12px auto;\"><span style=\"font-size:10px;\">* The oldest actor on the 2015 cover (Amy Adams, then 40) would be just the 8th oldest woman featured on the cover this year.</span></div>\n",
    "</div>\n",
    "\n",
    "<div style=\"display:inline;float:left;margin-left:20px\">\n",
    "<h3> 2015 cover </h3>\n",
    "\n",
    "<table style=\"display:inline;float:left;border:none;\">\n",
    "<tr  style=\"border:none\">\n",
    "  <td style=\"border:none\">Miles Teller  <td style=\"border:none\">27\n",
    "<tr  style=\"border:none\">\n",
    "  <td style=\"border:none\">Felicity Jones  <td style=\"border:none\">31\n",
    "<tr  style=\"border:none\">\n",
    "  <td style=\"border:none\">Sienna Miller  <td style=\"border:none\">33\n",
    "<tr  style=\"border:none\">\n",
    "  <td style=\"border:none\">Eddie Redmayne  <td style=\"border:none\">33\n",
    "<tr  style=\"border:none\">\n",
    "  <td style=\"border:none\">Channing Tatum  <td style=\"border:none\">34\n",
    "<tr  style=\"border:none\">\n",
    "  <td style=\"border:none\">David Oyelowo  <td style=\"border:none\">38\n",
    "<tr  style=\"border:none\">\n",
    "  <td style=\"border:none\">Benedict Cumberbatch  <td style=\"border:none\">38\n",
    "<tr  style=\"border:none\">\n",
    "  <td style=\"border:none\">Reese Witherspoon  <td style=\"border:none\">38\n",
    "<tr  style=\"border:none\">\n",
    "  <td style=\"border:none\">Oscar Isaac  <td style=\"border:none\">38\n",
    "<tr  style=\"border:none\">\n",
    "  <td style=\"border:none\">Amy Adams  <td style=\"border:none\">40\n",
    "<tr style=\"border:none\">\n",
    "  <td style=\"border:none\"><b>mean</b>  <td style=\"border:none\"><b>35</b>\n",
    "<tr  style=\"border:none\">\n",
    "  <td style=\"border:none\"><b>variance</b>  <td style=\"border:none\"><b>15</b>\n",
    "</table>\n",
    "</div>\n",
    "\n"
   ]
  },
  {
   "cell_type": "code",
   "execution_count": 63,
   "metadata": {
    "collapsed": false
   },
   "outputs": [
    {
     "name": "stdout",
     "output_type": "stream",
     "text": [
      "2016 cover\n",
      "\n",
      "Saoirse Ronan        21\n",
      "Jennifer Lawrence    25\n",
      "Brie Larson          26\n",
      "Alicia Vikander      27\n",
      "Lupita Nyong'o       32\n",
      "Gugu Mbatha-Raw      32\n",
      "Rachel Weisz         45\n",
      "Cate Blanchett       46\n",
      "Viola Davis          50\n",
      "Charlotte Rampling   69\n",
      "Diane Keaton         70\n",
      "Helen Mirren         70\n",
      "Jane Fonda           78\n",
      "\n",
      "mean                 45 \n",
      "variance            380\n",
      "\n"
     ]
    }
   ],
   "source": [
    "from pprint import pprint\n",
    "#2016\n",
    "ladies_ages = {\n",
    "    \"Jennifer Lawrence\" : 25,\n",
    "    \"Cate Blanchett\" : 46,\n",
    "    \"Saoirse Ronan\" : 21, \n",
    "    \"Brie Larson\" : 26,\n",
    "    \"Charlotte Rampling\" : 69,\n",
    "    \"Jane Fonda\" : 78, \n",
    "    \"Helen Mirren\" : 70, \n",
    "    \"Viola Davis\" : 50, \n",
    "    \"Diane Keaton\" : 70, \n",
    "    \"Alicia Vikander\" : 27, \n",
    "    \"Gugu Mbatha-Raw\" : 32, \n",
    "    \"Rachel Weisz\" : 45, \n",
    "    \"Lupita Nyong'o\" : 32\n",
    "}\n",
    "\n",
    "\n",
    "mean_16 = sum(ladies_ages.values())/len(ladies_ages)\n",
    "var_16 = sum([(val-mean_16)**2 for val in ladies_ages.values()])/len(ladies_ages)\n",
    "\n",
    "print '2016 cover\\n'\n",
    "for lady,age in sorted(ladies_ages.items(), key=lambda x: x[1]):\n",
    "    print '%-20s %d' % (lady,age)\n",
    "print '\\n%-19s  %d \\n%-19s %d\\n' % ('mean', mean_16, 'variance', var_16)"
   ]
  },
  {
   "cell_type": "code",
   "execution_count": 44,
   "metadata": {
    "collapsed": false
   },
   "outputs": [
    {
     "name": "stdout",
     "output_type": "stream",
     "text": [
      "2015 cover\n",
      "\n",
      "Miles Teller         27\n",
      "Felicity Jones       31\n",
      "Sienna Miller        33\n",
      "Eddie Redmayne       33\n",
      "Channing Tatum       34\n",
      "David Oyelowo        38\n",
      "Benedict Cumberbatch 38\n",
      "Reese Witherspoon    38\n",
      "Oscar Isaac          38\n",
      "Amy Adams            40\n",
      "\n",
      "mean                 35 \n",
      "variance             15\n",
      "\n"
     ]
    }
   ],
   "source": [
    "#2015\n",
    "ladies_ages_2015 = {\n",
    "    'Amy Adams' : 40,\n",
    "    'Reese Witherspoon' : 38,\n",
    "    'Felicity Jones' : 31,\n",
    "    'Sienna Miller' : 33,    \n",
    "}\n",
    "lady_sum = sum(ladies_ages_2015.values())/len(ladies_ages_2015)\n",
    "\n",
    "gents_ages_2015 = {\n",
    "    'Channing Tatum' : 34,\n",
    "    'Eddie Redmayne' : 33,\n",
    "    'David Oyelowo' : 38,\n",
    "    'Benedict Cumberbatch' : 38,\n",
    "    'Miles Teller' : 27,\n",
    "    'Oscar Isaac' : 38,\n",
    "}\n",
    "gent_sum = sum(gents_ages_2015.values())/len(gents_ages_2015)\n",
    "\n",
    "all_ages_2015 = ladies_ages_2015.values() + gents_ages_2015.values()\n",
    "mean_15 =  sum(all_ages_2015)/len(all_ages_2015)\n",
    "var_15 = sum([(val-mean_15)**2 for val in all_ages_2015])/len(all_ages_2015)\n",
    "\n",
    "print '2015 cover\\n'\n",
    "\n",
    "ladies_ages_2015.update(gents_ages_2015)\n",
    "people_ages = ladies_ages_2015.copy()\n",
    "\n",
    "for person,age in sorted(people_ages.items(), key=lambda x: x[1]):\n",
    "    print '%-20s %d' % (person,age)\n",
    "\n",
    "print '\\n%-19s  %d \\n%-19s  %d\\n' % ('mean', mean_15, 'variance', var_15)"
   ]
  },
  {
   "cell_type": "code",
   "execution_count": 60,
   "metadata": {
    "collapsed": false
   },
   "outputs": [],
   "source": [
    "def table_printer(age_dict,mean,var):\n",
    "    html = '<table style=\"display:inline;float:left;border:none;margin-left:-2px\">'\n",
    "    \n",
    "    for person,age in sorted(age_dict.items(),key=lambda x:x[1]):\n",
    "        html += '\\n<tr  style=\"border:none\">\\n'\n",
    "        html += '  <td style=\"border:none\">%s' % person\n",
    "        html += '  <td style=\"border:none\">%d' % age\n",
    "    \n",
    "    html += '\\n<tr style=\"border:none\">\\n<tr style=\"border:none\">\\n'\n",
    "    html += '  <td style=\"border:none\"><b>%s</b>' % 'mean'\n",
    "    html += '  <td style=\"border:none\"><b>%d</b>' % mean\n",
    "    html += '\\n<tr  style=\"border:none\">\\n'\n",
    "    html += '  <td style=\"border:none\"><b>%s</b>' % 'variance'\n",
    "    html += '  <td style=\"border:none\"><b>%d</b>' % var\n",
    "    html += '\\n</table>'\n",
    "    \n",
    "    return html"
   ]
  },
  {
   "cell_type": "code",
   "execution_count": 62,
   "metadata": {
    "collapsed": false
   },
   "outputs": [
    {
     "name": "stdout",
     "output_type": "stream",
     "text": [
      "<table style=\"display:inline;float:left;border:none;margin-left:-2px\">\n",
      "<tr  style=\"border:none\">\n",
      "  <td style=\"border:none\">Saoirse Ronan  <td style=\"border:none\">21\n",
      "<tr  style=\"border:none\">\n",
      "  <td style=\"border:none\">Jennifer Lawrence  <td style=\"border:none\">25\n",
      "<tr  style=\"border:none\">\n",
      "  <td style=\"border:none\">Brie Larson  <td style=\"border:none\">26\n",
      "<tr  style=\"border:none\">\n",
      "  <td style=\"border:none\">Alicia Vikander  <td style=\"border:none\">27\n",
      "<tr  style=\"border:none\">\n",
      "  <td style=\"border:none\">Lupita Nyong'o  <td style=\"border:none\">32\n",
      "<tr  style=\"border:none\">\n",
      "  <td style=\"border:none\">Gugu Mbatha-Raw  <td style=\"border:none\">32\n",
      "<tr  style=\"border:none\">\n",
      "  <td style=\"border:none\">Rachel Weisz  <td style=\"border:none\">45\n",
      "<tr  style=\"border:none\">\n",
      "  <td style=\"border:none\">Cate Blanchett  <td style=\"border:none\">46\n",
      "<tr  style=\"border:none\">\n",
      "  <td style=\"border:none\">Viola Davis  <td style=\"border:none\">50\n",
      "<tr  style=\"border:none\">\n",
      "  <td style=\"border:none\">Charlotte Rampling  <td style=\"border:none\">69\n",
      "<tr  style=\"border:none\">\n",
      "  <td style=\"border:none\">Diane Keaton  <td style=\"border:none\">70\n",
      "<tr  style=\"border:none\">\n",
      "  <td style=\"border:none\">Helen Mirren  <td style=\"border:none\">70\n",
      "<tr  style=\"border:none\">\n",
      "  <td style=\"border:none\">Jane Fonda  <td style=\"border:none\">78\n",
      "<tr style=\"border:none\">\n",
      "<tr style=\"border:none\">\n",
      "  <td style=\"border:none\"><b>mean</b>  <td style=\"border:none\"><b>45</b>\n",
      "<tr  style=\"border:none\">\n",
      "  <td style=\"border:none\"><b>variance</b>  <td style=\"border:none\"><b>380</b>\n",
      "</table>\n"
     ]
    }
   ],
   "source": [
    "print table_printer(ladies_ages,mean_16,var_16)"
   ]
  }
 ],
 "metadata": {
  "kernelspec": {
   "display_name": "Python 2",
   "language": "python",
   "name": "python2"
  },
  "language_info": {
   "codemirror_mode": {
    "name": "ipython",
    "version": 2
   },
   "file_extension": ".py",
   "mimetype": "text/x-python",
   "name": "python",
   "nbconvert_exporter": "python",
   "pygments_lexer": "ipython2",
   "version": "2.7.10"
  }
 },
 "nbformat": 4,
 "nbformat_minor": 0
}
