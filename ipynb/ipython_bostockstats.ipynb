{
 "cells": [
  {
   "cell_type": "code",
   "execution_count": 83,
   "metadata": {
    "collapsed": false,
    "scrolled": true
   },
   "outputs": [
    {
     "data": {
      "text/plain": [
       "[{u'days': [0, 0, 0, 0, 0, 0, 0], u'total': 0, u'week': 1429401600},\n",
       " {u'days': [0, 0, 0, 0, 0, 0, 0], u'total': 0, u'week': 1430006400},\n",
       " {u'days': [0, 0, 0, 1, 0, 0, 0], u'total': 1, u'week': 1430611200},\n",
       " {u'days': [0, 0, 1, 0, 0, 0, 0], u'total': 1, u'week': 1431216000},\n",
       " {u'days': [0, 0, 1, 0, 0, 0, 0], u'total': 1, u'week': 1431820800},\n",
       " {u'days': [0, 0, 0, 0, 0, 0, 0], u'total': 0, u'week': 1432425600},\n",
       " {u'days': [0, 0, 0, 0, 0, 0, 0], u'total': 0, u'week': 1433030400},\n",
       " {u'days': [0, 0, 0, 0, 0, 0, 0], u'total': 0, u'week': 1433635200},\n",
       " {u'days': [0, 0, 0, 0, 0, 0, 0], u'total': 0, u'week': 1434240000},\n",
       " {u'days': [0, 0, 0, 0, 0, 0, 0], u'total': 0, u'week': 1434844800},\n",
       " {u'days': [0, 0, 0, 0, 0, 2, 0], u'total': 2, u'week': 1435449600},\n",
       " {u'days': [0, 0, 0, 0, 0, 0, 0], u'total': 0, u'week': 1436054400},\n",
       " {u'days': [0, 0, 0, 0, 0, 0, 0], u'total': 0, u'week': 1436659200},\n",
       " {u'days': [0, 0, 0, 0, 0, 0, 0], u'total': 0, u'week': 1437264000},\n",
       " {u'days': [0, 0, 0, 0, 0, 0, 0], u'total': 0, u'week': 1437868800},\n",
       " {u'days': [0, 0, 0, 0, 0, 0, 0], u'total': 0, u'week': 1438473600},\n",
       " {u'days': [0, 0, 0, 0, 0, 0, 0], u'total': 0, u'week': 1439078400},\n",
       " {u'days': [0, 0, 0, 0, 0, 1, 0], u'total': 1, u'week': 1439683200},\n",
       " {u'days': [0, 0, 0, 0, 0, 0, 0], u'total': 0, u'week': 1440288000},\n",
       " {u'days': [0, 0, 0, 0, 0, 0, 0], u'total': 0, u'week': 1440892800},\n",
       " {u'days': [0, 0, 0, 1, 0, 0, 0], u'total': 1, u'week': 1441497600},\n",
       " {u'days': [0, 0, 0, 0, 0, 1, 0], u'total': 1, u'week': 1442102400},\n",
       " {u'days': [0, 0, 0, 0, 0, 0, 0], u'total': 0, u'week': 1442707200},\n",
       " {u'days': [0, 0, 0, 0, 0, 0, 0], u'total': 0, u'week': 1443312000},\n",
       " {u'days': [0, 0, 0, 0, 0, 0, 0], u'total': 0, u'week': 1443916800},\n",
       " {u'days': [0, 0, 0, 0, 0, 0, 0], u'total': 0, u'week': 1444521600},\n",
       " {u'days': [0, 0, 0, 5, 5, 2, 1], u'total': 13, u'week': 1445126400},\n",
       " {u'days': [6, 0, 0, 0, 0, 1, 0], u'total': 7, u'week': 1445731200},\n",
       " {u'days': [0, 1, 0, 0, 0, 0, 0], u'total': 1, u'week': 1446336000},\n",
       " {u'days': [2, 1, 1, 1, 1, 1, 0], u'total': 7, u'week': 1446940800},\n",
       " {u'days': [0, 0, 0, 0, 0, 0, 0], u'total': 0, u'week': 1447545600},\n",
       " {u'days': [0, 0, 0, 1, 0, 0, 0], u'total': 1, u'week': 1448150400},\n",
       " {u'days': [0, 0, 0, 0, 0, 0, 0], u'total': 0, u'week': 1448755200},\n",
       " {u'days': [0, 0, 0, 0, 0, 1, 0], u'total': 1, u'week': 1449360000},\n",
       " {u'days': [0, 1, 0, 0, 1, 0, 0], u'total': 2, u'week': 1449964800},\n",
       " {u'days': [0, 0, 0, 0, 0, 0, 0], u'total': 0, u'week': 1450569600},\n",
       " {u'days': [0, 0, 0, 0, 0, 0, 1], u'total': 1, u'week': 1451174400},\n",
       " {u'days': [0, 0, 0, 0, 0, 0, 0], u'total': 0, u'week': 1451779200},\n",
       " {u'days': [0, 1, 0, 0, 0, 0, 0], u'total': 1, u'week': 1452384000},\n",
       " {u'days': [0, 0, 0, 1, 0, 0, 0], u'total': 1, u'week': 1452988800},\n",
       " {u'days': [0, 0, 0, 1, 0, 0, 0], u'total': 1, u'week': 1453593600},\n",
       " {u'days': [0, 1, 0, 0, 0, 0, 0], u'total': 1, u'week': 1454198400},\n",
       " {u'days': [0, 0, 0, 0, 2, 0, 2], u'total': 4, u'week': 1454803200},\n",
       " {u'days': [0, 0, 0, 2, 0, 0, 0], u'total': 2, u'week': 1455408000},\n",
       " {u'days': [0, 0, 0, 0, 0, 0, 0], u'total': 0, u'week': 1456012800},\n",
       " {u'days': [0, 0, 0, 0, 0, 0, 0], u'total': 0, u'week': 1456617600},\n",
       " {u'days': [0, 0, 0, 0, 0, 0, 0], u'total': 0, u'week': 1457222400},\n",
       " {u'days': [0, 0, 0, 0, 0, 0, 0], u'total': 0, u'week': 1457827200},\n",
       " {u'days': [0, 0, 0, 0, 0, 0, 0], u'total': 0, u'week': 1458432000},\n",
       " {u'days': [0, 0, 0, 0, 0, 0, 0], u'total': 0, u'week': 1459036800},\n",
       " {u'days': [0, 0, 0, 0, 0, 0, 0], u'total': 0, u'week': 1459641600},\n",
       " {u'days': [0, 0, 0, 0, 0, 0, 0], u'total': 0, u'week': 1460246400}]"
      ]
     },
     "execution_count": 83,
     "metadata": {},
     "output_type": "execute_result"
    }
   ],
   "source": [
    "import requests\n",
    "\n",
    "#use requests to retrieve information from API and display text\n",
    "commit_data = requests.get('https://api.github.com/repos/mbostock/d3/stats/commit_activity')\n",
    "commits = commit_data.json()\n",
    "commits\n"
   ]
  },
  {
   "cell_type": "code",
   "execution_count": 99,
   "metadata": {
    "collapsed": false
   },
   "outputs": [
    {
     "data": {
      "text/plain": [
       "'10/18/2015 00:00:00'"
      ]
     },
     "execution_count": 99,
     "metadata": {},
     "output_type": "execute_result"
    }
   ],
   "source": [
    "#convert timestamp\n",
    "import time\n",
    "time.strftime('%m/%d/%Y %H:%M:%S', time.gmtime(1445126400))\n"
   ]
  },
  {
   "cell_type": "code",
   "execution_count": 104,
   "metadata": {
    "collapsed": false
   },
   "outputs": [
    {
     "name": "stderr",
     "output_type": "stream",
     "text": [
      "[TerminalIPythonApp] WARNING | Subcommand `ipython nbconvert` is deprecated and will be removed in future versions.\n",
      "[TerminalIPythonApp] WARNING | You likely want to use `jupyter nbconvert`... continue in 5 sec. Press Ctrl-C to quit now.\n",
      "[NbConvertApp] Converting notebook ipython_bostockstats.ipynb to html\n",
      "[NbConvertApp] Writing 195667 bytes to ipython_bostockstats.html\n"
     ]
    }
   ],
   "source": [
    "%%bash\n",
    "ipython nbconvert 'ipython_bostockstats.ipynb'"
   ]
  },
  {
   "cell_type": "code",
   "execution_count": null,
   "metadata": {
    "collapsed": true
   },
   "outputs": [],
   "source": []
  }
 ],
 "metadata": {
  "kernelspec": {
   "display_name": "Python 2",
   "language": "python",
   "name": "python2"
  },
  "language_info": {
   "codemirror_mode": {
    "name": "ipython",
    "version": 2
   },
   "file_extension": ".py",
   "mimetype": "text/x-python",
   "name": "python",
   "nbconvert_exporter": "python",
   "pygments_lexer": "ipython2",
   "version": "2.7.10"
  }
 },
 "nbformat": 4,
 "nbformat_minor": 0
}
