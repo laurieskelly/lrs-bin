{
 "metadata": {
  "name": "",
  "signature": "sha256:c3cb17ed6503666c96f99e1861027165c6823bb1444f32f1a50b578899fdc577"
 },
 "nbformat": 3,
 "nbformat_minor": 0,
 "worksheets": [
  {
   "cells": [
    {
     "cell_type": "code",
     "collapsed": false,
     "input": [
      "from bs4 import BeautifulSoup\n",
      "from pprint import pprint\n",
      "\n",
      "with open('holyshitballsmom.html','r') as html: \n",
      "    soup = BeautifulSoup(html)\n",
      "    \n",
      "comment_thing = soup.find(class_=\"nestedlisting\")\n",
      "\n",
      "comments = [c for c in comment_thing.findAll(class_=\"entry\") if c.find(class_='md')]\n",
      "#print len(comments)"
     ],
     "language": "python",
     "metadata": {},
     "outputs": [],
     "prompt_number": 156
    },
    {
     "cell_type": "code",
     "collapsed": false,
     "input": [
      "linkylist = {}\n",
      "\n",
      "for comment in comments: \n",
      "    score = comment.find(class_='score likes')\n",
      "    comm = comment.find(class_='md')\n",
      "    a = comm.find('a')\n",
      "    if a and 'youtube' in a.get('href'):    \n",
      "        score = int(score.text.replace(' points',''))\n",
      "        c = comm.find('p')\n",
      "        if a.text in c.text:\n",
      "            linkylist[a.get('href')]=(score,c.text.replace(a.get('href'),'').strip())\n",
      "        else:\n",
      "            linkylist[a.text]=(score,c.text.strip())\n",
      "        \n",
      "#pprint(linkylist)"
     ],
     "language": "python",
     "metadata": {},
     "outputs": [],
     "prompt_number": 154
    },
    {
     "cell_type": "code",
     "collapsed": false,
     "input": [
      "import operator\n",
      "\n",
      "sorted_linkylist = sorted(linkylist.iteritems(), key=operator.itemgetter(1), reverse=True)\n",
      "#print sorted_linkylist\n",
      "\n",
      "tbl = '<table><th>Link<th>Score<th>Comment'\n",
      "for link in sorted_linkylist:\n",
      "    tbl += '<tr><td><a href='+link[0]+'>link</a><td>'+str(link[1][0])+'<td>'+link[1][1]+'</tr>'\n",
      "tbl += '</table>'\n",
      "\n",
      "with open('cc_readme.md','w') as outfile:\n",
      "    outfile.write(tbl)"
     ],
     "language": "python",
     "metadata": {},
     "outputs": [],
     "prompt_number": 159
    },
    {
     "cell_type": "markdown",
     "metadata": {},
     "source": [
      "##Impromptu duets between civilians and celebrities\n",
      "\n",
      "scraped from [this reddit thread](http://www.reddit.com/r/videos/comments/2d9bue/this_girl_will_never_ever_forget_this_moment/)  \n",
      "\n",
      "\n",
      "<table><th>Link<th>Score<th>Comment<tr><td><a href=http://www.youtube.com/watch?v=Z-t4POnosio>link</a><td>397<td>Then there is this one</tr><tr><td><a href=https://www.youtube.com/watch?v=FTq-TQ3Sldc>link</a><td>323<td>I really like this one, it's also a little different.</tr><tr><td><a href=https://www.youtube.com/watch?v=xesAJfEe3mQ#t=20s>link</a><td>203<td>This clip is probably my favorite fan-on-stage clip. Dude crowd surfs to the front, gets let on stage, and plays bass for the entire song while looking totally natural. Too funny.</tr><tr><td><a href=https://www.youtube.com/watch?v=a_QqfEYNRlc>link</a><td>156<td>Neither is this one.</tr><tr><td><a href=https://www.youtube.com/watch?v=jGy5eKKYiG0>link</a><td>128<td>I love this one!</tr><tr><td><a href=https://www.youtube.com/watch?v=OQobVuUxOuQ>link</a><td>99<td>What about this Hayley Williams vid?</tr><tr><td><a href=http://m.youtube.com/watch?v=IgwkiF-zARM>link</a><td>58<td>This one's my favorite...</tr><tr><td><a href=https://www.youtube.com/watch?v=uAzE5ssZddg>link</a><td>55<td>This is the best personally..</tr><tr><td><a href=https://www.youtube.com/watch?v=FpXm_sXcc_Y&t=132s>link</a><td>51<td>How about this one?</tr><tr><td><a href=https://www.youtube.com/watch?v=enHdvA4leCM>link</a><td>47<td>He appeared on the TV show 'The Voice' fairly recently</tr><tr><td><a href=https://www.youtube.com/watch?v=SBgZNINN6MU>link</a><td>45<td>This one is kinda the opposite, but i like it</tr><tr><td><a href=https://www.youtube.com/watch?v=rmv1VhrtYRo>link</a><td>43<td>This Karen chick got up on stage and kinda impressed the audience.</tr><tr><td><a href=https://www.youtube.com/watch?v=6pKqK2WtsA4>link</a><td>19<td>Avenged Sevenfold does this as well</tr><tr><td><a href=https://www.youtube.com/watch?v=B5eT6TaEtPI>link</a><td>17<td></tr><tr><td><a href=https://www.youtube.com/watch?v=Z2tmp4lIRgA>link</a><td>11<td>some more piano</tr><tr><td><a href=https://www.youtube.com/watch?v=o6TKpkY4WcM>link</a><td>10<td>Michael Buble did a similar thing and had a duet with a 15 year old:</tr><tr><td><a href=https://www.youtube.com/watch?v=Bceuh8c-4kg>link</a><td>8<td>My personal favorite video of random dude doing musical stuff with other more famous dude who does musical stuff</tr><tr><td><a href=https://www.youtube.com/watch?v=AczIYDZqOCw>link</a><td>4<td>More Panther.  Seem like pretty cool guys.</tr></table>"
     ]
    }
   ],
   "metadata": {}
  }
 ]
}